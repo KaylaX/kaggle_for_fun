{
 "cells": [
  {
   "cell_type": "code",
   "execution_count": 1,
   "id": "3ae48c0b",
   "metadata": {},
   "outputs": [],
   "source": [
    "import pandas as pd\n",
    "import numpy as np\n",
    "from scipy.stats import mannwhitneyu"
   ]
  },
  {
   "cell_type": "markdown",
   "id": "d4ba988e",
   "metadata": {},
   "source": [
    "#### Resources <br> https://medium.com/@RenatoFillinich/ab-testing-with-python-e5964dd66143 <br>https://www.linkedin.com/pulse/automating-random-group-assignment-hypothesis-testing-england-ph-d <br>https://github.com/renatofillinich/ab_test_guide_in_python/blob/master/AB%20testing%20with%20Python.ipynb"
   ]
  },
  {
   "cell_type": "code",
   "execution_count": 2,
   "id": "6aea2375",
   "metadata": {},
   "outputs": [],
   "source": [
    "datapath=r'sellerdata_lp_req_v5.csv'"
   ]
  },
  {
   "cell_type": "code",
   "execution_count": 3,
   "id": "cd25ad95",
   "metadata": {},
   "outputs": [],
   "source": [
    "df=pd.read_csv(datapath)"
   ]
  },
  {
   "cell_type": "code",
   "execution_count": 4,
   "id": "9388c9bb",
   "metadata": {},
   "outputs": [
    {
     "data": {
      "text/plain": [
       "Index(['merchant_customer_id', 'has_lp_buyable_asin_count',\n",
       "       'cn_based_buyable_asin_count', 'sas_managed_buyable_asin_count',\n",
       "       'hardlines_buyable_asin_count', 'softlines_buyable_asin_count',\n",
       "       'consumables_buyable_asin_count',\n",
       "       'hardlines_oct_21_new_selection_count',\n",
       "       'softlines_oct_21_new_selection_count',\n",
       "       'consumables_oct_21_new_selection_count', 'oct_21_new_selection_count',\n",
       "       'hardlines_sep_21_new_selection_count',\n",
       "       'softlines_sep_21_new_selection_count',\n",
       "       'consumables_sep_21_new_selection_count', 'sep_21_new_selection_count',\n",
       "       'hardlines_aug_21_new_selection_count',\n",
       "       'softlines_aug_21_new_selection_count',\n",
       "       'consumables_aug_21_new_selection_count', 'aug_21_new_selection_count',\n",
       "       'seller_brand_owner_selection_count'],\n",
       "      dtype='object')"
      ]
     },
     "execution_count": 4,
     "metadata": {},
     "output_type": "execute_result"
    }
   ],
   "source": [
    "df.columns"
   ]
  },
  {
   "cell_type": "code",
   "execution_count": 5,
   "id": "71f5a978",
   "metadata": {},
   "outputs": [],
   "source": [
    "pd.options.display.max_columns=30"
   ]
  },
  {
   "cell_type": "code",
   "execution_count": 6,
   "id": "970db43a",
   "metadata": {},
   "outputs": [
    {
     "data": {
      "text/plain": [
       "38679"
      ]
     },
     "execution_count": 6,
     "metadata": {},
     "output_type": "execute_result"
    }
   ],
   "source": [
    "len(df['merchant_customer_id'].unique())"
   ]
  },
  {
   "cell_type": "code",
   "execution_count": 7,
   "id": "122b324a",
   "metadata": {},
   "outputs": [],
   "source": [
    "#df.drop_duplicates(subset=['ASIN'], keep='last',inplace=True)"
   ]
  },
  {
   "cell_type": "code",
   "execution_count": 8,
   "id": "0ee11027",
   "metadata": {},
   "outputs": [
    {
     "data": {
      "text/plain": [
       "(38679, 20)"
      ]
     },
     "execution_count": 8,
     "metadata": {},
     "output_type": "execute_result"
    }
   ],
   "source": [
    "df.shape"
   ]
  },
  {
   "cell_type": "code",
   "execution_count": 10,
   "id": "a77713e4",
   "metadata": {},
   "outputs": [],
   "source": [
    "df=pd.get_dummies(df, prefix_sep='_', drop_first=True)"
   ]
  },
  {
   "cell_type": "code",
   "execution_count": 12,
   "id": "260c2c39",
   "metadata": {},
   "outputs": [
    {
     "data": {
      "text/plain": [
       "Index(['merchant_customer_id', 'has_lp_buyable_asin_count',\n",
       "       'cn_based_buyable_asin_count', 'sas_managed_buyable_asin_count',\n",
       "       'hardlines_buyable_asin_count', 'softlines_buyable_asin_count',\n",
       "       'consumables_buyable_asin_count',\n",
       "       'hardlines_oct_21_new_selection_count',\n",
       "       'softlines_oct_21_new_selection_count',\n",
       "       'consumables_oct_21_new_selection_count', 'oct_21_new_selection_count',\n",
       "       'hardlines_sep_21_new_selection_count',\n",
       "       'softlines_sep_21_new_selection_count',\n",
       "       'consumables_sep_21_new_selection_count', 'sep_21_new_selection_count',\n",
       "       'hardlines_aug_21_new_selection_count',\n",
       "       'softlines_aug_21_new_selection_count',\n",
       "       'consumables_aug_21_new_selection_count', 'aug_21_new_selection_count',\n",
       "       'seller_brand_owner_selection_count'],\n",
       "      dtype='object')"
      ]
     },
     "execution_count": 12,
     "metadata": {},
     "output_type": "execute_result"
    }
   ],
   "source": [
    "df.columns"
   ]
  },
  {
   "cell_type": "code",
   "execution_count": 13,
   "id": "79ca9ae7",
   "metadata": {},
   "outputs": [],
   "source": [
    "def ecdf(n):\n",
    "    x=np.sort(n)\n",
    "    y=np.linspace(1,len(n),num=len(n),endpoint=True)/len(n)\n",
    "    return x, y"
   ]
  },
  {
   "cell_type": "code",
   "execution_count": 14,
   "id": "a70c80dc",
   "metadata": {},
   "outputs": [],
   "source": [
    "x,y=ecdf(df['has_lp_buyable_asin_count'])"
   ]
  },
  {
   "cell_type": "code",
   "execution_count": 15,
   "id": "7b990888",
   "metadata": {},
   "outputs": [],
   "source": [
    "import matplotlib as mpl\n",
    "import matplotlib.pyplot as plt\n",
    "import seaborn as sns"
   ]
  },
  {
   "cell_type": "code",
   "execution_count": 16,
   "id": "a4899b91",
   "metadata": {},
   "outputs": [
    {
     "data": {
      "image/png": "[encoded data removed]",
      "text/plain": [
       "<Figure size 432x288 with 1 Axes>"
      ]
     },
     "metadata": {
      "needs_background": "light"
     },
     "output_type": "display_data"
    }
   ],
   "source": [
    "_ = plt.plot(x, y, marker='.', linestyle='none')\n",
    "_ = plt.xlabel('percent of has LP buyable')\n",
    "_ = plt.ylabel('Empirical CDF')\n",
    "plt.margins(0.02) # Keeps data off plot edges\n",
    "plt.show()"
   ]
  },
  {
   "cell_type": "code",
   "execution_count": 17,
   "id": "96b1bcac",
   "metadata": {},
   "outputs": [],
   "source": [
    "df['total_buyable_asin_count']=df['hardlines_buyable_asin_count']+df['softlines_buyable_asin_count']+df['consumables_buyable_asin_count']"
   ]
  },
  {
   "cell_type": "code",
   "execution_count": 18,
   "id": "75ac42f9",
   "metadata": {},
   "outputs": [
    {
     "data": {
      "text/plain": [
       "array([1.31000000e+02, 2.36000000e+02, 3.63000000e+02, 5.28000000e+02,\n",
       "       7.41000000e+02, 1.01600000e+03, 1.82900000e+03, 3.31700000e+03,\n",
       "       5.63200000e+03, 9.23900000e+03, 1.17740000e+04, 1.50408000e+04,\n",
       "       2.02160000e+04, 2.80938000e+04, 4.71103000e+04, 1.09938116e+06])"
      ]
     },
     "execution_count": 18,
     "metadata": {},
     "output_type": "execute_result"
    }
   ],
   "source": [
    "np.percentile(df['total_buyable_asin_count'], \n",
    "              [5,10,15,20,25,30,40,50,60,70,75,80,85,90,95,99.9]) \n",
    "# limit to sellers who have set up at least one ASIN in the past 3 months \n",
    "# limit to more active sellers"
   ]
  },
  {
   "cell_type": "code",
   "execution_count": 19,
   "id": "65d1984d",
   "metadata": {},
   "outputs": [
    {
     "data": {
      "text/plain": [
       "merchant_customer_id                     -9215074959002327115\n",
       "has_lp_buyable_asin_count                           176381411\n",
       "cn_based_buyable_asin_count                         155150463\n",
       "sas_managed_buyable_asin_count                       58964372\n",
       "hardlines_buyable_asin_count                        377953655\n",
       "softlines_buyable_asin_count                        196032594\n",
       "consumables_buyable_asin_count                        9805320\n",
       "hardlines_oct_21_new_selection_count                 27973004\n",
       "softlines_oct_21_new_selection_count                 14225101\n",
       "consumables_oct_21_new_selection_count                 536780\n",
       "oct_21_new_selection_count                           42734885\n",
       "hardlines_sep_21_new_selection_count                 42134061\n",
       "softlines_sep_21_new_selection_count                 20165858\n",
       "consumables_sep_21_new_selection_count                 661062\n",
       "sep_21_new_selection_count                           62960981\n",
       "hardlines_aug_21_new_selection_count                 41340374\n",
       "softlines_aug_21_new_selection_count                 19918465\n",
       "consumables_aug_21_new_selection_count                 591282\n",
       "aug_21_new_selection_count                           61850121\n",
       "seller_brand_owner_selection_count                  203947903\n",
       "total_buyable_asin_count                            583791569\n",
       "dtype: int64"
      ]
     },
     "execution_count": 19,
     "metadata": {},
     "output_type": "execute_result"
    }
   ],
   "source": [
    "df.sum()"
   ]
  },
  {
   "cell_type": "code",
   "execution_count": 20,
   "id": "78922e4b",
   "metadata": {},
   "outputs": [
    {
     "data": {
      "image/png": "[encoded data removed]",
      "text/plain": [
       "<Figure size 1440x576 with 1 Axes>"
      ]
     },
     "metadata": {
      "needs_background": "light"
     },
     "output_type": "display_data"
    }
   ],
   "source": [
    "plt.figure(figsize=[20,8])\n",
    "plt.hist(df['total_buyable_asin_count'], bins=1500, density=True,alpha=0.7)\n",
    "#plt.xticks(np.linspace(-0.35,0.42,num=50).round(2),rotation=50)\n",
    "plt.title ('total_buyable_asin_count')\n",
    "plt.xlim(0,300000)\n",
    "plt.show()"
   ]
  },
  {
   "cell_type": "code",
   "execution_count": 21,
   "id": "63578275",
   "metadata": {},
   "outputs": [],
   "source": [
    "# limit to sellers who are not in the top 5 percentile in terms of total buyable asin count\n",
    "df2=df[(df['total_buyable_asin_count']<np.percentile(df['total_buyable_asin_count'],98))]"
   ]
  },
  {
   "cell_type": "code",
   "execution_count": 22,
   "id": "ef1fc91f",
   "metadata": {},
   "outputs": [
    {
     "data": {
      "text/plain": [
       "merchant_customer_id                     -9215120995055914435\n",
       "has_lp_buyable_asin_count                            61016451\n",
       "cn_based_buyable_asin_count                          58619957\n",
       "sas_managed_buyable_asin_count                        5596580\n",
       "hardlines_buyable_asin_count                        219045801\n",
       "softlines_buyable_asin_count                        104936879\n",
       "consumables_buyable_asin_count                        7071198\n",
       "hardlines_oct_21_new_selection_count                 21888804\n",
       "softlines_oct_21_new_selection_count                 11191059\n",
       "consumables_oct_21_new_selection_count                 484993\n",
       "oct_21_new_selection_count                           33564856\n",
       "hardlines_sep_21_new_selection_count                 32686152\n",
       "softlines_sep_21_new_selection_count                 15546984\n",
       "consumables_sep_21_new_selection_count                 545512\n",
       "sep_21_new_selection_count                           48778648\n",
       "hardlines_aug_21_new_selection_count                 31010427\n",
       "softlines_aug_21_new_selection_count                 14754566\n",
       "consumables_aug_21_new_selection_count                 509775\n",
       "aug_21_new_selection_count                           46274768\n",
       "seller_brand_owner_selection_count                   63437133\n",
       "total_buyable_asin_count                            331053878\n",
       "dtype: int64"
      ]
     },
     "execution_count": 22,
     "metadata": {},
     "output_type": "execute_result"
    }
   ],
   "source": [
    "df2.sum()"
   ]
  },
  {
   "cell_type": "code",
   "execution_count": 23,
   "id": "01c57e6c",
   "metadata": {},
   "outputs": [
    {
     "data": {
      "text/plain": [
       "(37905, 21)"
      ]
     },
     "execution_count": 23,
     "metadata": {},
     "output_type": "execute_result"
    }
   ],
   "source": [
    "df2.shape"
   ]
  },
  {
   "cell_type": "code",
   "execution_count": 24,
   "id": "658a26f3",
   "metadata": {},
   "outputs": [],
   "source": [
    "# need 352,415 ASINs in each group to detect 10% diff"
   ]
  },
  {
   "cell_type": "code",
   "execution_count": 29,
   "id": "16aca897",
   "metadata": {},
   "outputs": [],
   "source": [
    "size_of_n=300\n",
    "size_of_N=2*size_of_n"
   ]
  },
  {
   "cell_type": "code",
   "execution_count": 30,
   "id": "f2f4584f",
   "metadata": {},
   "outputs": [],
   "source": [
    "list_of_columns=['has_lp_buyable_asin_count',\n",
    "       'cn_based_buyable_asin_count', 'sas_managed_buyable_asin_count',\n",
    "       'hardlines_buyable_asin_count', 'softlines_buyable_asin_count',\n",
    "       'consumables_buyable_asin_count',\n",
    "       'hardlines_oct_21_new_selection_count',\n",
    "       'softlines_oct_21_new_selection_count',\n",
    "       'consumables_oct_21_new_selection_count',\n",
    "       'hardlines_sep_21_new_selection_count',\n",
    "       'softlines_sep_21_new_selection_count',\n",
    "       'consumables_sep_21_new_selection_count',\n",
    "       'hardlines_aug_21_new_selection_count',\n",
    "       'softlines_aug_21_new_selection_count',\n",
    "       'consumables_aug_21_new_selection_count',\n",
    "       'seller_brand_owner_selection_count'] \n",
    "\n",
    "# factors that you want to balance"
   ]
  },
  {
   "cell_type": "code",
   "execution_count": 31,
   "id": "20dc6dbf",
   "metadata": {},
   "outputs": [],
   "source": [
    "#create a list for max relative diff\n",
    "min_p_value_list=[]"
   ]
  },
  {
   "cell_type": "code",
   "execution_count": 32,
   "id": "40bbd5a6",
   "metadata": {},
   "outputs": [],
   "source": [
    "for i in range(1000):\n",
    "    df2=df.sample(n=size_of_N,replace=False,random_state=i)\n",
    "    treatment_group=df2.iloc[:size_of_n]\n",
    "    control_group=df2.iloc[size_of_n:]\n",
    "    significance_list=[]\n",
    "    for column in list_of_columns:\n",
    "        significance=round(mannwhitneyu(treatment_group[column],control_group[column])[1],3)\n",
    "        significance_list.append(significance)\n",
    "    min_p_value=min(significance_list)\n",
    "    min_p_value_list.append(min_p_value)"
   ]
  },
  {
   "cell_type": "code",
   "execution_count": 33,
   "id": "7fbcda30",
   "metadata": {},
   "outputs": [
    {
     "name": "stdout",
     "output_type": "stream",
     "text": [
      "0.239\n"
     ]
    }
   ],
   "source": [
    "maximum_p_value=max(min_p_value_list)\n",
    "print(maximum_p_value)"
   ]
  },
  {
   "cell_type": "code",
   "execution_count": 34,
   "id": "107f7571",
   "metadata": {},
   "outputs": [],
   "source": [
    "index=0\n",
    "for i in range(len(min_p_value_list)):\n",
    "    if maximum_p_value != min_p_value_list[i]:\n",
    "        index +=1\n",
    "    else:\n",
    "        break"
   ]
  },
  {
   "cell_type": "code",
   "execution_count": 35,
   "id": "1f73cd90",
   "metadata": {},
   "outputs": [
    {
     "name": "stdout",
     "output_type": "stream",
     "text": [
      "251\n"
     ]
    }
   ],
   "source": [
    "random_state_number=index\n",
    "print(random_state_number)"
   ]
  },
  {
   "cell_type": "code",
   "execution_count": 36,
   "id": "2dc60899",
   "metadata": {},
   "outputs": [],
   "source": [
    "df3=df2.sample(n=size_of_N,replace=False,random_state=random_state_number)"
   ]
  },
  {
   "cell_type": "code",
   "execution_count": 37,
   "id": "3df45419",
   "metadata": {},
   "outputs": [],
   "source": [
    "treatment_group=df3.iloc[:size_of_n]\n",
    "control_group=df3.iloc[size_of_n:]"
   ]
  },
  {
   "cell_type": "code",
   "execution_count": 38,
   "id": "7a232b0e",
   "metadata": {},
   "outputs": [],
   "source": [
    "treatment_median_list=[]\n",
    "control_median_list=[]\n",
    "significance_list=[]\n",
    "\n",
    "for column in list_of_columns:\n",
    "    treatment_median=np.median(treatment_group[column])\n",
    "    treatment_median_list.append(treatment_median)\n",
    "    control_median=np.median(control_group[column])\n",
    "    control_median_list.append(control_median)\n",
    "    significance=round(mannwhitneyu(treatment_group[column],control_group[column])[1],3)\n",
    "    significance_list.append(significance)"
   ]
  },
  {
   "cell_type": "code",
   "execution_count": 39,
   "id": "5d5f8fbf",
   "metadata": {},
   "outputs": [],
   "source": [
    "results_df=pd.DataFrame({'Variable':list_of_columns,\n",
    "                         'Treatment_Median':treatment_median_list,\n",
    "                         'Control_Median':control_median_list,\n",
    "                         'p_value':significance_list})"
   ]
  },
  {
   "cell_type": "code",
   "execution_count": 40,
   "id": "6121a248",
   "metadata": {},
   "outputs": [
    {
     "name": "stdout",
     "output_type": "stream",
     "text": [
      "                                  Variable  Treatment_Median  Control_Median  \\\n",
      "0                has_lp_buyable_asin_count               0.0             0.0   \n",
      "1              cn_based_buyable_asin_count               0.0             0.0   \n",
      "2           sas_managed_buyable_asin_count               0.0             0.0   \n",
      "3             hardlines_buyable_asin_count            1368.5          1148.0   \n",
      "4             softlines_buyable_asin_count              15.0            18.0   \n",
      "5           consumables_buyable_asin_count               0.0             0.0   \n",
      "6     hardlines_oct_21_new_selection_count              59.5            48.5   \n",
      "7     softlines_oct_21_new_selection_count               0.0             0.0   \n",
      "8   consumables_oct_21_new_selection_count               0.0             0.0   \n",
      "9     hardlines_sep_21_new_selection_count             113.0            92.5   \n",
      "10    softlines_sep_21_new_selection_count               0.0             0.0   \n",
      "11  consumables_sep_21_new_selection_count               0.0             0.0   \n",
      "12    hardlines_aug_21_new_selection_count              67.0            63.0   \n",
      "13    softlines_aug_21_new_selection_count               0.0             0.0   \n",
      "14  consumables_aug_21_new_selection_count               0.0             0.0   \n",
      "15      seller_brand_owner_selection_count               0.0             0.0   \n",
      "\n",
      "    p_value  \n",
      "0     0.489  \n",
      "1     0.204  \n",
      "2     0.244  \n",
      "3     0.252  \n",
      "4     0.470  \n",
      "5     0.355  \n",
      "6     0.358  \n",
      "7     0.264  \n",
      "8     0.380  \n",
      "9     0.406  \n",
      "10    0.269  \n",
      "11    0.387  \n",
      "12    0.369  \n",
      "13    0.188  \n",
      "14    0.223  \n",
      "15    0.217  \n"
     ]
    }
   ],
   "source": [
    "print(results_df)"
   ]
  },
  {
   "cell_type": "code",
   "execution_count": 55,
   "id": "b24aeee8",
   "metadata": {},
   "outputs": [],
   "source": [
    "results_df.to_csv('results_df_600.csv')"
   ]
  },
  {
   "cell_type": "code",
   "execution_count": 41,
   "id": "98df93df",
   "metadata": {},
   "outputs": [
    {
     "data": {
      "text/html": [
       "<div>\n",
       "<style scoped>\n",
       "    .dataframe tbody tr th:only-of-type {\n",
       "        vertical-align: middle;\n",
       "    }\n",
       "\n",
       "    .dataframe tbody tr th {\n",
       "        vertical-align: top;\n",
       "    }\n",
       "\n",
       "    .dataframe thead th {\n",
       "        text-align: right;\n",
       "    }\n",
       "</style>\n",
       "<table border=\"1\" class=\"dataframe\">\n",
       "  <thead>\n",
       "    <tr style=\"text-align: right;\">\n",
       "      <th></th>\n",
       "      <th>merchant_customer_id</th>\n",
       "      <th>has_lp_buyable_asin_count</th>\n",
       "      <th>cn_based_buyable_asin_count</th>\n",
       "      <th>sas_managed_buyable_asin_count</th>\n",
       "      <th>hardlines_buyable_asin_count</th>\n",
       "      <th>softlines_buyable_asin_count</th>\n",
       "      <th>consumables_buyable_asin_count</th>\n",
       "      <th>hardlines_oct_21_new_selection_count</th>\n",
       "      <th>softlines_oct_21_new_selection_count</th>\n",
       "      <th>consumables_oct_21_new_selection_count</th>\n",
       "      <th>oct_21_new_selection_count</th>\n",
       "      <th>hardlines_sep_21_new_selection_count</th>\n",
       "      <th>softlines_sep_21_new_selection_count</th>\n",
       "      <th>consumables_sep_21_new_selection_count</th>\n",
       "      <th>sep_21_new_selection_count</th>\n",
       "      <th>hardlines_aug_21_new_selection_count</th>\n",
       "      <th>softlines_aug_21_new_selection_count</th>\n",
       "      <th>consumables_aug_21_new_selection_count</th>\n",
       "      <th>aug_21_new_selection_count</th>\n",
       "      <th>seller_brand_owner_selection_count</th>\n",
       "      <th>total_buyable_asin_count</th>\n",
       "    </tr>\n",
       "  </thead>\n",
       "  <tbody>\n",
       "    <tr>\n",
       "      <th>17298</th>\n",
       "      <td>173676333502</td>\n",
       "      <td>4879</td>\n",
       "      <td>0</td>\n",
       "      <td>0</td>\n",
       "      <td>15594</td>\n",
       "      <td>26</td>\n",
       "      <td>660</td>\n",
       "      <td>258</td>\n",
       "      <td>0</td>\n",
       "      <td>0</td>\n",
       "      <td>258</td>\n",
       "      <td>1690</td>\n",
       "      <td>0</td>\n",
       "      <td>0</td>\n",
       "      <td>1690</td>\n",
       "      <td>1259</td>\n",
       "      <td>0</td>\n",
       "      <td>1</td>\n",
       "      <td>1260</td>\n",
       "      <td>0</td>\n",
       "      <td>16280</td>\n",
       "    </tr>\n",
       "    <tr>\n",
       "      <th>2285</th>\n",
       "      <td>33904918702</td>\n",
       "      <td>54</td>\n",
       "      <td>91155</td>\n",
       "      <td>0</td>\n",
       "      <td>74</td>\n",
       "      <td>91081</td>\n",
       "      <td>0</td>\n",
       "      <td>0</td>\n",
       "      <td>27970</td>\n",
       "      <td>0</td>\n",
       "      <td>27970</td>\n",
       "      <td>0</td>\n",
       "      <td>36831</td>\n",
       "      <td>0</td>\n",
       "      <td>36831</td>\n",
       "      <td>0</td>\n",
       "      <td>16227</td>\n",
       "      <td>0</td>\n",
       "      <td>16227</td>\n",
       "      <td>0</td>\n",
       "      <td>91155</td>\n",
       "    </tr>\n",
       "    <tr>\n",
       "      <th>20393</th>\n",
       "      <td>365191889602</td>\n",
       "      <td>0</td>\n",
       "      <td>0</td>\n",
       "      <td>0</td>\n",
       "      <td>4382</td>\n",
       "      <td>0</td>\n",
       "      <td>0</td>\n",
       "      <td>942</td>\n",
       "      <td>0</td>\n",
       "      <td>0</td>\n",
       "      <td>942</td>\n",
       "      <td>1073</td>\n",
       "      <td>0</td>\n",
       "      <td>0</td>\n",
       "      <td>1073</td>\n",
       "      <td>1181</td>\n",
       "      <td>0</td>\n",
       "      <td>0</td>\n",
       "      <td>1181</td>\n",
       "      <td>0</td>\n",
       "      <td>4382</td>\n",
       "    </tr>\n",
       "    <tr>\n",
       "      <th>37532</th>\n",
       "      <td>212363717402</td>\n",
       "      <td>10406</td>\n",
       "      <td>0</td>\n",
       "      <td>0</td>\n",
       "      <td>4040</td>\n",
       "      <td>10546</td>\n",
       "      <td>11</td>\n",
       "      <td>198</td>\n",
       "      <td>60</td>\n",
       "      <td>0</td>\n",
       "      <td>258</td>\n",
       "      <td>383</td>\n",
       "      <td>258</td>\n",
       "      <td>0</td>\n",
       "      <td>641</td>\n",
       "      <td>626</td>\n",
       "      <td>267</td>\n",
       "      <td>0</td>\n",
       "      <td>893</td>\n",
       "      <td>0</td>\n",
       "      <td>14597</td>\n",
       "    </tr>\n",
       "    <tr>\n",
       "      <th>35143</th>\n",
       "      <td>362702782502</td>\n",
       "      <td>0</td>\n",
       "      <td>0</td>\n",
       "      <td>0</td>\n",
       "      <td>4140</td>\n",
       "      <td>0</td>\n",
       "      <td>0</td>\n",
       "      <td>280</td>\n",
       "      <td>0</td>\n",
       "      <td>0</td>\n",
       "      <td>280</td>\n",
       "      <td>676</td>\n",
       "      <td>0</td>\n",
       "      <td>0</td>\n",
       "      <td>676</td>\n",
       "      <td>694</td>\n",
       "      <td>0</td>\n",
       "      <td>0</td>\n",
       "      <td>694</td>\n",
       "      <td>0</td>\n",
       "      <td>4140</td>\n",
       "    </tr>\n",
       "  </tbody>\n",
       "</table>\n",
       "</div>"
      ],
      "text/plain": [
       "       merchant_customer_id  has_lp_buyable_asin_count  \\\n",
       "17298          173676333502                       4879   \n",
       "2285            33904918702                         54   \n",
       "20393          365191889602                          0   \n",
       "37532          212363717402                      10406   \n",
       "35143          362702782502                          0   \n",
       "\n",
       "       cn_based_buyable_asin_count  sas_managed_buyable_asin_count  \\\n",
       "17298                            0                               0   \n",
       "2285                         91155                               0   \n",
       "20393                            0                               0   \n",
       "37532                            0                               0   \n",
       "35143                            0                               0   \n",
       "\n",
       "       hardlines_buyable_asin_count  softlines_buyable_asin_count  \\\n",
       "17298                         15594                            26   \n",
       "2285                             74                         91081   \n",
       "20393                          4382                             0   \n",
       "37532                          4040                         10546   \n",
       "35143                          4140                             0   \n",
       "\n",
       "       consumables_buyable_asin_count  hardlines_oct_21_new_selection_count  \\\n",
       "17298                             660                                   258   \n",
       "2285                                0                                     0   \n",
       "20393                               0                                   942   \n",
       "37532                              11                                   198   \n",
       "35143                               0                                   280   \n",
       "\n",
       "       softlines_oct_21_new_selection_count  \\\n",
       "17298                                     0   \n",
       "2285                                  27970   \n",
       "20393                                     0   \n",
       "37532                                    60   \n",
       "35143                                     0   \n",
       "\n",
       "       consumables_oct_21_new_selection_count  oct_21_new_selection_count  \\\n",
       "17298                                       0                         258   \n",
       "2285                                        0                       27970   \n",
       "20393                                       0                         942   \n",
       "37532                                       0                         258   \n",
       "35143                                       0                         280   \n",
       "\n",
       "       hardlines_sep_21_new_selection_count  \\\n",
       "17298                                  1690   \n",
       "2285                                      0   \n",
       "20393                                  1073   \n",
       "37532                                   383   \n",
       "35143                                   676   \n",
       "\n",
       "       softlines_sep_21_new_selection_count  \\\n",
       "17298                                     0   \n",
       "2285                                  36831   \n",
       "20393                                     0   \n",
       "37532                                   258   \n",
       "35143                                     0   \n",
       "\n",
       "       consumables_sep_21_new_selection_count  sep_21_new_selection_count  \\\n",
       "17298                                       0                        1690   \n",
       "2285                                        0                       36831   \n",
       "20393                                       0                        1073   \n",
       "37532                                       0                         641   \n",
       "35143                                       0                         676   \n",
       "\n",
       "       hardlines_aug_21_new_selection_count  \\\n",
       "17298                                  1259   \n",
       "2285                                      0   \n",
       "20393                                  1181   \n",
       "37532                                   626   \n",
       "35143                                   694   \n",
       "\n",
       "       softlines_aug_21_new_selection_count  \\\n",
       "17298                                     0   \n",
       "2285                                  16227   \n",
       "20393                                     0   \n",
       "37532                                   267   \n",
       "35143                                     0   \n",
       "\n",
       "       consumables_aug_21_new_selection_count  aug_21_new_selection_count  \\\n",
       "17298                                       1                        1260   \n",
       "2285                                        0                       16227   \n",
       "20393                                       0                        1181   \n",
       "37532                                       0                         893   \n",
       "35143                                       0                         694   \n",
       "\n",
       "       seller_brand_owner_selection_count  total_buyable_asin_count  \n",
       "17298                                   0                     16280  \n",
       "2285                                    0                     91155  \n",
       "20393                                   0                      4382  \n",
       "37532                                   0                     14597  \n",
       "35143                                   0                      4140  "
      ]
     },
     "execution_count": 41,
     "metadata": {},
     "output_type": "execute_result"
    }
   ],
   "source": [
    "treatment_group.head()"
   ]
  },
  {
   "cell_type": "code",
   "execution_count": 42,
   "id": "1a676a6d",
   "metadata": {},
   "outputs": [
    {
     "name": "stderr",
     "output_type": "stream",
     "text": [
      "/var/folders/6m/p32xvn3d1zx1msg76ln88wf0tkrcbq/T/ipykernel_36915/4284307912.py:1: SettingWithCopyWarning: \n",
      "A value is trying to be set on a copy of a slice from a DataFrame.\n",
      "Try using .loc[row_indexer,col_indexer] = value instead\n",
      "\n",
      "See the caveats in the documentation: https://pandas.pydata.org/pandas-docs/stable/user_guide/indexing.html#returning-a-view-versus-a-copy\n",
      "  treatment_group['test_flag']=1\n",
      "/var/folders/6m/p32xvn3d1zx1msg76ln88wf0tkrcbq/T/ipykernel_36915/4284307912.py:2: SettingWithCopyWarning: \n",
      "A value is trying to be set on a copy of a slice from a DataFrame.\n",
      "Try using .loc[row_indexer,col_indexer] = value instead\n",
      "\n",
      "See the caveats in the documentation: https://pandas.pydata.org/pandas-docs/stable/user_guide/indexing.html#returning-a-view-versus-a-copy\n",
      "  control_group['test_flag']=0\n"
     ]
    }
   ],
   "source": [
    "treatment_group['test_flag']=1\n",
    "control_group['test_flag']=0"
   ]
  },
  {
   "cell_type": "code",
   "execution_count": 43,
   "id": "1a3c8143",
   "metadata": {},
   "outputs": [
    {
     "data": {
      "text/plain": [
       "merchant_customer_id                      63442091264017\n",
       "has_lp_buyable_asin_count                         713497\n",
       "cn_based_buyable_asin_count                       956121\n",
       "sas_managed_buyable_asin_count                     12362\n",
       "hardlines_buyable_asin_count                     2153350\n",
       "softlines_buyable_asin_count                     1434866\n",
       "consumables_buyable_asin_count                     55500\n",
       "hardlines_oct_21_new_selection_count              199565\n",
       "softlines_oct_21_new_selection_count              129559\n",
       "consumables_oct_21_new_selection_count              2837\n",
       "oct_21_new_selection_count                        331961\n",
       "hardlines_sep_21_new_selection_count              289316\n",
       "softlines_sep_21_new_selection_count              169059\n",
       "consumables_sep_21_new_selection_count              1957\n",
       "sep_21_new_selection_count                        460332\n",
       "hardlines_aug_21_new_selection_count              236422\n",
       "softlines_aug_21_new_selection_count              145203\n",
       "consumables_aug_21_new_selection_count               994\n",
       "aug_21_new_selection_count                        382619\n",
       "seller_brand_owner_selection_count                798001\n",
       "total_buyable_asin_count                         3643716\n",
       "test_flag                                            300\n",
       "dtype: int64"
      ]
     },
     "execution_count": 43,
     "metadata": {},
     "output_type": "execute_result"
    }
   ],
   "source": [
    "treatment_group.sum()"
   ]
  },
  {
   "cell_type": "code",
   "execution_count": 44,
   "id": "143dd721",
   "metadata": {},
   "outputs": [
    {
     "data": {
      "text/plain": [
       "300"
      ]
     },
     "execution_count": 44,
     "metadata": {},
     "output_type": "execute_result"
    }
   ],
   "source": [
    "len(treatment_group['merchant_customer_id'].unique())"
   ]
  },
  {
   "cell_type": "code",
   "execution_count": 45,
   "id": "ae170381",
   "metadata": {},
   "outputs": [],
   "source": [
    "df_randomized=pd.concat([treatment_group, control_group])"
   ]
  },
  {
   "cell_type": "code",
   "execution_count": 46,
   "id": "a93c4a32",
   "metadata": {},
   "outputs": [
    {
     "data": {
      "text/html": [
       "<div>\n",
       "<style scoped>\n",
       "    .dataframe tbody tr th:only-of-type {\n",
       "        vertical-align: middle;\n",
       "    }\n",
       "\n",
       "    .dataframe tbody tr th {\n",
       "        vertical-align: top;\n",
       "    }\n",
       "\n",
       "    .dataframe thead th {\n",
       "        text-align: right;\n",
       "    }\n",
       "</style>\n",
       "<table border=\"1\" class=\"dataframe\">\n",
       "  <thead>\n",
       "    <tr style=\"text-align: right;\">\n",
       "      <th></th>\n",
       "      <th>merchant_customer_id</th>\n",
       "      <th>has_lp_buyable_asin_count</th>\n",
       "      <th>cn_based_buyable_asin_count</th>\n",
       "      <th>sas_managed_buyable_asin_count</th>\n",
       "      <th>hardlines_buyable_asin_count</th>\n",
       "      <th>softlines_buyable_asin_count</th>\n",
       "      <th>consumables_buyable_asin_count</th>\n",
       "      <th>hardlines_oct_21_new_selection_count</th>\n",
       "      <th>softlines_oct_21_new_selection_count</th>\n",
       "      <th>consumables_oct_21_new_selection_count</th>\n",
       "      <th>oct_21_new_selection_count</th>\n",
       "      <th>hardlines_sep_21_new_selection_count</th>\n",
       "      <th>softlines_sep_21_new_selection_count</th>\n",
       "      <th>consumables_sep_21_new_selection_count</th>\n",
       "      <th>sep_21_new_selection_count</th>\n",
       "      <th>hardlines_aug_21_new_selection_count</th>\n",
       "      <th>softlines_aug_21_new_selection_count</th>\n",
       "      <th>consumables_aug_21_new_selection_count</th>\n",
       "      <th>aug_21_new_selection_count</th>\n",
       "      <th>seller_brand_owner_selection_count</th>\n",
       "      <th>total_buyable_asin_count</th>\n",
       "      <th>test_flag</th>\n",
       "    </tr>\n",
       "  </thead>\n",
       "  <tbody>\n",
       "    <tr>\n",
       "      <th>17298</th>\n",
       "      <td>173676333502</td>\n",
       "      <td>4879</td>\n",
       "      <td>0</td>\n",
       "      <td>0</td>\n",
       "      <td>15594</td>\n",
       "      <td>26</td>\n",
       "      <td>660</td>\n",
       "      <td>258</td>\n",
       "      <td>0</td>\n",
       "      <td>0</td>\n",
       "      <td>258</td>\n",
       "      <td>1690</td>\n",
       "      <td>0</td>\n",
       "      <td>0</td>\n",
       "      <td>1690</td>\n",
       "      <td>1259</td>\n",
       "      <td>0</td>\n",
       "      <td>1</td>\n",
       "      <td>1260</td>\n",
       "      <td>0</td>\n",
       "      <td>16280</td>\n",
       "      <td>1</td>\n",
       "    </tr>\n",
       "    <tr>\n",
       "      <th>2285</th>\n",
       "      <td>33904918702</td>\n",
       "      <td>54</td>\n",
       "      <td>91155</td>\n",
       "      <td>0</td>\n",
       "      <td>74</td>\n",
       "      <td>91081</td>\n",
       "      <td>0</td>\n",
       "      <td>0</td>\n",
       "      <td>27970</td>\n",
       "      <td>0</td>\n",
       "      <td>27970</td>\n",
       "      <td>0</td>\n",
       "      <td>36831</td>\n",
       "      <td>0</td>\n",
       "      <td>36831</td>\n",
       "      <td>0</td>\n",
       "      <td>16227</td>\n",
       "      <td>0</td>\n",
       "      <td>16227</td>\n",
       "      <td>0</td>\n",
       "      <td>91155</td>\n",
       "      <td>1</td>\n",
       "    </tr>\n",
       "    <tr>\n",
       "      <th>20393</th>\n",
       "      <td>365191889602</td>\n",
       "      <td>0</td>\n",
       "      <td>0</td>\n",
       "      <td>0</td>\n",
       "      <td>4382</td>\n",
       "      <td>0</td>\n",
       "      <td>0</td>\n",
       "      <td>942</td>\n",
       "      <td>0</td>\n",
       "      <td>0</td>\n",
       "      <td>942</td>\n",
       "      <td>1073</td>\n",
       "      <td>0</td>\n",
       "      <td>0</td>\n",
       "      <td>1073</td>\n",
       "      <td>1181</td>\n",
       "      <td>0</td>\n",
       "      <td>0</td>\n",
       "      <td>1181</td>\n",
       "      <td>0</td>\n",
       "      <td>4382</td>\n",
       "      <td>1</td>\n",
       "    </tr>\n",
       "    <tr>\n",
       "      <th>37532</th>\n",
       "      <td>212363717402</td>\n",
       "      <td>10406</td>\n",
       "      <td>0</td>\n",
       "      <td>0</td>\n",
       "      <td>4040</td>\n",
       "      <td>10546</td>\n",
       "      <td>11</td>\n",
       "      <td>198</td>\n",
       "      <td>60</td>\n",
       "      <td>0</td>\n",
       "      <td>258</td>\n",
       "      <td>383</td>\n",
       "      <td>258</td>\n",
       "      <td>0</td>\n",
       "      <td>641</td>\n",
       "      <td>626</td>\n",
       "      <td>267</td>\n",
       "      <td>0</td>\n",
       "      <td>893</td>\n",
       "      <td>0</td>\n",
       "      <td>14597</td>\n",
       "      <td>1</td>\n",
       "    </tr>\n",
       "    <tr>\n",
       "      <th>35143</th>\n",
       "      <td>362702782502</td>\n",
       "      <td>0</td>\n",
       "      <td>0</td>\n",
       "      <td>0</td>\n",
       "      <td>4140</td>\n",
       "      <td>0</td>\n",
       "      <td>0</td>\n",
       "      <td>280</td>\n",
       "      <td>0</td>\n",
       "      <td>0</td>\n",
       "      <td>280</td>\n",
       "      <td>676</td>\n",
       "      <td>0</td>\n",
       "      <td>0</td>\n",
       "      <td>676</td>\n",
       "      <td>694</td>\n",
       "      <td>0</td>\n",
       "      <td>0</td>\n",
       "      <td>694</td>\n",
       "      <td>0</td>\n",
       "      <td>4140</td>\n",
       "      <td>1</td>\n",
       "    </tr>\n",
       "  </tbody>\n",
       "</table>\n",
       "</div>"
      ],
      "text/plain": [
       "       merchant_customer_id  has_lp_buyable_asin_count  \\\n",
       "17298          173676333502                       4879   \n",
       "2285            33904918702                         54   \n",
       "20393          365191889602                          0   \n",
       "37532          212363717402                      10406   \n",
       "35143          362702782502                          0   \n",
       "\n",
       "       cn_based_buyable_asin_count  sas_managed_buyable_asin_count  \\\n",
       "17298                            0                               0   \n",
       "2285                         91155                               0   \n",
       "20393                            0                               0   \n",
       "37532                            0                               0   \n",
       "35143                            0                               0   \n",
       "\n",
       "       hardlines_buyable_asin_count  softlines_buyable_asin_count  \\\n",
       "17298                         15594                            26   \n",
       "2285                             74                         91081   \n",
       "20393                          4382                             0   \n",
       "37532                          4040                         10546   \n",
       "35143                          4140                             0   \n",
       "\n",
       "       consumables_buyable_asin_count  hardlines_oct_21_new_selection_count  \\\n",
       "17298                             660                                   258   \n",
       "2285                                0                                     0   \n",
       "20393                               0                                   942   \n",
       "37532                              11                                   198   \n",
       "35143                               0                                   280   \n",
       "\n",
       "       softlines_oct_21_new_selection_count  \\\n",
       "17298                                     0   \n",
       "2285                                  27970   \n",
       "20393                                     0   \n",
       "37532                                    60   \n",
       "35143                                     0   \n",
       "\n",
       "       consumables_oct_21_new_selection_count  oct_21_new_selection_count  \\\n",
       "17298                                       0                         258   \n",
       "2285                                        0                       27970   \n",
       "20393                                       0                         942   \n",
       "37532                                       0                         258   \n",
       "35143                                       0                         280   \n",
       "\n",
       "       hardlines_sep_21_new_selection_count  \\\n",
       "17298                                  1690   \n",
       "2285                                      0   \n",
       "20393                                  1073   \n",
       "37532                                   383   \n",
       "35143                                   676   \n",
       "\n",
       "       softlines_sep_21_new_selection_count  \\\n",
       "17298                                     0   \n",
       "2285                                  36831   \n",
       "20393                                     0   \n",
       "37532                                   258   \n",
       "35143                                     0   \n",
       "\n",
       "       consumables_sep_21_new_selection_count  sep_21_new_selection_count  \\\n",
       "17298                                       0                        1690   \n",
       "2285                                        0                       36831   \n",
       "20393                                       0                        1073   \n",
       "37532                                       0                         641   \n",
       "35143                                       0                         676   \n",
       "\n",
       "       hardlines_aug_21_new_selection_count  \\\n",
       "17298                                  1259   \n",
       "2285                                      0   \n",
       "20393                                  1181   \n",
       "37532                                   626   \n",
       "35143                                   694   \n",
       "\n",
       "       softlines_aug_21_new_selection_count  \\\n",
       "17298                                     0   \n",
       "2285                                  16227   \n",
       "20393                                     0   \n",
       "37532                                   267   \n",
       "35143                                     0   \n",
       "\n",
       "       consumables_aug_21_new_selection_count  aug_21_new_selection_count  \\\n",
       "17298                                       1                        1260   \n",
       "2285                                        0                       16227   \n",
       "20393                                       0                        1181   \n",
       "37532                                       0                         893   \n",
       "35143                                       0                         694   \n",
       "\n",
       "       seller_brand_owner_selection_count  total_buyable_asin_count  test_flag  \n",
       "17298                                   0                     16280          1  \n",
       "2285                                    0                     91155          1  \n",
       "20393                                   0                      4382          1  \n",
       "37532                                   0                     14597          1  \n",
       "35143                                   0                      4140          1  "
      ]
     },
     "execution_count": 46,
     "metadata": {},
     "output_type": "execute_result"
    }
   ],
   "source": [
    "df_randomized.head()"
   ]
  },
  {
   "cell_type": "code",
   "execution_count": 47,
   "id": "0948370f",
   "metadata": {},
   "outputs": [
    {
     "data": {
      "text/plain": [
       "merchant_customer_id                      128899318831586\n",
       "has_lp_buyable_asin_count                         1695306\n",
       "cn_based_buyable_asin_count                       2048945\n",
       "sas_managed_buyable_asin_count                      32575\n",
       "hardlines_buyable_asin_count                      4578586\n",
       "softlines_buyable_asin_count                      2539107\n",
       "consumables_buyable_asin_count                      99174\n",
       "hardlines_oct_21_new_selection_count               392580\n",
       "softlines_oct_21_new_selection_count               240368\n",
       "consumables_oct_21_new_selection_count               3585\n",
       "oct_21_new_selection_count                         636533\n",
       "hardlines_sep_21_new_selection_count               594051\n",
       "softlines_sep_21_new_selection_count               325722\n",
       "consumables_sep_21_new_selection_count               3791\n",
       "sep_21_new_selection_count                         923564\n",
       "hardlines_aug_21_new_selection_count               553264\n",
       "softlines_aug_21_new_selection_count               296204\n",
       "consumables_aug_21_new_selection_count               2944\n",
       "aug_21_new_selection_count                         852412\n",
       "seller_brand_owner_selection_count                2104388\n",
       "total_buyable_asin_count                          7216867\n",
       "test_flag                                             300\n",
       "dtype: int64"
      ]
     },
     "execution_count": 47,
     "metadata": {},
     "output_type": "execute_result"
    }
   ],
   "source": [
    "df_randomized.sum()"
   ]
  },
  {
   "cell_type": "code",
   "execution_count": 48,
   "id": "2f448285",
   "metadata": {},
   "outputs": [
    {
     "data": {
      "text/plain": [
       "804169.6666666666"
      ]
     },
     "execution_count": 48,
     "metadata": {},
     "output_type": "execute_result"
    }
   ],
   "source": [
    "(df_randomized['oct_21_new_selection_count'].sum()+df_randomized['sep_21_new_selection_count'].sum()+df_randomized['aug_21_new_selection_count'].sum())/3"
   ]
  },
  {
   "cell_type": "code",
   "execution_count": 49,
   "id": "19aa5a88",
   "metadata": {},
   "outputs": [
    {
     "data": {
      "text/html": [
       "<div>\n",
       "<style scoped>\n",
       "    .dataframe tbody tr th:only-of-type {\n",
       "        vertical-align: middle;\n",
       "    }\n",
       "\n",
       "    .dataframe tbody tr th {\n",
       "        vertical-align: top;\n",
       "    }\n",
       "\n",
       "    .dataframe thead th {\n",
       "        text-align: right;\n",
       "    }\n",
       "</style>\n",
       "<table border=\"1\" class=\"dataframe\">\n",
       "  <thead>\n",
       "    <tr style=\"text-align: right;\">\n",
       "      <th>has_lp_buyable_asin_count</th>\n",
       "      <th>0</th>\n",
       "      <th>1</th>\n",
       "      <th>2</th>\n",
       "      <th>3</th>\n",
       "      <th>4</th>\n",
       "      <th>5</th>\n",
       "      <th>6</th>\n",
       "      <th>7</th>\n",
       "      <th>8</th>\n",
       "      <th>9</th>\n",
       "      <th>10</th>\n",
       "      <th>11</th>\n",
       "      <th>12</th>\n",
       "      <th>13</th>\n",
       "      <th>14</th>\n",
       "      <th>...</th>\n",
       "      <th>34664</th>\n",
       "      <th>39734</th>\n",
       "      <th>41037</th>\n",
       "      <th>42605</th>\n",
       "      <th>43355</th>\n",
       "      <th>43858</th>\n",
       "      <th>62489</th>\n",
       "      <th>81601</th>\n",
       "      <th>83790</th>\n",
       "      <th>87042</th>\n",
       "      <th>92323</th>\n",
       "      <th>115051</th>\n",
       "      <th>117951</th>\n",
       "      <th>161924</th>\n",
       "      <th>168646</th>\n",
       "    </tr>\n",
       "    <tr>\n",
       "      <th>test_flag</th>\n",
       "      <th></th>\n",
       "      <th></th>\n",
       "      <th></th>\n",
       "      <th></th>\n",
       "      <th></th>\n",
       "      <th></th>\n",
       "      <th></th>\n",
       "      <th></th>\n",
       "      <th></th>\n",
       "      <th></th>\n",
       "      <th></th>\n",
       "      <th></th>\n",
       "      <th></th>\n",
       "      <th></th>\n",
       "      <th></th>\n",
       "      <th></th>\n",
       "      <th></th>\n",
       "      <th></th>\n",
       "      <th></th>\n",
       "      <th></th>\n",
       "      <th></th>\n",
       "      <th></th>\n",
       "      <th></th>\n",
       "      <th></th>\n",
       "      <th></th>\n",
       "      <th></th>\n",
       "      <th></th>\n",
       "      <th></th>\n",
       "      <th></th>\n",
       "      <th></th>\n",
       "      <th></th>\n",
       "    </tr>\n",
       "  </thead>\n",
       "  <tbody>\n",
       "    <tr>\n",
       "      <th>0</th>\n",
       "      <td>154</td>\n",
       "      <td>13</td>\n",
       "      <td>3</td>\n",
       "      <td>5</td>\n",
       "      <td>3</td>\n",
       "      <td>4</td>\n",
       "      <td>2</td>\n",
       "      <td>2</td>\n",
       "      <td>1</td>\n",
       "      <td>2</td>\n",
       "      <td>0</td>\n",
       "      <td>3</td>\n",
       "      <td>2</td>\n",
       "      <td>1</td>\n",
       "      <td>3</td>\n",
       "      <td>...</td>\n",
       "      <td>1</td>\n",
       "      <td>0</td>\n",
       "      <td>0</td>\n",
       "      <td>1</td>\n",
       "      <td>0</td>\n",
       "      <td>1</td>\n",
       "      <td>1</td>\n",
       "      <td>1</td>\n",
       "      <td>0</td>\n",
       "      <td>1</td>\n",
       "      <td>0</td>\n",
       "      <td>0</td>\n",
       "      <td>1</td>\n",
       "      <td>1</td>\n",
       "      <td>1</td>\n",
       "    </tr>\n",
       "    <tr>\n",
       "      <th>1</th>\n",
       "      <td>158</td>\n",
       "      <td>8</td>\n",
       "      <td>10</td>\n",
       "      <td>1</td>\n",
       "      <td>1</td>\n",
       "      <td>1</td>\n",
       "      <td>3</td>\n",
       "      <td>3</td>\n",
       "      <td>1</td>\n",
       "      <td>1</td>\n",
       "      <td>2</td>\n",
       "      <td>2</td>\n",
       "      <td>3</td>\n",
       "      <td>2</td>\n",
       "      <td>1</td>\n",
       "      <td>...</td>\n",
       "      <td>0</td>\n",
       "      <td>1</td>\n",
       "      <td>1</td>\n",
       "      <td>0</td>\n",
       "      <td>1</td>\n",
       "      <td>0</td>\n",
       "      <td>0</td>\n",
       "      <td>0</td>\n",
       "      <td>1</td>\n",
       "      <td>0</td>\n",
       "      <td>1</td>\n",
       "      <td>1</td>\n",
       "      <td>0</td>\n",
       "      <td>0</td>\n",
       "      <td>0</td>\n",
       "    </tr>\n",
       "  </tbody>\n",
       "</table>\n",
       "<p>2 rows × 198 columns</p>\n",
       "</div>"
      ],
      "text/plain": [
       "has_lp_buyable_asin_count  0       1       2       3       4       5       \\\n",
       "test_flag                                                                   \n",
       "0                             154      13       3       5       3       4   \n",
       "1                             158       8      10       1       1       1   \n",
       "\n",
       "has_lp_buyable_asin_count  6       7       8       9       10      11      \\\n",
       "test_flag                                                                   \n",
       "0                               2       2       1       2       0       3   \n",
       "1                               3       3       1       1       2       2   \n",
       "\n",
       "has_lp_buyable_asin_count  12      13      14      ...  34664   39734   \\\n",
       "test_flag                                          ...                   \n",
       "0                               2       1       3  ...       1       0   \n",
       "1                               3       2       1  ...       0       1   \n",
       "\n",
       "has_lp_buyable_asin_count  41037   42605   43355   43858   62489   81601   \\\n",
       "test_flag                                                                   \n",
       "0                               0       1       0       1       1       1   \n",
       "1                               1       0       1       0       0       0   \n",
       "\n",
       "has_lp_buyable_asin_count  83790   87042   92323   115051  117951  161924  \\\n",
       "test_flag                                                                   \n",
       "0                               0       1       0       0       1       1   \n",
       "1                               1       0       1       1       0       0   \n",
       "\n",
       "has_lp_buyable_asin_count  168646  \n",
       "test_flag                          \n",
       "0                               1  \n",
       "1                               0  \n",
       "\n",
       "[2 rows x 198 columns]"
      ]
     },
     "execution_count": 49,
     "metadata": {},
     "output_type": "execute_result"
    }
   ],
   "source": [
    "pd.crosstab(df_randomized['test_flag'], df_randomized['has_lp_buyable_asin_count'])"
   ]
  },
  {
   "cell_type": "code",
   "execution_count": 50,
   "id": "7f421193",
   "metadata": {},
   "outputs": [
    {
     "data": {
      "text/plain": [
       "Text(0, 0.5, 'has_lp_buyable_asin_count')"
      ]
     },
     "execution_count": 50,
     "metadata": {},
     "output_type": "execute_result"
    },
    {
     "data": {
      "image/png": "[encoded data removed]",
      "text/plain": [
       "<Figure size 576x432 with 1 Axes>"
      ]
     },
     "metadata": {
      "needs_background": "light"
     },
     "output_type": "display_data"
    }
   ],
   "source": [
    "plt.figure(figsize=(8,6))\n",
    "\n",
    "sns.barplot(x=df_randomized['test_flag'], y=df_randomized['has_lp_buyable_asin_count'], ci=False)\n",
    "\n",
    "#plt.ylim(0, 1.5)\n",
    "plt.title('LP Flag by group', pad=20)\n",
    "plt.xlabel('Group', labelpad=15)\n",
    "plt.ylabel('has_lp_buyable_asin_count', labelpad=15)"
   ]
  },
  {
   "cell_type": "code",
   "execution_count": 51,
   "id": "3aa7fa73",
   "metadata": {},
   "outputs": [
    {
     "data": {
      "text/plain": [
       "Text(0, 0.5, 'cn_based_buyable_asin_count')"
      ]
     },
     "execution_count": 51,
     "metadata": {},
     "output_type": "execute_result"
    },
    {
     "data": {
      "image/png": "[encoded data removed]",
      "text/plain": [
       "<Figure size 576x432 with 1 Axes>"
      ]
     },
     "metadata": {
      "needs_background": "light"
     },
     "output_type": "display_data"
    }
   ],
   "source": [
    "plt.figure(figsize=(8,6))\n",
    "\n",
    "sns.barplot(x=df_randomized['test_flag'], y=df_randomized['cn_based_buyable_asin_count'], ci=False)\n",
    "\n",
    "#plt.ylim(0, 1.5)\n",
    "plt.title('CN based Flag by group', pad=20)\n",
    "plt.xlabel('Group', labelpad=15)\n",
    "plt.ylabel('cn_based_buyable_asin_count', labelpad=15)"
   ]
  },
  {
   "cell_type": "code",
   "execution_count": 52,
   "id": "d2f8420a",
   "metadata": {},
   "outputs": [
    {
     "data": {
      "text/plain": [
       "Text(0, 0.5, 'sas_managed_buyable_asin_count')"
      ]
     },
     "execution_count": 52,
     "metadata": {},
     "output_type": "execute_result"
    },
    {
     "data": {
      "image/png": "[encoded data removed]",
      "text/plain": [
       "<Figure size 576x432 with 1 Axes>"
      ]
     },
     "metadata": {
      "needs_background": "light"
     },
     "output_type": "display_data"
    }
   ],
   "source": [
    "plt.figure(figsize=(8,6))\n",
    "\n",
    "sns.barplot(x=df_randomized['test_flag'], y=df_randomized['sas_managed_buyable_asin_count'], ci=False)\n",
    "\n",
    "#plt.ylim(0, 1.5)\n",
    "plt.title('SAS Managed Flag by group', pad=20)\n",
    "plt.xlabel('Group', labelpad=15)\n",
    "plt.ylabel('sas_managed_buyable_asin_count', labelpad=15)"
   ]
  },
  {
   "cell_type": "code",
   "execution_count": 54,
   "id": "13f8f0c6",
   "metadata": {},
   "outputs": [],
   "source": [
    "df_randomized.to_csv('sellers_for_experiment_10%.csv')"
   ]
  },
  {
   "cell_type": "code",
   "execution_count": null,
   "id": "b9bbe724",
   "metadata": {},
   "outputs": [],
   "source": []
  }
 ],
 "metadata": {
  "kernelspec": {
   "display_name": "Python 3 (ipykernel)",
   "language": "python",
   "name": "python3"
  },
  "language_info": {
   "codemirror_mode": {
    "name": "ipython",
    "version": 3
   },
   "file_extension": ".py",
   "mimetype": "text/x-python",
   "name": "python",
   "nbconvert_exporter": "python",
   "pygments_lexer": "ipython3",
   "version": "3.9.1"
  }
 },
 "nbformat": 4,
 "nbformat_minor": 5
}
