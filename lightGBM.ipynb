{
 "cells": [
  {
   "cell_type": "markdown",
   "id": "8c23554e",
   "metadata": {},
   "source": [
    "### 1. Reading the datasets\n",
    "Installing the libraries first."
   ]
  },
  {
   "cell_type": "code",
   "execution_count": 2,
   "id": "03a43ce3",
   "metadata": {},
   "outputs": [],
   "source": [
    "import warnings\n",
    "warnings.filterwarnings(\"ignore\")"
   ]
  },
  {
   "cell_type": "code",
   "execution_count": 3,
   "id": "e7f2ea89",
   "metadata": {},
   "outputs": [
    {
     "name": "stdout",
     "output_type": "stream",
     "text": [
      "\u001b[33mDEPRECATION: Configuring installation scheme with distutils config files is deprecated and will no longer work in the near future. If you are using a Homebrew or Linuxbrew Python, please see discussion at https://github.com/Homebrew/homebrew-core/issues/76621\u001b[0m\n",
      "\u001b[33mDEPRECATION: Configuring installation scheme with distutils config files is deprecated and will no longer work in the near future. If you are using a Homebrew or Linuxbrew Python, please see discussion at https://github.com/Homebrew/homebrew-core/issues/76621\u001b[0m\n",
      "\u001b[33mDEPRECATION: Configuring installation scheme with distutils config files is deprecated and will no longer work in the near future. If you are using a Homebrew or Linuxbrew Python, please see discussion at https://github.com/Homebrew/homebrew-core/issues/76621\u001b[0m\n",
      "\u001b[31mERROR: Could not find a version that satisfies the requirement mxnet==1.8.0 (from versions: 1.6.0, 1.7.0.post1, 1.7.0.post2, 1.8.0.post0)\u001b[0m\n",
      "\u001b[31mERROR: No matching distribution found for mxnet==1.8.0\u001b[0m\n",
      "\u001b[33mDEPRECATION: Configuring installation scheme with distutils config files is deprecated and will no longer work in the near future. If you are using a Homebrew or Linuxbrew Python, please see discussion at https://github.com/Homebrew/homebrew-core/issues/76621\u001b[0m\n",
      "\u001b[33mDEPRECATION: Configuring installation scheme with distutils config files is deprecated and will no longer work in the near future. If you are using a Homebrew or Linuxbrew Python, please see discussion at https://github.com/Homebrew/homebrew-core/issues/76621\u001b[0m\n"
     ]
    }
   ],
   "source": [
    "! pip install -q -U numpy==1.19.5\n",
    "! pip install -q -U matplotlib==3.3.4\n",
    "! pip install -q -U mxnet==1.8.0\n",
    "! pip install -q -U catboost==0.26.1\n",
    "! pip install -q -U lightgbm==3.2.1"
   ]
  },
  {
   "cell_type": "code",
   "execution_count": 4,
   "id": "5f3c6179",
   "metadata": {},
   "outputs": [],
   "source": [
    "import pandas as pd\n",
    "\n",
    "train_df = pd.read_csv(\"../final_project/final_project_dataset_training.csv\")\n",
    "test_df = pd.read_csv(\"../final_project/public_test_features.csv\")"
   ]
  },
  {
   "cell_type": "code",
   "execution_count": 5,
   "id": "271c76c2",
   "metadata": {},
   "outputs": [],
   "source": [
    "import matplotlib.pyplot as plt\n",
    "import numpy as np\n",
    "import seaborn as sns\n",
    "\n",
    "%matplotlib inline"
   ]
  },
  {
   "cell_type": "markdown",
   "id": "494baf05",
   "metadata": {},
   "source": [
    "### 2. Splitting into train and test"
   ]
  },
  {
   "cell_type": "markdown",
   "id": "f42c3fb1",
   "metadata": {},
   "source": [
    "__SimpleImputer: Sklearn imputation transformer for completing missing values__\n",
    "\n",
    "Examples:\n",
    "* Numerical fields: `SimpleImputer(missing_values=nan, strategy='mean', fill_value=None)` # or strategy='median'\n",
    "* Categorical fields: `SimpleImputer(missing_values=nan, strategy='most_frequent', fill_value=None)`\n",
    "* Constant (for both): `SimpleImputer(missing_values=nan, strategy='constant', fill_value=None)` # example: for categorical-> fill_value='missing', for numerical -> fill_value=0"
   ]
  },
  {
   "cell_type": "code",
   "execution_count": 6,
   "id": "8371d14b",
   "metadata": {},
   "outputs": [
    {
     "data": {
      "text/plain": [
       "Index(['ID', 'ASIN', 'marketplace', 'GL', 'category', 'subcategory', 'dept',\n",
       "       'brand_code', 'brand', 'item_type_keyword', 'website_display_group',\n",
       "       'product_type_description', 'binding', 'size', 'handling_group',\n",
       "       'item_count', 'hazmat_classification', 'actual_process_class_ID'],\n",
       "      dtype='object')"
      ]
     },
     "execution_count": 6,
     "metadata": {},
     "output_type": "execute_result"
    }
   ],
   "source": [
    "train_df.columns"
   ]
  },
  {
   "cell_type": "code",
   "execution_count": 7,
   "id": "dd964ef2",
   "metadata": {},
   "outputs": [
    {
     "data": {
      "text/plain": [
       "0"
      ]
     },
     "execution_count": 7,
     "metadata": {},
     "output_type": "execute_result"
    }
   ],
   "source": [
    "train_df.duplicated().sum() # there is no duplicate"
   ]
  },
  {
   "cell_type": "code",
   "execution_count": 8,
   "id": "be7c5ded",
   "metadata": {},
   "outputs": [],
   "source": [
    "columns_to_keep = ['marketplace', 'GL', 'category', 'subcategory', 'brand', 'website_display_group',\n",
    "       'product_type_description', 'binding','handling_group', 'hazmat_classification']\n",
    "\n",
    "# dropping columns that have too many missing values such as dept and size, item count\n",
    "# dropping columns that are too similar to the existing features"
   ]
  },
  {
   "cell_type": "code",
   "execution_count": 9,
   "id": "e6ed68bd",
   "metadata": {},
   "outputs": [
    {
     "data": {
      "text/plain": [
       "Index(['ID', 'ASIN', 'marketplace', 'GL', 'category', 'subcategory', 'dept',\n",
       "       'brand_code', 'brand', 'item_type_keyword', 'website_display_group',\n",
       "       'product_type_description', 'binding', 'size', 'handling_group',\n",
       "       'item_count', 'hazmat_classification'],\n",
       "      dtype='object')"
      ]
     },
     "execution_count": 9,
     "metadata": {},
     "output_type": "execute_result"
    }
   ],
   "source": [
    "test_df.columns"
   ]
  },
  {
   "cell_type": "code",
   "execution_count": 10,
   "id": "7581f351",
   "metadata": {},
   "outputs": [
    {
     "name": "stdout",
     "output_type": "stream",
     "text": [
      "Train - Test Datasets shapes:  (363205, 18) (40357, 18)\n"
     ]
    }
   ],
   "source": [
    "from sklearn.model_selection import train_test_split\n",
    "\n",
    "train_data, val_data = train_test_split(train_df, test_size=0.1, shuffle=True, random_state=23)\n",
    "\n",
    "# Print the shapes of the Train - Test Datasets\n",
    "print('Train - Test Datasets shapes: ', train_data.shape, val_data.shape)"
   ]
  },
  {
   "cell_type": "code",
   "execution_count": 11,
   "id": "4bd0f87a",
   "metadata": {},
   "outputs": [],
   "source": [
    "train_X=train_data[columns_to_keep]\n",
    "val_X=val_data[columns_to_keep]\n",
    "train_Y=train_data['actual_process_class_ID']"
   ]
  },
  {
   "cell_type": "code",
   "execution_count": 12,
   "id": "333fe658",
   "metadata": {},
   "outputs": [
    {
     "data": {
      "text/plain": [
       "ID                          1.000000\n",
       "ASIN                        1.000000\n",
       "marketplace                 1.000000\n",
       "GL                          1.000000\n",
       "category                    1.000000\n",
       "subcategory                 1.000000\n",
       "dept                        0.579370\n",
       "brand_code                  0.851183\n",
       "brand                       0.969885\n",
       "item_type_keyword           0.480186\n",
       "website_display_group       1.000000\n",
       "product_type_description    1.000000\n",
       "binding                     0.994774\n",
       "size                        0.668141\n",
       "handling_group              0.964067\n",
       "item_count                  0.000000\n",
       "hazmat_classification       0.012599\n",
       "actual_process_class_ID     1.000000\n",
       "dtype: float64"
      ]
     },
     "execution_count": 12,
     "metadata": {},
     "output_type": "execute_result"
    }
   ],
   "source": [
    "train_data.count()/len(train_data)"
   ]
  },
  {
   "cell_type": "markdown",
   "id": "0ee3c1f6",
   "metadata": {},
   "source": [
    "### 3. Data Preprocessing and Defining classifiers\n",
    "\n",
    "Pipeline is an easy way to apply preprocessing on multiple fields."
   ]
  },
  {
   "cell_type": "code",
   "execution_count": 25,
   "id": "dfd1f70e",
   "metadata": {},
   "outputs": [],
   "source": [
    "from sklearn.utils import resample\n",
    "from lightgbm import LGBMClassifier"
   ]
  },
  {
   "cell_type": "code",
   "execution_count": 26,
   "id": "01b10c48",
   "metadata": {},
   "outputs": [],
   "source": [
    "most_frequent_cols = ['brand', 'binding', 'handling_group']\n",
    "constant_cols = ['hazmat_classification']"
   ]
  },
  {
   "cell_type": "code",
   "execution_count": 27,
   "id": "8a87e19b",
   "metadata": {},
   "outputs": [],
   "source": [
    "from sklearn.impute import SimpleImputer\n",
    "from sklearn.preprocessing import OneHotEncoder\n",
    "from sklearn.pipeline import Pipeline\n",
    "from sklearn.compose import ColumnTransformer\n",
    "\n",
    "# apply different preprocessing and feature extraction pipelines to different subsets of features, \n",
    "# using ColumnTransformer.\n",
    "most_frequent_transformer = Pipeline(steps=[\n",
    "       ('cat_imputer', SimpleImputer(strategy='most_frequent'))\n",
    "])\n",
    "\n",
    "constant_transformer = Pipeline(steps=[\n",
    "       ('cat_imputer', SimpleImputer(strategy='constant', fill_value='missing'))\n",
    "])\n",
    "\n",
    "preprocessor = ColumnTransformer(\n",
    "   transformers=[\n",
    "    ('most_frequent', most_frequent_transformer, most_frequent_cols)\n",
    "   ,('constant', constant_transformer, constant_cols)\n",
    "]) "
   ]
  },
  {
   "cell_type": "code",
   "execution_count": 28,
   "id": "4683cfa5",
   "metadata": {},
   "outputs": [],
   "source": [
    "from sklearn.preprocessing import FunctionTransformer\n",
    "\n",
    "def to_lowercase(x):\n",
    "    return np.char.lower(x.astype(str))\n",
    "\n",
    "lowercase_transformer = FunctionTransformer(to_lowercase, validate=False)"
   ]
  },
  {
   "cell_type": "code",
   "execution_count": 29,
   "id": "131307c4",
   "metadata": {},
   "outputs": [],
   "source": [
    "train_Y = train_df[\"actual_process_class_ID\"].values\n",
    "train_X = train_df.drop(columns=[\"actual_process_class_ID\", \"ASIN\"])\n",
    "\n",
    "for c in train_X.columns:\n",
    "    train_X[c] = train_X[c].astype(\"category\")"
   ]
  },
  {
   "cell_type": "code",
   "execution_count": 30,
   "id": "66b1220a",
   "metadata": {},
   "outputs": [],
   "source": [
    "# encoding target column values into 0 to 27 since Y has 28 unique values\n",
    "\n",
    "y_label_to_id = dict()\n",
    "y_id_to_label = dict()\n",
    "y_mod = list()\n",
    "idx = 0\n",
    "for elem in train_Y.tolist():\n",
    "    if elem not in y_label_to_id:\n",
    "        y_label_to_id[elem] = idx\n",
    "        y_id_to_label[idx] = elem\n",
    "        idx += 1\n",
    "    y_mod.append(y_label_to_id[elem])"
   ]
  },
  {
   "cell_type": "code",
   "execution_count": 20,
   "id": "cd725444",
   "metadata": {},
   "outputs": [],
   "source": [
    "# params1 = {\n",
    "#     \"boosting_type\": \"gbdt\",\n",
    "#     \"objective\": \"multiclass\",  # ‘regression’ for LGBMRegressor, ‘binary’ or ‘multiclass’ for LGBMClassifier\n",
    "#     \"num_class\": 28,\n",
    "#     \"metric\": \"multi_logloss\",\n",
    "#     'n_estimators': 100, # We can change it, by default 100\n",
    "#     \"learning_rate\": 0.5,  # Default 0.1\n",
    "#     \"num_iterations\": 500,  # Default 100\n",
    "#     \"is_unbalance\": True,  # Used to fix the class imbalance in the dataset\n",
    "#     \"verbose\": 100,\n",
    "#     \"force_col_wise\": True\n",
    "# }\n",
    "\n",
    "# lgb_train = lgb.Dataset(train_X, y_mod)"
   ]
  },
  {
   "cell_type": "code",
   "execution_count": 32,
   "id": "9ee477ae",
   "metadata": {},
   "outputs": [
    {
     "data": {
      "text/plain": [
       "Pipeline(steps=[('preprocessor',\n",
       "                 ColumnTransformer(transformers=[('most_frequent',\n",
       "                                                  Pipeline(steps=[('cat_imputer',\n",
       "                                                                   SimpleImputer(strategy='most_frequent'))]),\n",
       "                                                  ['brand', 'binding',\n",
       "                                                   'handling_group']),\n",
       "                                                 ('constant',\n",
       "                                                  Pipeline(steps=[('cat_imputer',\n",
       "                                                                   SimpleImputer(fill_value='missing',\n",
       "                                                                                 strategy='constant'))]),\n",
       "                                                  ['hazmat_classification'])])),\n",
       "                ('cat_lowercase_transformer',\n",
       "                 FunctionTransformer(func=<function to_lowercase at 0x16069fdc0>)),\n",
       "                ('cat_encoder', OneHotEncoder(handle_unknown='ignore')),\n",
       "                ('lightgbm', LGBMClassifier())])"
      ]
     },
     "execution_count": 32,
     "metadata": {},
     "output_type": "execute_result"
    }
   ],
   "source": [
    "# Preprocess the categorical features and add decision tree to the pipeline\n",
    "pipeline_light_gbm = Pipeline([('preprocessor', preprocessor),\n",
    "                                   ('cat_lowercase_transformer', lowercase_transformer),\n",
    "                                   ('cat_encoder', OneHotEncoder(handle_unknown='ignore')),\n",
    "                                   ('lightgbm', LGBMClassifier(n_jobs=-1))])\n",
    "\n",
    "pipeline_light_gbm.fit(train_X,\n",
    "                       y_mod)"
   ]
  },
  {
   "cell_type": "code",
   "execution_count": 34,
   "id": "7a0237c9",
   "metadata": {
    "scrolled": true
   },
   "outputs": [
    {
     "data": {
      "text/html": [
       "<style>#sk-cd79f717-99cd-4b1b-b7da-7ef7d48c1f11 {color: black;background-color: white;}#sk-cd79f717-99cd-4b1b-b7da-7ef7d48c1f11 pre{padding: 0;}#sk-cd79f717-99cd-4b1b-b7da-7ef7d48c1f11 div.sk-toggleable {background-color: white;}#sk-cd79f717-99cd-4b1b-b7da-7ef7d48c1f11 label.sk-toggleable__label {cursor: pointer;display: block;width: 100%;margin-bottom: 0;padding: 0.2em 0.3em;box-sizing: border-box;text-align: center;}#sk-cd79f717-99cd-4b1b-b7da-7ef7d48c1f11 div.sk-toggleable__content {max-height: 0;max-width: 0;overflow: hidden;text-align: left;background-color: #f0f8ff;}#sk-cd79f717-99cd-4b1b-b7da-7ef7d48c1f11 div.sk-toggleable__content pre {margin: 0.2em;color: black;border-radius: 0.25em;background-color: #f0f8ff;}#sk-cd79f717-99cd-4b1b-b7da-7ef7d48c1f11 input.sk-toggleable__control:checked~div.sk-toggleable__content {max-height: 200px;max-width: 100%;overflow: auto;}#sk-cd79f717-99cd-4b1b-b7da-7ef7d48c1f11 div.sk-estimator input.sk-toggleable__control:checked~label.sk-toggleable__label {background-color: #d4ebff;}#sk-cd79f717-99cd-4b1b-b7da-7ef7d48c1f11 div.sk-label input.sk-toggleable__control:checked~label.sk-toggleable__label {background-color: #d4ebff;}#sk-cd79f717-99cd-4b1b-b7da-7ef7d48c1f11 input.sk-hidden--visually {border: 0;clip: rect(1px 1px 1px 1px);clip: rect(1px, 1px, 1px, 1px);height: 1px;margin: -1px;overflow: hidden;padding: 0;position: absolute;width: 1px;}#sk-cd79f717-99cd-4b1b-b7da-7ef7d48c1f11 div.sk-estimator {font-family: monospace;background-color: #f0f8ff;margin: 0.25em 0.25em;border: 1px dotted black;border-radius: 0.25em;box-sizing: border-box;}#sk-cd79f717-99cd-4b1b-b7da-7ef7d48c1f11 div.sk-estimator:hover {background-color: #d4ebff;}#sk-cd79f717-99cd-4b1b-b7da-7ef7d48c1f11 div.sk-parallel-item::after {content: \"\";width: 100%;border-bottom: 1px solid gray;flex-grow: 1;}#sk-cd79f717-99cd-4b1b-b7da-7ef7d48c1f11 div.sk-label:hover label.sk-toggleable__label {background-color: #d4ebff;}#sk-cd79f717-99cd-4b1b-b7da-7ef7d48c1f11 div.sk-serial::before {content: \"\";position: absolute;border-left: 1px solid gray;box-sizing: border-box;top: 2em;bottom: 0;left: 50%;}#sk-cd79f717-99cd-4b1b-b7da-7ef7d48c1f11 div.sk-serial {display: flex;flex-direction: column;align-items: center;background-color: white;}#sk-cd79f717-99cd-4b1b-b7da-7ef7d48c1f11 div.sk-item {z-index: 1;}#sk-cd79f717-99cd-4b1b-b7da-7ef7d48c1f11 div.sk-parallel {display: flex;align-items: stretch;justify-content: center;background-color: white;}#sk-cd79f717-99cd-4b1b-b7da-7ef7d48c1f11 div.sk-parallel-item {display: flex;flex-direction: column;position: relative;background-color: white;}#sk-cd79f717-99cd-4b1b-b7da-7ef7d48c1f11 div.sk-parallel-item:first-child::after {align-self: flex-end;width: 50%;}#sk-cd79f717-99cd-4b1b-b7da-7ef7d48c1f11 div.sk-parallel-item:last-child::after {align-self: flex-start;width: 50%;}#sk-cd79f717-99cd-4b1b-b7da-7ef7d48c1f11 div.sk-parallel-item:only-child::after {width: 0;}#sk-cd79f717-99cd-4b1b-b7da-7ef7d48c1f11 div.sk-dashed-wrapped {border: 1px dashed gray;margin: 0.2em;box-sizing: border-box;padding-bottom: 0.1em;background-color: white;position: relative;}#sk-cd79f717-99cd-4b1b-b7da-7ef7d48c1f11 div.sk-label label {font-family: monospace;font-weight: bold;background-color: white;display: inline-block;line-height: 1.2em;}#sk-cd79f717-99cd-4b1b-b7da-7ef7d48c1f11 div.sk-label-container {position: relative;z-index: 2;text-align: center;}#sk-cd79f717-99cd-4b1b-b7da-7ef7d48c1f11 div.sk-container {display: inline-block;position: relative;}</style><div id=\"sk-cd79f717-99cd-4b1b-b7da-7ef7d48c1f11\" class\"sk-top-container\"><div class=\"sk-container\"><div class=\"sk-item sk-dashed-wrapped\"><div class=\"sk-label-container\"><div class=\"sk-label sk-toggleable\"><input class=\"sk-toggleable__control sk-hidden--visually\" id=\"71884609-0476-4f60-bc83-abd2fd4d8ff3\" type=\"checkbox\" ><label class=\"sk-toggleable__label\" for=\"71884609-0476-4f60-bc83-abd2fd4d8ff3\">Pipeline</label><div class=\"sk-toggleable__content\"><pre>Pipeline(steps=[('preprocessor',\n",
       "                 ColumnTransformer(transformers=[('most_frequent',\n",
       "                                                  Pipeline(steps=[('cat_imputer',\n",
       "                                                                   SimpleImputer(strategy='most_frequent'))]),\n",
       "                                                  ['brand', 'binding',\n",
       "                                                   'handling_group']),\n",
       "                                                 ('constant',\n",
       "                                                  Pipeline(steps=[('cat_imputer',\n",
       "                                                                   SimpleImputer(fill_value='missing',\n",
       "                                                                                 strategy='constant'))]),\n",
       "                                                  ['hazmat_classification'])])),\n",
       "                ('cat_lowercase_transformer',\n",
       "                 FunctionTransformer(func=<function to_lowercase at 0x16069fdc0>)),\n",
       "                ('cat_encoder', OneHotEncoder(handle_unknown='ignore')),\n",
       "                ('lightgbm', LGBMClassifier())])</pre></div></div></div><div class=\"sk-serial\"><div class=\"sk-item sk-dashed-wrapped\"><div class=\"sk-label-container\"><div class=\"sk-label sk-toggleable\"><input class=\"sk-toggleable__control sk-hidden--visually\" id=\"d0e65980-3635-4407-b00f-20b3c5cc466a\" type=\"checkbox\" ><label class=\"sk-toggleable__label\" for=\"d0e65980-3635-4407-b00f-20b3c5cc466a\">preprocessor: ColumnTransformer</label><div class=\"sk-toggleable__content\"><pre>ColumnTransformer(transformers=[('most_frequent',\n",
       "                                 Pipeline(steps=[('cat_imputer',\n",
       "                                                  SimpleImputer(strategy='most_frequent'))]),\n",
       "                                 ['brand', 'binding', 'handling_group']),\n",
       "                                ('constant',\n",
       "                                 Pipeline(steps=[('cat_imputer',\n",
       "                                                  SimpleImputer(fill_value='missing',\n",
       "                                                                strategy='constant'))]),\n",
       "                                 ['hazmat_classification'])])</pre></div></div></div><div class=\"sk-parallel\"><div class=\"sk-parallel-item\"><div class=\"sk-item\"><div class=\"sk-label-container\"><div class=\"sk-label sk-toggleable\"><input class=\"sk-toggleable__control sk-hidden--visually\" id=\"4e0e6afb-91f4-48e9-b4cc-beed1be6d194\" type=\"checkbox\" ><label class=\"sk-toggleable__label\" for=\"4e0e6afb-91f4-48e9-b4cc-beed1be6d194\">most_frequent</label><div class=\"sk-toggleable__content\"><pre>['brand', 'binding', 'handling_group']</pre></div></div></div><div class=\"sk-serial\"><div class=\"sk-item\"><div class=\"sk-serial\"><div class=\"sk-item\"><div class=\"sk-estimator sk-toggleable\"><input class=\"sk-toggleable__control sk-hidden--visually\" id=\"eab25daa-e444-4251-822c-957b2a7a0299\" type=\"checkbox\" ><label class=\"sk-toggleable__label\" for=\"eab25daa-e444-4251-822c-957b2a7a0299\">SimpleImputer</label><div class=\"sk-toggleable__content\"><pre>SimpleImputer(strategy='most_frequent')</pre></div></div></div></div></div></div></div></div><div class=\"sk-parallel-item\"><div class=\"sk-item\"><div class=\"sk-label-container\"><div class=\"sk-label sk-toggleable\"><input class=\"sk-toggleable__control sk-hidden--visually\" id=\"bf4b0617-c0bd-45ca-98d7-642d49a0fdc5\" type=\"checkbox\" ><label class=\"sk-toggleable__label\" for=\"bf4b0617-c0bd-45ca-98d7-642d49a0fdc5\">constant</label><div class=\"sk-toggleable__content\"><pre>['hazmat_classification']</pre></div></div></div><div class=\"sk-serial\"><div class=\"sk-item\"><div class=\"sk-serial\"><div class=\"sk-item\"><div class=\"sk-estimator sk-toggleable\"><input class=\"sk-toggleable__control sk-hidden--visually\" id=\"b3edce7d-d1f9-4f31-9e54-499db7e46cda\" type=\"checkbox\" ><label class=\"sk-toggleable__label\" for=\"b3edce7d-d1f9-4f31-9e54-499db7e46cda\">SimpleImputer</label><div class=\"sk-toggleable__content\"><pre>SimpleImputer(fill_value='missing', strategy='constant')</pre></div></div></div></div></div></div></div></div></div></div><div class=\"sk-item\"><div class=\"sk-estimator sk-toggleable\"><input class=\"sk-toggleable__control sk-hidden--visually\" id=\"e5dbd627-a954-47a9-be26-117ab2575d8a\" type=\"checkbox\" ><label class=\"sk-toggleable__label\" for=\"e5dbd627-a954-47a9-be26-117ab2575d8a\">FunctionTransformer</label><div class=\"sk-toggleable__content\"><pre>FunctionTransformer(func=<function to_lowercase at 0x16069fdc0>)</pre></div></div></div><div class=\"sk-item\"><div class=\"sk-estimator sk-toggleable\"><input class=\"sk-toggleable__control sk-hidden--visually\" id=\"fd9c76f5-cd04-4758-8b6f-c91a75f452c2\" type=\"checkbox\" ><label class=\"sk-toggleable__label\" for=\"fd9c76f5-cd04-4758-8b6f-c91a75f452c2\">OneHotEncoder</label><div class=\"sk-toggleable__content\"><pre>OneHotEncoder(handle_unknown='ignore')</pre></div></div></div><div class=\"sk-item\"><div class=\"sk-estimator sk-toggleable\"><input class=\"sk-toggleable__control sk-hidden--visually\" id=\"75d568fb-07a0-4f4f-a627-44b26e3cb1c2\" type=\"checkbox\" ><label class=\"sk-toggleable__label\" for=\"75d568fb-07a0-4f4f-a627-44b26e3cb1c2\">LGBMClassifier</label><div class=\"sk-toggleable__content\"><pre>LGBMClassifier()</pre></div></div></div></div></div></div></div>"
      ],
      "text/plain": [
       "Pipeline(steps=[('preprocessor',\n",
       "                 ColumnTransformer(transformers=[('most_frequent',\n",
       "                                                  Pipeline(steps=[('cat_imputer',\n",
       "                                                                   SimpleImputer(strategy='most_frequent'))]),\n",
       "                                                  ['brand', 'binding',\n",
       "                                                   'handling_group']),\n",
       "                                                 ('constant',\n",
       "                                                  Pipeline(steps=[('cat_imputer',\n",
       "                                                                   SimpleImputer(fill_value='missing',\n",
       "                                                                                 strategy='constant'))]),\n",
       "                                                  ['hazmat_classification'])])),\n",
       "                ('cat_lowercase_transformer',\n",
       "                 FunctionTransformer(func=<function to_lowercase at 0x16069fdc0>)),\n",
       "                ('cat_encoder', OneHotEncoder(handle_unknown='ignore')),\n",
       "                ('lightgbm', LGBMClassifier())])"
      ]
     },
     "execution_count": 34,
     "metadata": {},
     "output_type": "execute_result"
    }
   ],
   "source": [
    "from sklearn import set_config\n",
    "set_config(display='diagram')\n",
    "pipeline_light_gbm"
   ]
  },
  {
   "cell_type": "code",
   "execution_count": 37,
   "id": "a85366b1",
   "metadata": {},
   "outputs": [],
   "source": [
    "val_Y = val_data[\"actual_process_class_ID\"].values\n",
    "val_X = val_data.drop(columns=[\"actual_process_class_ID\", \"ASIN\"])\n",
    "\n",
    "for c in val_X.columns:\n",
    "    val_X[c] = val_X[c].astype(\"category\")"
   ]
  },
  {
   "cell_type": "code",
   "execution_count": 39,
   "id": "358c22d8",
   "metadata": {},
   "outputs": [],
   "source": [
    "# encoding target column values into 0 to 27 since Y has 28 unique values\n",
    "\n",
    "y_label_to_id = dict()\n",
    "y_id_to_label = dict()\n",
    "val_y_mod = list()\n",
    "idx = 0\n",
    "for elem in val_Y.tolist():\n",
    "    if elem not in y_label_to_id:\n",
    "        y_label_to_id[elem] = idx\n",
    "        y_id_to_label[idx] = elem\n",
    "        idx += 1\n",
    "    val_y_mod.append(y_label_to_id[elem])"
   ]
  },
  {
   "cell_type": "code",
   "execution_count": 54,
   "id": "e32e4e03",
   "metadata": {},
   "outputs": [
    {
     "name": "stdout",
     "output_type": "stream",
     "text": [
      "Model performance on validation set:\n",
      "              precision    recall  f1-score   support\n",
      "\n",
      "           0       0.00      0.00      0.00      4799\n",
      "           1       0.08      0.00      0.00     13452\n",
      "           2       0.00      0.00      0.00      1563\n",
      "           3       0.00      0.00      0.00       673\n",
      "           4       0.00      0.00      0.00      2760\n",
      "           5       0.00      0.00      0.00      2100\n",
      "           6       0.00      0.00      0.00      2046\n",
      "           7       0.00      0.00      0.00       279\n",
      "           8       0.03      0.00      0.00       902\n",
      "           9       0.00      0.00      0.00      3410\n",
      "          10       0.00      0.00      0.00      1900\n",
      "          11       0.00      0.00      0.00       685\n",
      "          12       0.00      0.00      0.00       125\n",
      "          13       0.00      0.00      0.00      2174\n",
      "          14       0.00      0.00      0.00      1005\n",
      "          15       0.00      0.00      0.00       649\n",
      "          16       0.01      1.00      0.01       196\n",
      "          17       0.00      0.00      0.00       743\n",
      "          18       0.00      0.00      0.00       345\n",
      "          19       0.01      0.06      0.02       182\n",
      "          20       0.00      0.00      0.00        70\n",
      "          21       0.00      0.00      0.00       266\n",
      "          22       0.00      0.00      0.00        26\n",
      "          23       0.00      0.00      0.00         5\n",
      "          24       0.00      0.00      0.00         1\n",
      "          25       0.00      0.00      0.00         1\n",
      "\n",
      "    accuracy                           0.01     40357\n",
      "   macro avg       0.00      0.04      0.00     40357\n",
      "weighted avg       0.03      0.01      0.00     40357\n",
      "\n",
      "Validation accuracy: 0.00547612557920559\n"
     ]
    }
   ],
   "source": [
    "# Accuracy Report\n",
    "\n",
    "from sklearn.metrics import confusion_matrix, classification_report, accuracy_score\n",
    "\n",
    "val_predictions = pipeline_light_gbm.predict(val_X)\n",
    "\n",
    "# generate confusion matrix as a dataframe\n",
    "unique_labels = sorted(set(val_y_mod))\n",
    "confusion_matrix = confusion_matrix(val_y_mod, val_predictions)\n",
    "support = confusion_matrix.sum(axis=1)\n",
    "confusion_matrix_prob = confusion_matrix / np.sum(confusion_matrix, axis=1, keepdims=True)  # convert them to probability distributions\n",
    "\n",
    "confusion_matrix_df = pd.DataFrame(confusion_matrix_prob, columns=[str(label) + '_pred' for label in unique_labels], index=[str(label) + '_true' for label in unique_labels])\n",
    "confusion_matrix_df['support'] = support\n",
    "confusion_matrix_df.to_csv('confusion_matrix.csv', index=True)\n",
    "\n",
    "print('Model performance on validation set:')\n",
    "print(classification_report(val_y_mod, val_predictions))\n",
    "val_accuracy = accuracy_score(val_y_mod, val_predictions)\n",
    "print(\"Validation accuracy:\", val_accuracy)"
   ]
  },
  {
   "cell_type": "markdown",
   "id": "5b8958f9",
   "metadata": {},
   "source": [
    "### 6. Get test predictions and write to CSV for submission"
   ]
  },
  {
   "cell_type": "code",
   "execution_count": 57,
   "id": "b4d39712",
   "metadata": {},
   "outputs": [],
   "source": [
    "# call pipeline.predict() on your test dataset\n",
    "test_predictions_light_gbm=pipeline_light_gbm.predict(val_X)"
   ]
  },
  {
   "cell_type": "code",
   "execution_count": 58,
   "id": "cb5953e9",
   "metadata": {},
   "outputs": [],
   "source": [
    "import pandas as pd\n",
    "\n",
    "result_df = pd.DataFrame(columns=[\"ID\",\n",
    "                                  \"actual_process_class_ID\"])\n",
    "result_df[\"ID\"] = val_data[\"ID\"].tolist()\n",
    "result_df[\"actual_process_class_ID\"] = test_predictions_light_gbm\n",
    "\n",
    "result_df.to_csv(\"project_result.csv\", index=False)"
   ]
  },
  {
   "cell_type": "code",
   "execution_count": null,
   "id": "98d84df3",
   "metadata": {},
   "outputs": [],
   "source": []
  }
 ],
 "metadata": {
  "kernelspec": {
   "display_name": "Python 3 (ipykernel)",
   "language": "python",
   "name": "python3"
  },
  "language_info": {
   "codemirror_mode": {
    "name": "ipython",
    "version": 3
   },
   "file_extension": ".py",
   "mimetype": "text/x-python",
   "name": "python",
   "nbconvert_exporter": "python",
   "pygments_lexer": "ipython3",
   "version": "3.9.1"
  }
 },
 "nbformat": 4,
 "nbformat_minor": 5
}
