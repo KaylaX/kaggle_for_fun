{
 "cells": [
  {
   "cell_type": "markdown",
   "id": "8c23554e",
   "metadata": {},
   "source": [
    "### 1. Reading the datasets\n",
    "Installing the libraries first."
   ]
  },
  {
   "cell_type": "code",
   "execution_count": 5,
   "id": "03a43ce3",
   "metadata": {},
   "outputs": [],
   "source": [
    "import warnings\n",
    "warnings.filterwarnings(\"ignore\")"
   ]
  },
  {
   "cell_type": "code",
   "execution_count": 6,
   "id": "e7f2ea89",
   "metadata": {},
   "outputs": [
    {
     "name": "stdout",
     "output_type": "stream",
     "text": [
      "\u001b[33mDEPRECATION: Configuring installation scheme with distutils config files is deprecated and will no longer work in the near future. If you are using a Homebrew or Linuxbrew Python, please see discussion at https://github.com/Homebrew/homebrew-core/issues/76621\u001b[0m\n",
      "\u001b[33mDEPRECATION: Configuring installation scheme with distutils config files is deprecated and will no longer work in the near future. If you are using a Homebrew or Linuxbrew Python, please see discussion at https://github.com/Homebrew/homebrew-core/issues/76621\u001b[0m\n",
      "\u001b[33mDEPRECATION: Configuring installation scheme with distutils config files is deprecated and will no longer work in the near future. If you are using a Homebrew or Linuxbrew Python, please see discussion at https://github.com/Homebrew/homebrew-core/issues/76621\u001b[0m\n",
      "\u001b[31mERROR: Could not find a version that satisfies the requirement mxnet==1.8.0 (from versions: 1.6.0, 1.7.0.post1, 1.7.0.post2, 1.8.0.post0)\u001b[0m\n",
      "\u001b[31mERROR: No matching distribution found for mxnet==1.8.0\u001b[0m\n",
      "\u001b[33mDEPRECATION: Configuring installation scheme with distutils config files is deprecated and will no longer work in the near future. If you are using a Homebrew or Linuxbrew Python, please see discussion at https://github.com/Homebrew/homebrew-core/issues/76621\u001b[0m\n",
      "\u001b[33mDEPRECATION: Configuring installation scheme with distutils config files is deprecated and will no longer work in the near future. If you are using a Homebrew or Linuxbrew Python, please see discussion at https://github.com/Homebrew/homebrew-core/issues/76621\u001b[0m\n"
     ]
    }
   ],
   "source": [
    "! pip install -q -U numpy==1.19.5\n",
    "! pip install -q -U matplotlib==3.3.4\n",
    "! pip install -q -U mxnet==1.8.0\n",
    "! pip install -q -U catboost==0.26.1\n",
    "! pip install -q -U lightgbm==3.2.1"
   ]
  },
  {
   "cell_type": "code",
   "execution_count": 7,
   "id": "5f3c6179",
   "metadata": {},
   "outputs": [],
   "source": [
    "import pandas as pd\n",
    "\n",
    "train_df = pd.read_csv(\"../final_project/final_project_dataset_training.csv\")\n",
    "test_df = pd.read_csv(\"../final_project/public_test_features.csv\")"
   ]
  },
  {
   "cell_type": "code",
   "execution_count": 8,
   "id": "271c76c2",
   "metadata": {},
   "outputs": [],
   "source": [
    "import matplotlib.pyplot as plt\n",
    "import numpy as np\n",
    "import seaborn as sns\n",
    "\n",
    "%matplotlib inline"
   ]
  },
  {
   "cell_type": "markdown",
   "id": "494baf05",
   "metadata": {},
   "source": [
    "### 2. Splitting into train and test"
   ]
  },
  {
   "cell_type": "markdown",
   "id": "f42c3fb1",
   "metadata": {},
   "source": [
    "__SimpleImputer: Sklearn imputation transformer for completing missing values__\n",
    "\n",
    "Examples:\n",
    "* Numerical fields: `SimpleImputer(missing_values=nan, strategy='mean', fill_value=None)` # or strategy='median'\n",
    "* Categorical fields: `SimpleImputer(missing_values=nan, strategy='most_frequent', fill_value=None)`\n",
    "* Constant (for both): `SimpleImputer(missing_values=nan, strategy='constant', fill_value=None)` # example: for categorical-> fill_value='missing', for numerical -> fill_value=0"
   ]
  },
  {
   "cell_type": "code",
   "execution_count": 9,
   "id": "8371d14b",
   "metadata": {},
   "outputs": [
    {
     "data": {
      "text/plain": [
       "Index(['ID', 'ASIN', 'marketplace', 'GL', 'category', 'subcategory', 'dept',\n",
       "       'brand_code', 'brand', 'item_type_keyword', 'website_display_group',\n",
       "       'product_type_description', 'binding', 'size', 'handling_group',\n",
       "       'item_count', 'hazmat_classification', 'actual_process_class_ID'],\n",
       "      dtype='object')"
      ]
     },
     "execution_count": 9,
     "metadata": {},
     "output_type": "execute_result"
    }
   ],
   "source": [
    "train_df.columns"
   ]
  },
  {
   "cell_type": "code",
   "execution_count": 10,
   "id": "dd964ef2",
   "metadata": {},
   "outputs": [
    {
     "data": {
      "text/plain": [
       "0"
      ]
     },
     "execution_count": 10,
     "metadata": {},
     "output_type": "execute_result"
    }
   ],
   "source": [
    "train_df.duplicated().sum() # there is no duplicate"
   ]
  },
  {
   "cell_type": "code",
   "execution_count": 11,
   "id": "be7c5ded",
   "metadata": {},
   "outputs": [],
   "source": [
    "columns_to_keep = ['marketplace', 'GL', 'category', 'subcategory', 'brand', 'website_display_group',\n",
    "       'product_type_description', 'binding','handling_group', 'hazmat_classification']\n",
    "\n",
    "# dropping columns that have too many missing values such as dept and size, item count\n",
    "# dropping columns that are too similar to the existing features"
   ]
  },
  {
   "cell_type": "code",
   "execution_count": 12,
   "id": "e6ed68bd",
   "metadata": {},
   "outputs": [
    {
     "data": {
      "text/plain": [
       "Index(['ID', 'ASIN', 'marketplace', 'GL', 'category', 'subcategory', 'dept',\n",
       "       'brand_code', 'brand', 'item_type_keyword', 'website_display_group',\n",
       "       'product_type_description', 'binding', 'size', 'handling_group',\n",
       "       'item_count', 'hazmat_classification'],\n",
       "      dtype='object')"
      ]
     },
     "execution_count": 12,
     "metadata": {},
     "output_type": "execute_result"
    }
   ],
   "source": [
    "test_df.columns"
   ]
  },
  {
   "cell_type": "code",
   "execution_count": 13,
   "id": "7581f351",
   "metadata": {},
   "outputs": [
    {
     "name": "stdout",
     "output_type": "stream",
     "text": [
      "Train - Test Datasets shapes:  (363205, 18) (40357, 18)\n"
     ]
    }
   ],
   "source": [
    "from sklearn.model_selection import train_test_split\n",
    "\n",
    "train_data, val_data = train_test_split(train_df, test_size=0.1, shuffle=True, random_state=23)\n",
    "\n",
    "# Print the shapes of the Train - Test Datasets\n",
    "print('Train - Test Datasets shapes: ', train_data.shape, val_data.shape)"
   ]
  },
  {
   "cell_type": "code",
   "execution_count": 14,
   "id": "4bd0f87a",
   "metadata": {},
   "outputs": [],
   "source": [
    "train_X=train_data[columns_to_keep]\n",
    "val_X=val_data[columns_to_keep]\n",
    "train_Y=train_data['actual_process_class_ID']"
   ]
  },
  {
   "cell_type": "code",
   "execution_count": 15,
   "id": "333fe658",
   "metadata": {},
   "outputs": [
    {
     "data": {
      "text/plain": [
       "marketplace                 1.000000\n",
       "GL                          1.000000\n",
       "category                    1.000000\n",
       "subcategory                 1.000000\n",
       "brand                       0.969885\n",
       "website_display_group       1.000000\n",
       "product_type_description    1.000000\n",
       "binding                     0.994774\n",
       "handling_group              0.964067\n",
       "hazmat_classification       0.012599\n",
       "dtype: float64"
      ]
     },
     "execution_count": 15,
     "metadata": {},
     "output_type": "execute_result"
    }
   ],
   "source": [
    "train_X.count()/len(train_X)"
   ]
  },
  {
   "cell_type": "markdown",
   "id": "0ee3c1f6",
   "metadata": {},
   "source": [
    "### 3. Data Preprocessing and Defining classifiers\n",
    "\n",
    "Pipeline is an easy way to apply preprocessing on multiple fields."
   ]
  },
  {
   "cell_type": "code",
   "execution_count": 16,
   "id": "dfd1f70e",
   "metadata": {},
   "outputs": [],
   "source": [
    "from sklearn.utils import resample\n",
    "from sklearn.ensemble import RandomForestClassifier\n",
    "from sklearn.tree import DecisionTreeClassifier"
   ]
  },
  {
   "cell_type": "code",
   "execution_count": 17,
   "id": "131307c4",
   "metadata": {},
   "outputs": [],
   "source": [
    "# Random Forest\n",
    "# max_features=sqrt(n_features)\n",
    "random_forest_classifier=RandomForestClassifier(n_estimators=20, criterion='gini',max_depth=None,\\\n",
    "                                                min_samples_split=2,\\\n",
    "                                                min_samples_leaf=1,\\\n",
    "                                                max_leaf_nodes=None,\\\n",
    "                                                min_weight_fraction_leaf=0.0,\\\n",
    "                                                max_features='auto',min_impurity_decrease=0.0,\\\n",
    "                                                min_impurity_split=None,bootstrap=True,oob_score=False,n_jobs=1)"
   ]
  },
  {
   "cell_type": "code",
   "execution_count": 18,
   "id": "56ff6822",
   "metadata": {},
   "outputs": [],
   "source": [
    "most_frequent_cols = ['brand', 'binding', 'handling_group']\n",
    "constant_cols = ['hazmat_classification']"
   ]
  },
  {
   "cell_type": "code",
   "execution_count": 19,
   "id": "74408526",
   "metadata": {},
   "outputs": [],
   "source": [
    "from sklearn.impute import SimpleImputer\n",
    "from sklearn.preprocessing import OneHotEncoder\n",
    "from sklearn.pipeline import Pipeline\n",
    "from sklearn.compose import ColumnTransformer\n",
    "\n",
    "# apply different preprocessing and feature extraction pipelines to different subsets of features, \n",
    "# using ColumnTransformer.\n",
    "most_frequent_transformer = Pipeline(steps=[\n",
    "       ('cat_imputer', SimpleImputer(strategy='most_frequent'))\n",
    "])\n",
    "\n",
    "constant_transformer = Pipeline(steps=[\n",
    "       ('cat_imputer', SimpleImputer(strategy='constant', fill_value='missing'))\n",
    "])\n",
    "\n",
    "preprocessor = ColumnTransformer(\n",
    "   transformers=[\n",
    "    ('most_frequent', most_frequent_transformer, most_frequent_cols)\n",
    "   ,('constant', constant_transformer, constant_cols)\n",
    "]) "
   ]
  },
  {
   "cell_type": "code",
   "execution_count": 20,
   "id": "cd725444",
   "metadata": {},
   "outputs": [],
   "source": [
    "from sklearn.preprocessing import FunctionTransformer\n",
    "\n",
    "def to_lowercase(x):\n",
    "    return np.char.lower(x.astype(str))\n",
    "\n",
    "lowercase_transformer = FunctionTransformer(to_lowercase, validate=False)"
   ]
  },
  {
   "cell_type": "code",
   "execution_count": 21,
   "id": "9ee477ae",
   "metadata": {},
   "outputs": [
    {
     "data": {
      "text/plain": [
       "Pipeline(steps=[('preprocessor',\n",
       "                 ColumnTransformer(transformers=[('most_frequent',\n",
       "                                                  Pipeline(steps=[('cat_imputer',\n",
       "                                                                   SimpleImputer(strategy='most_frequent'))]),\n",
       "                                                  ['brand', 'binding',\n",
       "                                                   'handling_group']),\n",
       "                                                 ('constant',\n",
       "                                                  Pipeline(steps=[('cat_imputer',\n",
       "                                                                   SimpleImputer(fill_value='missing',\n",
       "                                                                                 strategy='constant'))]),\n",
       "                                                  ['hazmat_classification'])])),\n",
       "                ('cat_lowercase_transformer',\n",
       "                 FunctionTransformer(func=<function to_lowercase at 0x14fbadb80>)),\n",
       "                ('cat_encoder', OneHotEncoder(handle_unknown='ignore')),\n",
       "                ('dt', DecisionTreeClassifier(max_depth=5))])"
      ]
     },
     "execution_count": 21,
     "metadata": {},
     "output_type": "execute_result"
    }
   ],
   "source": [
    "# Preprocess the categorical features and add decision tree to the pipeline\n",
    "pipeline_decision_tree = Pipeline([('preprocessor', preprocessor),\n",
    "                                   ('cat_lowercase_transformer', lowercase_transformer),\n",
    "                                   ('cat_encoder', OneHotEncoder(handle_unknown='ignore')),\n",
    "                                   ('dt', DecisionTreeClassifier(max_depth=5))])\n",
    "\n",
    "pipeline_decision_tree.fit(train_X,\n",
    "                           train_data[[\"actual_process_class_ID\"]])"
   ]
  },
  {
   "cell_type": "code",
   "execution_count": 27,
   "id": "41bb7e4e",
   "metadata": {},
   "outputs": [
    {
     "data": {
      "text/html": [
       "<style>#sk-94ca5e3f-6f41-4e27-8b88-37ec036fe5da {color: black;background-color: white;}#sk-94ca5e3f-6f41-4e27-8b88-37ec036fe5da pre{padding: 0;}#sk-94ca5e3f-6f41-4e27-8b88-37ec036fe5da div.sk-toggleable {background-color: white;}#sk-94ca5e3f-6f41-4e27-8b88-37ec036fe5da label.sk-toggleable__label {cursor: pointer;display: block;width: 100%;margin-bottom: 0;padding: 0.2em 0.3em;box-sizing: border-box;text-align: center;}#sk-94ca5e3f-6f41-4e27-8b88-37ec036fe5da div.sk-toggleable__content {max-height: 0;max-width: 0;overflow: hidden;text-align: left;background-color: #f0f8ff;}#sk-94ca5e3f-6f41-4e27-8b88-37ec036fe5da div.sk-toggleable__content pre {margin: 0.2em;color: black;border-radius: 0.25em;background-color: #f0f8ff;}#sk-94ca5e3f-6f41-4e27-8b88-37ec036fe5da input.sk-toggleable__control:checked~div.sk-toggleable__content {max-height: 200px;max-width: 100%;overflow: auto;}#sk-94ca5e3f-6f41-4e27-8b88-37ec036fe5da div.sk-estimator input.sk-toggleable__control:checked~label.sk-toggleable__label {background-color: #d4ebff;}#sk-94ca5e3f-6f41-4e27-8b88-37ec036fe5da div.sk-label input.sk-toggleable__control:checked~label.sk-toggleable__label {background-color: #d4ebff;}#sk-94ca5e3f-6f41-4e27-8b88-37ec036fe5da input.sk-hidden--visually {border: 0;clip: rect(1px 1px 1px 1px);clip: rect(1px, 1px, 1px, 1px);height: 1px;margin: -1px;overflow: hidden;padding: 0;position: absolute;width: 1px;}#sk-94ca5e3f-6f41-4e27-8b88-37ec036fe5da div.sk-estimator {font-family: monospace;background-color: #f0f8ff;margin: 0.25em 0.25em;border: 1px dotted black;border-radius: 0.25em;box-sizing: border-box;}#sk-94ca5e3f-6f41-4e27-8b88-37ec036fe5da div.sk-estimator:hover {background-color: #d4ebff;}#sk-94ca5e3f-6f41-4e27-8b88-37ec036fe5da div.sk-parallel-item::after {content: \"\";width: 100%;border-bottom: 1px solid gray;flex-grow: 1;}#sk-94ca5e3f-6f41-4e27-8b88-37ec036fe5da div.sk-label:hover label.sk-toggleable__label {background-color: #d4ebff;}#sk-94ca5e3f-6f41-4e27-8b88-37ec036fe5da div.sk-serial::before {content: \"\";position: absolute;border-left: 1px solid gray;box-sizing: border-box;top: 2em;bottom: 0;left: 50%;}#sk-94ca5e3f-6f41-4e27-8b88-37ec036fe5da div.sk-serial {display: flex;flex-direction: column;align-items: center;background-color: white;}#sk-94ca5e3f-6f41-4e27-8b88-37ec036fe5da div.sk-item {z-index: 1;}#sk-94ca5e3f-6f41-4e27-8b88-37ec036fe5da div.sk-parallel {display: flex;align-items: stretch;justify-content: center;background-color: white;}#sk-94ca5e3f-6f41-4e27-8b88-37ec036fe5da div.sk-parallel-item {display: flex;flex-direction: column;position: relative;background-color: white;}#sk-94ca5e3f-6f41-4e27-8b88-37ec036fe5da div.sk-parallel-item:first-child::after {align-self: flex-end;width: 50%;}#sk-94ca5e3f-6f41-4e27-8b88-37ec036fe5da div.sk-parallel-item:last-child::after {align-self: flex-start;width: 50%;}#sk-94ca5e3f-6f41-4e27-8b88-37ec036fe5da div.sk-parallel-item:only-child::after {width: 0;}#sk-94ca5e3f-6f41-4e27-8b88-37ec036fe5da div.sk-dashed-wrapped {border: 1px dashed gray;margin: 0.2em;box-sizing: border-box;padding-bottom: 0.1em;background-color: white;position: relative;}#sk-94ca5e3f-6f41-4e27-8b88-37ec036fe5da div.sk-label label {font-family: monospace;font-weight: bold;background-color: white;display: inline-block;line-height: 1.2em;}#sk-94ca5e3f-6f41-4e27-8b88-37ec036fe5da div.sk-label-container {position: relative;z-index: 2;text-align: center;}#sk-94ca5e3f-6f41-4e27-8b88-37ec036fe5da div.sk-container {display: inline-block;position: relative;}</style><div id=\"sk-94ca5e3f-6f41-4e27-8b88-37ec036fe5da\" class\"sk-top-container\"><div class=\"sk-container\"><div class=\"sk-item sk-dashed-wrapped\"><div class=\"sk-label-container\"><div class=\"sk-label sk-toggleable\"><input class=\"sk-toggleable__control sk-hidden--visually\" id=\"6d38dde3-bbb3-4bb7-b64b-55f8d052f3f0\" type=\"checkbox\" ><label class=\"sk-toggleable__label\" for=\"6d38dde3-bbb3-4bb7-b64b-55f8d052f3f0\">Pipeline</label><div class=\"sk-toggleable__content\"><pre>Pipeline(steps=[('preprocessor',\n",
       "                 ColumnTransformer(transformers=[('most_frequent',\n",
       "                                                  Pipeline(steps=[('cat_imputer',\n",
       "                                                                   SimpleImputer(strategy='most_frequent'))]),\n",
       "                                                  ['brand', 'binding',\n",
       "                                                   'handling_group']),\n",
       "                                                 ('constant',\n",
       "                                                  Pipeline(steps=[('cat_imputer',\n",
       "                                                                   SimpleImputer(fill_value='missing',\n",
       "                                                                                 strategy='constant'))]),\n",
       "                                                  ['hazmat_classification'])])),\n",
       "                ('cat_lowercase_transformer',\n",
       "                 FunctionTransformer(func=<function to_lowercase at 0x14fbadb80>)),\n",
       "                ('cat_encoder', OneHotEncoder(handle_unknown='ignore')),\n",
       "                ('dt', DecisionTreeClassifier(max_depth=5))])</pre></div></div></div><div class=\"sk-serial\"><div class=\"sk-item sk-dashed-wrapped\"><div class=\"sk-label-container\"><div class=\"sk-label sk-toggleable\"><input class=\"sk-toggleable__control sk-hidden--visually\" id=\"696102ff-530b-4499-95db-86a5928ca964\" type=\"checkbox\" ><label class=\"sk-toggleable__label\" for=\"696102ff-530b-4499-95db-86a5928ca964\">preprocessor: ColumnTransformer</label><div class=\"sk-toggleable__content\"><pre>ColumnTransformer(transformers=[('most_frequent',\n",
       "                                 Pipeline(steps=[('cat_imputer',\n",
       "                                                  SimpleImputer(strategy='most_frequent'))]),\n",
       "                                 ['brand', 'binding', 'handling_group']),\n",
       "                                ('constant',\n",
       "                                 Pipeline(steps=[('cat_imputer',\n",
       "                                                  SimpleImputer(fill_value='missing',\n",
       "                                                                strategy='constant'))]),\n",
       "                                 ['hazmat_classification'])])</pre></div></div></div><div class=\"sk-parallel\"><div class=\"sk-parallel-item\"><div class=\"sk-item\"><div class=\"sk-label-container\"><div class=\"sk-label sk-toggleable\"><input class=\"sk-toggleable__control sk-hidden--visually\" id=\"b878cc6b-1321-4760-933a-8ddcdbcfdf2a\" type=\"checkbox\" ><label class=\"sk-toggleable__label\" for=\"b878cc6b-1321-4760-933a-8ddcdbcfdf2a\">most_frequent</label><div class=\"sk-toggleable__content\"><pre>['brand', 'binding', 'handling_group']</pre></div></div></div><div class=\"sk-serial\"><div class=\"sk-item\"><div class=\"sk-serial\"><div class=\"sk-item\"><div class=\"sk-estimator sk-toggleable\"><input class=\"sk-toggleable__control sk-hidden--visually\" id=\"ab842a13-f337-4c2e-a869-b1f8515c84d7\" type=\"checkbox\" ><label class=\"sk-toggleable__label\" for=\"ab842a13-f337-4c2e-a869-b1f8515c84d7\">SimpleImputer</label><div class=\"sk-toggleable__content\"><pre>SimpleImputer(strategy='most_frequent')</pre></div></div></div></div></div></div></div></div><div class=\"sk-parallel-item\"><div class=\"sk-item\"><div class=\"sk-label-container\"><div class=\"sk-label sk-toggleable\"><input class=\"sk-toggleable__control sk-hidden--visually\" id=\"c710f10d-9cb3-462c-ad1c-901179c17ca6\" type=\"checkbox\" ><label class=\"sk-toggleable__label\" for=\"c710f10d-9cb3-462c-ad1c-901179c17ca6\">constant</label><div class=\"sk-toggleable__content\"><pre>['hazmat_classification']</pre></div></div></div><div class=\"sk-serial\"><div class=\"sk-item\"><div class=\"sk-serial\"><div class=\"sk-item\"><div class=\"sk-estimator sk-toggleable\"><input class=\"sk-toggleable__control sk-hidden--visually\" id=\"99897072-2d8d-4545-a470-e701ca9e3a04\" type=\"checkbox\" ><label class=\"sk-toggleable__label\" for=\"99897072-2d8d-4545-a470-e701ca9e3a04\">SimpleImputer</label><div class=\"sk-toggleable__content\"><pre>SimpleImputer(fill_value='missing', strategy='constant')</pre></div></div></div></div></div></div></div></div></div></div><div class=\"sk-item\"><div class=\"sk-estimator sk-toggleable\"><input class=\"sk-toggleable__control sk-hidden--visually\" id=\"9c3d3e88-05dd-4ea5-9a14-525e1097a1e8\" type=\"checkbox\" ><label class=\"sk-toggleable__label\" for=\"9c3d3e88-05dd-4ea5-9a14-525e1097a1e8\">FunctionTransformer</label><div class=\"sk-toggleable__content\"><pre>FunctionTransformer(func=<function to_lowercase at 0x14fbadb80>)</pre></div></div></div><div class=\"sk-item\"><div class=\"sk-estimator sk-toggleable\"><input class=\"sk-toggleable__control sk-hidden--visually\" id=\"3bb13956-7868-44aa-9a48-2fd1230d7d45\" type=\"checkbox\" ><label class=\"sk-toggleable__label\" for=\"3bb13956-7868-44aa-9a48-2fd1230d7d45\">OneHotEncoder</label><div class=\"sk-toggleable__content\"><pre>OneHotEncoder(handle_unknown='ignore')</pre></div></div></div><div class=\"sk-item\"><div class=\"sk-estimator sk-toggleable\"><input class=\"sk-toggleable__control sk-hidden--visually\" id=\"74a7c2c3-2383-419d-a8da-0c505913498e\" type=\"checkbox\" ><label class=\"sk-toggleable__label\" for=\"74a7c2c3-2383-419d-a8da-0c505913498e\">DecisionTreeClassifier</label><div class=\"sk-toggleable__content\"><pre>DecisionTreeClassifier(max_depth=5)</pre></div></div></div></div></div></div></div>"
      ],
      "text/plain": [
       "Pipeline(steps=[('preprocessor',\n",
       "                 ColumnTransformer(transformers=[('most_frequent',\n",
       "                                                  Pipeline(steps=[('cat_imputer',\n",
       "                                                                   SimpleImputer(strategy='most_frequent'))]),\n",
       "                                                  ['brand', 'binding',\n",
       "                                                   'handling_group']),\n",
       "                                                 ('constant',\n",
       "                                                  Pipeline(steps=[('cat_imputer',\n",
       "                                                                   SimpleImputer(fill_value='missing',\n",
       "                                                                                 strategy='constant'))]),\n",
       "                                                  ['hazmat_classification'])])),\n",
       "                ('cat_lowercase_transformer',\n",
       "                 FunctionTransformer(func=<function to_lowercase at 0x14fbadb80>)),\n",
       "                ('cat_encoder', OneHotEncoder(handle_unknown='ignore')),\n",
       "                ('dt', DecisionTreeClassifier(max_depth=5))])"
      ]
     },
     "execution_count": 27,
     "metadata": {},
     "output_type": "execute_result"
    }
   ],
   "source": [
    "from sklearn import set_config\n",
    "set_config(display='diagram')\n",
    "pipeline_decision_tree"
   ]
  },
  {
   "cell_type": "code",
   "execution_count": null,
   "id": "09c53de8",
   "metadata": {},
   "outputs": [],
   "source": [
    "from sklearn import set_config\n",
    "set_config(display='diagram')\n",
    "pipeline_random_forest_classifier"
   ]
  },
  {
   "cell_type": "markdown",
   "id": "92708f2b",
   "metadata": {},
   "source": [
    "### 4. Hyperparameter Tuning"
   ]
  },
  {
   "cell_type": "code",
   "execution_count": 34,
   "id": "a0f764d7",
   "metadata": {},
   "outputs": [
    {
     "data": {
      "text/html": [
       "<style>#sk-d53d5865-039a-47df-a909-f1aebc8f16c0 {color: black;background-color: white;}#sk-d53d5865-039a-47df-a909-f1aebc8f16c0 pre{padding: 0;}#sk-d53d5865-039a-47df-a909-f1aebc8f16c0 div.sk-toggleable {background-color: white;}#sk-d53d5865-039a-47df-a909-f1aebc8f16c0 label.sk-toggleable__label {cursor: pointer;display: block;width: 100%;margin-bottom: 0;padding: 0.2em 0.3em;box-sizing: border-box;text-align: center;}#sk-d53d5865-039a-47df-a909-f1aebc8f16c0 div.sk-toggleable__content {max-height: 0;max-width: 0;overflow: hidden;text-align: left;background-color: #f0f8ff;}#sk-d53d5865-039a-47df-a909-f1aebc8f16c0 div.sk-toggleable__content pre {margin: 0.2em;color: black;border-radius: 0.25em;background-color: #f0f8ff;}#sk-d53d5865-039a-47df-a909-f1aebc8f16c0 input.sk-toggleable__control:checked~div.sk-toggleable__content {max-height: 200px;max-width: 100%;overflow: auto;}#sk-d53d5865-039a-47df-a909-f1aebc8f16c0 div.sk-estimator input.sk-toggleable__control:checked~label.sk-toggleable__label {background-color: #d4ebff;}#sk-d53d5865-039a-47df-a909-f1aebc8f16c0 div.sk-label input.sk-toggleable__control:checked~label.sk-toggleable__label {background-color: #d4ebff;}#sk-d53d5865-039a-47df-a909-f1aebc8f16c0 input.sk-hidden--visually {border: 0;clip: rect(1px 1px 1px 1px);clip: rect(1px, 1px, 1px, 1px);height: 1px;margin: -1px;overflow: hidden;padding: 0;position: absolute;width: 1px;}#sk-d53d5865-039a-47df-a909-f1aebc8f16c0 div.sk-estimator {font-family: monospace;background-color: #f0f8ff;margin: 0.25em 0.25em;border: 1px dotted black;border-radius: 0.25em;box-sizing: border-box;}#sk-d53d5865-039a-47df-a909-f1aebc8f16c0 div.sk-estimator:hover {background-color: #d4ebff;}#sk-d53d5865-039a-47df-a909-f1aebc8f16c0 div.sk-parallel-item::after {content: \"\";width: 100%;border-bottom: 1px solid gray;flex-grow: 1;}#sk-d53d5865-039a-47df-a909-f1aebc8f16c0 div.sk-label:hover label.sk-toggleable__label {background-color: #d4ebff;}#sk-d53d5865-039a-47df-a909-f1aebc8f16c0 div.sk-serial::before {content: \"\";position: absolute;border-left: 1px solid gray;box-sizing: border-box;top: 2em;bottom: 0;left: 50%;}#sk-d53d5865-039a-47df-a909-f1aebc8f16c0 div.sk-serial {display: flex;flex-direction: column;align-items: center;background-color: white;}#sk-d53d5865-039a-47df-a909-f1aebc8f16c0 div.sk-item {z-index: 1;}#sk-d53d5865-039a-47df-a909-f1aebc8f16c0 div.sk-parallel {display: flex;align-items: stretch;justify-content: center;background-color: white;}#sk-d53d5865-039a-47df-a909-f1aebc8f16c0 div.sk-parallel-item {display: flex;flex-direction: column;position: relative;background-color: white;}#sk-d53d5865-039a-47df-a909-f1aebc8f16c0 div.sk-parallel-item:first-child::after {align-self: flex-end;width: 50%;}#sk-d53d5865-039a-47df-a909-f1aebc8f16c0 div.sk-parallel-item:last-child::after {align-self: flex-start;width: 50%;}#sk-d53d5865-039a-47df-a909-f1aebc8f16c0 div.sk-parallel-item:only-child::after {width: 0;}#sk-d53d5865-039a-47df-a909-f1aebc8f16c0 div.sk-dashed-wrapped {border: 1px dashed gray;margin: 0.2em;box-sizing: border-box;padding-bottom: 0.1em;background-color: white;position: relative;}#sk-d53d5865-039a-47df-a909-f1aebc8f16c0 div.sk-label label {font-family: monospace;font-weight: bold;background-color: white;display: inline-block;line-height: 1.2em;}#sk-d53d5865-039a-47df-a909-f1aebc8f16c0 div.sk-label-container {position: relative;z-index: 2;text-align: center;}#sk-d53d5865-039a-47df-a909-f1aebc8f16c0 div.sk-container {display: inline-block;position: relative;}</style><div id=\"sk-d53d5865-039a-47df-a909-f1aebc8f16c0\" class\"sk-top-container\"><div class=\"sk-container\"><div class=\"sk-item sk-dashed-wrapped\"><div class=\"sk-label-container\"><div class=\"sk-label sk-toggleable\"><input class=\"sk-toggleable__control sk-hidden--visually\" id=\"79d1f6e9-5cbd-40d7-87f0-ba4fa34130bd\" type=\"checkbox\" ><label class=\"sk-toggleable__label\" for=\"79d1f6e9-5cbd-40d7-87f0-ba4fa34130bd\">RandomizedSearchCV</label><div class=\"sk-toggleable__content\"><pre>RandomizedSearchCV(cv=10,\n",
       "                   estimator=Pipeline(steps=[('preprocessor',\n",
       "                                              ColumnTransformer(transformers=[('most_frequent',\n",
       "                                                                               Pipeline(steps=[('cat_imputer',\n",
       "                                                                                                SimpleImputer(strategy='most_frequent'))]),\n",
       "                                                                               ['brand',\n",
       "                                                                                'binding',\n",
       "                                                                                'handling_group']),\n",
       "                                                                              ('constant',\n",
       "                                                                               Pipeline(steps=[('cat_imputer',\n",
       "                                                                                                SimpleImputer(fill_value='missing',\n",
       "                                                                                                              strategy='constant'))]),\n",
       "                                                                               ['hazmat_classificat...\n",
       "                                             ('cat_lowercase_transformer',\n",
       "                                              FunctionTransformer(func=<function to_lowercase at 0x14fbadb80>)),\n",
       "                                             ('cat_encoder',\n",
       "                                              OneHotEncoder(handle_unknown='ignore')),\n",
       "                                             ('dt',\n",
       "                                              DecisionTreeClassifier(max_depth=5))]),\n",
       "                   n_iter=100, n_jobs=-1,\n",
       "                   param_distributions={'dt__criterion': ['gini', 'entropy'],\n",
       "                                        'dt__max_depth': [2, 3, 5, 10, 20],\n",
       "                                        'dt__min_samples_leaf': [5, 10, 20, 50,\n",
       "                                                                 100]},\n",
       "                   verbose=1)</pre></div></div></div><div class=\"sk-parallel\"><div class=\"sk-parallel-item\"><div class=\"sk-item\"><div class=\"sk-serial\"><div class=\"sk-item\"><div class=\"sk-serial\"><div class=\"sk-item sk-dashed-wrapped\"><div class=\"sk-label-container\"><div class=\"sk-label sk-toggleable\"><input class=\"sk-toggleable__control sk-hidden--visually\" id=\"a65cf34b-9498-4643-8cd3-eb173c477fc2\" type=\"checkbox\" ><label class=\"sk-toggleable__label\" for=\"a65cf34b-9498-4643-8cd3-eb173c477fc2\">preprocessor: ColumnTransformer</label><div class=\"sk-toggleable__content\"><pre>ColumnTransformer(transformers=[('most_frequent',\n",
       "                                 Pipeline(steps=[('cat_imputer',\n",
       "                                                  SimpleImputer(strategy='most_frequent'))]),\n",
       "                                 ['brand', 'binding', 'handling_group']),\n",
       "                                ('constant',\n",
       "                                 Pipeline(steps=[('cat_imputer',\n",
       "                                                  SimpleImputer(fill_value='missing',\n",
       "                                                                strategy='constant'))]),\n",
       "                                 ['hazmat_classification'])])</pre></div></div></div><div class=\"sk-parallel\"><div class=\"sk-parallel-item\"><div class=\"sk-item\"><div class=\"sk-label-container\"><div class=\"sk-label sk-toggleable\"><input class=\"sk-toggleable__control sk-hidden--visually\" id=\"55f351aa-c9d5-4b7a-a04c-8a7659f1c488\" type=\"checkbox\" ><label class=\"sk-toggleable__label\" for=\"55f351aa-c9d5-4b7a-a04c-8a7659f1c488\">most_frequent</label><div class=\"sk-toggleable__content\"><pre>['brand', 'binding', 'handling_group']</pre></div></div></div><div class=\"sk-serial\"><div class=\"sk-item\"><div class=\"sk-serial\"><div class=\"sk-item\"><div class=\"sk-estimator sk-toggleable\"><input class=\"sk-toggleable__control sk-hidden--visually\" id=\"0cf57c51-17de-4f4d-8201-c69f6ae7c65e\" type=\"checkbox\" ><label class=\"sk-toggleable__label\" for=\"0cf57c51-17de-4f4d-8201-c69f6ae7c65e\">SimpleImputer</label><div class=\"sk-toggleable__content\"><pre>SimpleImputer(strategy='most_frequent')</pre></div></div></div></div></div></div></div></div><div class=\"sk-parallel-item\"><div class=\"sk-item\"><div class=\"sk-label-container\"><div class=\"sk-label sk-toggleable\"><input class=\"sk-toggleable__control sk-hidden--visually\" id=\"e7e9bbc9-cfbb-4531-af20-a80c9d87da2a\" type=\"checkbox\" ><label class=\"sk-toggleable__label\" for=\"e7e9bbc9-cfbb-4531-af20-a80c9d87da2a\">constant</label><div class=\"sk-toggleable__content\"><pre>['hazmat_classification']</pre></div></div></div><div class=\"sk-serial\"><div class=\"sk-item\"><div class=\"sk-serial\"><div class=\"sk-item\"><div class=\"sk-estimator sk-toggleable\"><input class=\"sk-toggleable__control sk-hidden--visually\" id=\"d2bcfa40-e466-4d54-9176-a854a60f5eed\" type=\"checkbox\" ><label class=\"sk-toggleable__label\" for=\"d2bcfa40-e466-4d54-9176-a854a60f5eed\">SimpleImputer</label><div class=\"sk-toggleable__content\"><pre>SimpleImputer(fill_value='missing', strategy='constant')</pre></div></div></div></div></div></div></div></div></div></div><div class=\"sk-item\"><div class=\"sk-estimator sk-toggleable\"><input class=\"sk-toggleable__control sk-hidden--visually\" id=\"65d2f4c6-d1ed-4eaf-88a9-36eed8603be9\" type=\"checkbox\" ><label class=\"sk-toggleable__label\" for=\"65d2f4c6-d1ed-4eaf-88a9-36eed8603be9\">FunctionTransformer</label><div class=\"sk-toggleable__content\"><pre>FunctionTransformer(func=<function to_lowercase at 0x14fbadb80>)</pre></div></div></div><div class=\"sk-item\"><div class=\"sk-estimator sk-toggleable\"><input class=\"sk-toggleable__control sk-hidden--visually\" id=\"24755eaf-65b5-45d0-8438-76d409c9d3f0\" type=\"checkbox\" ><label class=\"sk-toggleable__label\" for=\"24755eaf-65b5-45d0-8438-76d409c9d3f0\">OneHotEncoder</label><div class=\"sk-toggleable__content\"><pre>OneHotEncoder(handle_unknown='ignore')</pre></div></div></div><div class=\"sk-item\"><div class=\"sk-estimator sk-toggleable\"><input class=\"sk-toggleable__control sk-hidden--visually\" id=\"e58315cb-5899-465b-8371-6e09514d6d28\" type=\"checkbox\" ><label class=\"sk-toggleable__label\" for=\"e58315cb-5899-465b-8371-6e09514d6d28\">DecisionTreeClassifier</label><div class=\"sk-toggleable__content\"><pre>DecisionTreeClassifier(max_depth=5)</pre></div></div></div></div></div></div></div></div></div></div></div></div>"
      ],
      "text/plain": [
       "RandomizedSearchCV(cv=10,\n",
       "                   estimator=Pipeline(steps=[('preprocessor',\n",
       "                                              ColumnTransformer(transformers=[('most_frequent',\n",
       "                                                                               Pipeline(steps=[('cat_imputer',\n",
       "                                                                                                SimpleImputer(strategy='most_frequent'))]),\n",
       "                                                                               ['brand',\n",
       "                                                                                'binding',\n",
       "                                                                                'handling_group']),\n",
       "                                                                              ('constant',\n",
       "                                                                               Pipeline(steps=[('cat_imputer',\n",
       "                                                                                                SimpleImputer(fill_value='missing',\n",
       "                                                                                                              strategy='constant'))]),\n",
       "                                                                               ['hazmat_classificat...\n",
       "                                             ('cat_lowercase_transformer',\n",
       "                                              FunctionTransformer(func=<function to_lowercase at 0x14fbadb80>)),\n",
       "                                             ('cat_encoder',\n",
       "                                              OneHotEncoder(handle_unknown='ignore')),\n",
       "                                             ('dt',\n",
       "                                              DecisionTreeClassifier(max_depth=5))]),\n",
       "                   n_iter=100, n_jobs=-1,\n",
       "                   param_distributions={'dt__criterion': ['gini', 'entropy'],\n",
       "                                        'dt__max_depth': [2, 3, 5, 10, 20],\n",
       "                                        'dt__min_samples_leaf': [5, 10, 20, 50,\n",
       "                                                                 100]},\n",
       "                   verbose=1)"
      ]
     },
     "execution_count": 34,
     "metadata": {},
     "output_type": "execute_result"
    }
   ],
   "source": [
    "from sklearn.model_selection import GridSearchCV, RandomizedSearchCV\n",
    "\n",
    "hyperparam_grid = {\n",
    "    'dt__max_depth': [2, 3, 5, 10, 20],\n",
    "    'dt__min_samples_leaf': [5, 10, 20, 50, 100],\n",
    "    'dt__criterion': [\"gini\", \"entropy\"]\n",
    "}\n",
    "\n",
    "hyperparam_search = RandomizedSearchCV(\n",
    "    pipeline_decision_tree, # base model\n",
    "    hyperparam_grid,  # hyperparameter grid\n",
    "    n_iter=100, # number of samples to try \n",
    "    # this means we are only picking out 100 combinations of parameters from above to try\n",
    "    cv=10, # k-fold cross validation\n",
    "    verbose=1, # print summary\n",
    "    n_jobs=-1  # use all available processors\n",
    ")\n",
    "hyperparam_search"
   ]
  },
  {
   "cell_type": "markdown",
   "id": "76cd9e77",
   "metadata": {},
   "source": [
    "Fit hyperparameter search to training data"
   ]
  },
  {
   "cell_type": "code",
   "execution_count": null,
   "id": "4f51664a",
   "metadata": {},
   "outputs": [
    {
     "name": "stdout",
     "output_type": "stream",
     "text": [
      "Fitting 10 folds for each of 50 candidates, totalling 500 fits\n"
     ]
    }
   ],
   "source": [
    "hyperparam_search.fit(train_X, train_data[[\"actual_process_class_ID\"]])"
   ]
  },
  {
   "cell_type": "code",
   "execution_count": 33,
   "id": "1fe0ad80",
   "metadata": {},
   "outputs": [
    {
     "data": {
      "text/plain": [
       "dict_keys(['memory', 'steps', 'verbose', 'preprocessor', 'cat_lowercase_transformer', 'cat_encoder', 'dt', 'preprocessor__n_jobs', 'preprocessor__remainder', 'preprocessor__sparse_threshold', 'preprocessor__transformer_weights', 'preprocessor__transformers', 'preprocessor__verbose', 'preprocessor__most_frequent', 'preprocessor__constant', 'preprocessor__most_frequent__memory', 'preprocessor__most_frequent__steps', 'preprocessor__most_frequent__verbose', 'preprocessor__most_frequent__cat_imputer', 'preprocessor__most_frequent__cat_imputer__add_indicator', 'preprocessor__most_frequent__cat_imputer__copy', 'preprocessor__most_frequent__cat_imputer__fill_value', 'preprocessor__most_frequent__cat_imputer__missing_values', 'preprocessor__most_frequent__cat_imputer__strategy', 'preprocessor__most_frequent__cat_imputer__verbose', 'preprocessor__constant__memory', 'preprocessor__constant__steps', 'preprocessor__constant__verbose', 'preprocessor__constant__cat_imputer', 'preprocessor__constant__cat_imputer__add_indicator', 'preprocessor__constant__cat_imputer__copy', 'preprocessor__constant__cat_imputer__fill_value', 'preprocessor__constant__cat_imputer__missing_values', 'preprocessor__constant__cat_imputer__strategy', 'preprocessor__constant__cat_imputer__verbose', 'cat_lowercase_transformer__accept_sparse', 'cat_lowercase_transformer__check_inverse', 'cat_lowercase_transformer__func', 'cat_lowercase_transformer__inv_kw_args', 'cat_lowercase_transformer__inverse_func', 'cat_lowercase_transformer__kw_args', 'cat_lowercase_transformer__validate', 'cat_encoder__categories', 'cat_encoder__drop', 'cat_encoder__dtype', 'cat_encoder__handle_unknown', 'cat_encoder__sparse', 'dt__ccp_alpha', 'dt__class_weight', 'dt__criterion', 'dt__max_depth', 'dt__max_features', 'dt__max_leaf_nodes', 'dt__min_impurity_decrease', 'dt__min_impurity_split', 'dt__min_samples_leaf', 'dt__min_samples_split', 'dt__min_weight_fraction_leaf', 'dt__random_state', 'dt__splitter'])"
      ]
     },
     "execution_count": 33,
     "metadata": {},
     "output_type": "execute_result"
    }
   ],
   "source": [
    "# these are the parameters that we can tune\n",
    "pipeline_decision_tree.get_params().keys()"
   ]
  },
  {
   "cell_type": "markdown",
   "id": "67570c21",
   "metadata": {},
   "source": [
    "Print the optimal hyperparameters and the corresponding best validation metric"
   ]
  },
  {
   "cell_type": "code",
   "execution_count": null,
   "id": "f9ae66f9",
   "metadata": {},
   "outputs": [],
   "source": [
    "print(hyperparam_search.best_params_)\n",
    "print(hyperparam_search.best_score_)"
   ]
  },
  {
   "cell_type": "markdown",
   "id": "4344b6c0",
   "metadata": {},
   "source": [
    "Get the best model out of hyperparameter search and retrain"
   ]
  },
  {
   "cell_type": "code",
   "execution_count": null,
   "id": "257ba7e3",
   "metadata": {},
   "outputs": [],
   "source": [
    "pipeline_decision_tree = hyperparam_search.best_estimator_\n",
    "pipeline_decision_tree.fit(train_X, train_data[[\"actual_process_class_ID\"]])"
   ]
  },
  {
   "cell_type": "markdown",
   "id": "5b8958f9",
   "metadata": {},
   "source": [
    "### 5. Get test predictions and write to CSV for submission"
   ]
  },
  {
   "cell_type": "code",
   "execution_count": null,
   "id": "b4d39712",
   "metadata": {},
   "outputs": [],
   "source": [
    "# call pipeline.predict() on your test dataset\n",
    "test_predictions_dt=pipeline_decision_tree.predict(test_X)"
   ]
  },
  {
   "cell_type": "code",
   "execution_count": null,
   "id": "cb5953e9",
   "metadata": {},
   "outputs": [],
   "source": [
    "import pandas as pd\n",
    "\n",
    "result_df = pd.DataFrame(columns=[\"ID\",\n",
    "                                  \"actual_process_class_ID\"])\n",
    "result_df[\"ID\"] = test_df[\"ID\"].tolist()\n",
    "result_df[\"actual_process_class_ID\"] = test_predictions_dt\n",
    "\n",
    "result_df.to_csv(\"project_result.csv\", index=False)"
   ]
  }
 ],
 "metadata": {
  "kernelspec": {
   "display_name": "Python 3 (ipykernel)",
   "language": "python",
   "name": "python3"
  },
  "language_info": {
   "codemirror_mode": {
    "name": "ipython",
    "version": 3
   },
   "file_extension": ".py",
   "mimetype": "text/x-python",
   "name": "python",
   "nbconvert_exporter": "python",
   "pygments_lexer": "ipython3",
   "version": "3.9.1"
  }
 },
 "nbformat": 4,
 "nbformat_minor": 5
}
