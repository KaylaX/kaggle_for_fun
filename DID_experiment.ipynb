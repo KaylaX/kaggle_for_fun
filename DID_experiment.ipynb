{
 "cells": [
  {
   "cell_type": "code",
   "execution_count": 1,
   "id": "02ed08f9",
   "metadata": {},
   "outputs": [],
   "source": [
    "import pandas as pd"
   ]
  },
  {
   "cell_type": "code",
   "execution_count": 2,
   "id": "d72b3b39",
   "metadata": {},
   "outputs": [],
   "source": [
    "booking=pd.read_csv('bookings.csv')\n",
    "listing=pd.read_csv('listings.csv')"
   ]
  },
  {
   "cell_type": "code",
   "execution_count": 3,
   "id": "b24fb23f",
   "metadata": {},
   "outputs": [
    {
     "data": {
      "text/html": [
       "<div>\n",
       "<style scoped>\n",
       "    .dataframe tbody tr th:only-of-type {\n",
       "        vertical-align: middle;\n",
       "    }\n",
       "\n",
       "    .dataframe tbody tr th {\n",
       "        vertical-align: top;\n",
       "    }\n",
       "\n",
       "    .dataframe thead th {\n",
       "        text-align: right;\n",
       "    }\n",
       "</style>\n",
       "<table border=\"1\" class=\"dataframe\">\n",
       "  <thead>\n",
       "    <tr style=\"text-align: right;\">\n",
       "      <th></th>\n",
       "      <th>PropertyID</th>\n",
       "      <th>Date</th>\n",
       "      <th>Bookings</th>\n",
       "      <th>Booking Amount</th>\n",
       "      <th>Booking Requests</th>\n",
       "      <th>Property page Views/Visits</th>\n",
       "      <th>Inquiries</th>\n",
       "      <th>Number of times the property got displayed in search page</th>\n",
       "    </tr>\n",
       "  </thead>\n",
       "  <tbody>\n",
       "    <tr>\n",
       "      <th>0</th>\n",
       "      <td>1</td>\n",
       "      <td>2018-11-02</td>\n",
       "      <td>NaN</td>\n",
       "      <td>NaN</td>\n",
       "      <td>NaN</td>\n",
       "      <td>3.0</td>\n",
       "      <td>NaN</td>\n",
       "      <td>100.0</td>\n",
       "    </tr>\n",
       "    <tr>\n",
       "      <th>1</th>\n",
       "      <td>1</td>\n",
       "      <td>2018-11-03</td>\n",
       "      <td>NaN</td>\n",
       "      <td>NaN</td>\n",
       "      <td>NaN</td>\n",
       "      <td>1.0</td>\n",
       "      <td>NaN</td>\n",
       "      <td>130.0</td>\n",
       "    </tr>\n",
       "    <tr>\n",
       "      <th>2</th>\n",
       "      <td>1</td>\n",
       "      <td>2018-11-04</td>\n",
       "      <td>NaN</td>\n",
       "      <td>NaN</td>\n",
       "      <td>NaN</td>\n",
       "      <td>1.0</td>\n",
       "      <td>NaN</td>\n",
       "      <td>85.0</td>\n",
       "    </tr>\n",
       "    <tr>\n",
       "      <th>3</th>\n",
       "      <td>1</td>\n",
       "      <td>2018-11-05</td>\n",
       "      <td>NaN</td>\n",
       "      <td>NaN</td>\n",
       "      <td>NaN</td>\n",
       "      <td>2.0</td>\n",
       "      <td>NaN</td>\n",
       "      <td>80.0</td>\n",
       "    </tr>\n",
       "    <tr>\n",
       "      <th>4</th>\n",
       "      <td>1</td>\n",
       "      <td>2018-11-06</td>\n",
       "      <td>NaN</td>\n",
       "      <td>NaN</td>\n",
       "      <td>NaN</td>\n",
       "      <td>1.0</td>\n",
       "      <td>NaN</td>\n",
       "      <td>97.0</td>\n",
       "    </tr>\n",
       "  </tbody>\n",
       "</table>\n",
       "</div>"
      ],
      "text/plain": [
       "   PropertyID        Date  Bookings  Booking Amount  Booking Requests  \\\n",
       "0           1  2018-11-02       NaN             NaN               NaN   \n",
       "1           1  2018-11-03       NaN             NaN               NaN   \n",
       "2           1  2018-11-04       NaN             NaN               NaN   \n",
       "3           1  2018-11-05       NaN             NaN               NaN   \n",
       "4           1  2018-11-06       NaN             NaN               NaN   \n",
       "\n",
       "   Property page Views/Visits  Inquiries  \\\n",
       "0                         3.0        NaN   \n",
       "1                         1.0        NaN   \n",
       "2                         1.0        NaN   \n",
       "3                         2.0        NaN   \n",
       "4                         1.0        NaN   \n",
       "\n",
       "   Number of times the property got displayed in search page  \n",
       "0                                              100.0          \n",
       "1                                              130.0          \n",
       "2                                               85.0          \n",
       "3                                               80.0          \n",
       "4                                               97.0          "
      ]
     },
     "execution_count": 3,
     "metadata": {},
     "output_type": "execute_result"
    }
   ],
   "source": [
    "booking.head()"
   ]
  },
  {
   "cell_type": "code",
   "execution_count": 4,
   "id": "93cc94ee",
   "metadata": {},
   "outputs": [
    {
     "data": {
      "text/html": [
       "<div>\n",
       "<style scoped>\n",
       "    .dataframe tbody tr th:only-of-type {\n",
       "        vertical-align: middle;\n",
       "    }\n",
       "\n",
       "    .dataframe tbody tr th {\n",
       "        vertical-align: top;\n",
       "    }\n",
       "\n",
       "    .dataframe thead th {\n",
       "        text-align: right;\n",
       "    }\n",
       "</style>\n",
       "<table border=\"1\" class=\"dataframe\">\n",
       "  <thead>\n",
       "    <tr style=\"text-align: right;\">\n",
       "      <th></th>\n",
       "      <th>PropertyID</th>\n",
       "      <th>Location</th>\n",
       "      <th>Instant_Booking_Enabled</th>\n",
       "      <th>Premier_Partner_Badge</th>\n",
       "      <th>Number of reviews on the property</th>\n",
       "      <th>Avg Review Rating</th>\n",
       "      <th>Bedrooms</th>\n",
       "      <th>Bathrooms</th>\n",
       "      <th>Maximum Occupancy</th>\n",
       "      <th>PropertyType</th>\n",
       "      <th>Number of photos of the property on the property page</th>\n",
       "      <th>VirtualRealityLaunched</th>\n",
       "    </tr>\n",
       "  </thead>\n",
       "  <tbody>\n",
       "    <tr>\n",
       "      <th>0</th>\n",
       "      <td>1</td>\n",
       "      <td>Austin, Texas</td>\n",
       "      <td>0</td>\n",
       "      <td>1</td>\n",
       "      <td>20+</td>\n",
       "      <td>4.76+</td>\n",
       "      <td>3</td>\n",
       "      <td>1</td>\n",
       "      <td>5</td>\n",
       "      <td>house</td>\n",
       "      <td>23</td>\n",
       "      <td>Yes</td>\n",
       "    </tr>\n",
       "    <tr>\n",
       "      <th>1</th>\n",
       "      <td>2</td>\n",
       "      <td>Austin, Texas</td>\n",
       "      <td>0</td>\n",
       "      <td>0</td>\n",
       "      <td>20+</td>\n",
       "      <td>4.76+</td>\n",
       "      <td>2</td>\n",
       "      <td>1</td>\n",
       "      <td>5</td>\n",
       "      <td>townhome</td>\n",
       "      <td>34</td>\n",
       "      <td>Yes</td>\n",
       "    </tr>\n",
       "    <tr>\n",
       "      <th>2</th>\n",
       "      <td>3</td>\n",
       "      <td>Austin, Texas</td>\n",
       "      <td>1</td>\n",
       "      <td>0</td>\n",
       "      <td>6 to 11</td>\n",
       "      <td>4.76+</td>\n",
       "      <td>4</td>\n",
       "      <td>3</td>\n",
       "      <td>12</td>\n",
       "      <td>house</td>\n",
       "      <td>24</td>\n",
       "      <td>Yes</td>\n",
       "    </tr>\n",
       "    <tr>\n",
       "      <th>3</th>\n",
       "      <td>4</td>\n",
       "      <td>Austin, Texas</td>\n",
       "      <td>1</td>\n",
       "      <td>1</td>\n",
       "      <td>20+</td>\n",
       "      <td>4.51 - 4.75</td>\n",
       "      <td>1</td>\n",
       "      <td>2</td>\n",
       "      <td>4</td>\n",
       "      <td>cottage</td>\n",
       "      <td>24</td>\n",
       "      <td>Yes</td>\n",
       "    </tr>\n",
       "    <tr>\n",
       "      <th>4</th>\n",
       "      <td>5</td>\n",
       "      <td>Austin, Texas</td>\n",
       "      <td>0</td>\n",
       "      <td>0</td>\n",
       "      <td>5</td>\n",
       "      <td>4.76+</td>\n",
       "      <td>3</td>\n",
       "      <td>3</td>\n",
       "      <td>6</td>\n",
       "      <td>house</td>\n",
       "      <td>5</td>\n",
       "      <td>Yes</td>\n",
       "    </tr>\n",
       "  </tbody>\n",
       "</table>\n",
       "</div>"
      ],
      "text/plain": [
       "   PropertyID       Location  Instant_Booking_Enabled  Premier_Partner_Badge  \\\n",
       "0           1  Austin, Texas                        0                      1   \n",
       "1           2  Austin, Texas                        0                      0   \n",
       "2           3  Austin, Texas                        1                      0   \n",
       "3           4  Austin, Texas                        1                      1   \n",
       "4           5  Austin, Texas                        0                      0   \n",
       "\n",
       "  Number of reviews on the property Avg Review Rating  Bedrooms  Bathrooms  \\\n",
       "0                               20+             4.76+         3          1   \n",
       "1                               20+             4.76+         2          1   \n",
       "2                           6 to 11             4.76+         4          3   \n",
       "3                               20+       4.51 - 4.75         1          2   \n",
       "4                                 5             4.76+         3          3   \n",
       "\n",
       "   Maximum Occupancy PropertyType  \\\n",
       "0                  5        house   \n",
       "1                  5     townhome   \n",
       "2                 12        house   \n",
       "3                  4      cottage   \n",
       "4                  6        house   \n",
       "\n",
       "   Number of photos of the property on the property page  \\\n",
       "0                                                 23       \n",
       "1                                                 34       \n",
       "2                                                 24       \n",
       "3                                                 24       \n",
       "4                                                  5       \n",
       "\n",
       "  VirtualRealityLaunched  \n",
       "0                    Yes  \n",
       "1                    Yes  \n",
       "2                    Yes  \n",
       "3                    Yes  \n",
       "4                    Yes  "
      ]
     },
     "execution_count": 4,
     "metadata": {},
     "output_type": "execute_result"
    }
   ],
   "source": [
    "listing.head()"
   ]
  },
  {
   "cell_type": "code",
   "execution_count": 5,
   "id": "7501daa3",
   "metadata": {},
   "outputs": [
    {
     "name": "stdout",
     "output_type": "stream",
     "text": [
      "<class 'pandas.core.frame.DataFrame'>\n",
      "RangeIndex: 233891 entries, 0 to 233890\n",
      "Data columns (total 8 columns):\n",
      " #   Column                                                     Non-Null Count   Dtype  \n",
      "---  ------                                                     --------------   -----  \n",
      " 0   PropertyID                                                 233891 non-null  int64  \n",
      " 1   Date                                                       233891 non-null  object \n",
      " 2   Bookings                                                   7722 non-null    float64\n",
      " 3   Booking Amount                                             7940 non-null    float64\n",
      " 4   Booking Requests                                           7842 non-null    float64\n",
      " 5   Property page Views/Visits                                 208641 non-null  float64\n",
      " 6   Inquiries                                                  13532 non-null   float64\n",
      " 7   Number of times the property got displayed in search page  229636 non-null  float64\n",
      "dtypes: float64(6), int64(1), object(1)\n",
      "memory usage: 14.3+ MB\n"
     ]
    }
   ],
   "source": [
    "booking.info()"
   ]
  },
  {
   "cell_type": "code",
   "execution_count": 6,
   "id": "1a55407c",
   "metadata": {},
   "outputs": [
    {
     "name": "stdout",
     "output_type": "stream",
     "text": [
      "<class 'pandas.core.frame.DataFrame'>\n",
      "RangeIndex: 2000 entries, 0 to 1999\n",
      "Data columns (total 12 columns):\n",
      " #   Column                                                 Non-Null Count  Dtype \n",
      "---  ------                                                 --------------  ----- \n",
      " 0   PropertyID                                             2000 non-null   int64 \n",
      " 1   Location                                               2000 non-null   object\n",
      " 2   Instant_Booking_Enabled                                2000 non-null   int64 \n",
      " 3   Premier_Partner_Badge                                  2000 non-null   int64 \n",
      " 4   Number of reviews on the property                      2000 non-null   object\n",
      " 5   Avg Review Rating                                      2000 non-null   object\n",
      " 6   Bedrooms                                               2000 non-null   int64 \n",
      " 7   Bathrooms                                              2000 non-null   int64 \n",
      " 8   Maximum Occupancy                                      2000 non-null   int64 \n",
      " 9   PropertyType                                           2000 non-null   object\n",
      " 10  Number of photos of the property on the property page  2000 non-null   int64 \n",
      " 11  VirtualRealityLaunched                                 2000 non-null   object\n",
      "dtypes: int64(7), object(5)\n",
      "memory usage: 187.6+ KB\n"
     ]
    }
   ],
   "source": [
    "listing.info()"
   ]
  },
  {
   "cell_type": "code",
   "execution_count": 7,
   "id": "be73210d",
   "metadata": {},
   "outputs": [
    {
     "data": {
      "text/plain": [
       "PropertyID                                               1.0\n",
       "Location                                                 1.0\n",
       "Instant_Booking_Enabled                                  1.0\n",
       "Premier_Partner_Badge                                    1.0\n",
       "Number of reviews on the property                        1.0\n",
       "Avg Review Rating                                        1.0\n",
       "Bedrooms                                                 1.0\n",
       "Bathrooms                                                1.0\n",
       "Maximum Occupancy                                        1.0\n",
       "PropertyType                                             1.0\n",
       "Number of photos of the property on the property page    1.0\n",
       "VirtualRealityLaunched                                   1.0\n",
       "dtype: float64"
      ]
     },
     "execution_count": 7,
     "metadata": {},
     "output_type": "execute_result"
    }
   ],
   "source": [
    "listing.count()/len(listing) # no missing values"
   ]
  },
  {
   "cell_type": "code",
   "execution_count": 8,
   "id": "55f394c3",
   "metadata": {},
   "outputs": [],
   "source": [
    "df=booking.merge(listing, on='PropertyID', how='left')"
   ]
  },
  {
   "cell_type": "code",
   "execution_count": 9,
   "id": "6efa5a32",
   "metadata": {},
   "outputs": [
    {
     "data": {
      "text/html": [
       "<div>\n",
       "<style scoped>\n",
       "    .dataframe tbody tr th:only-of-type {\n",
       "        vertical-align: middle;\n",
       "    }\n",
       "\n",
       "    .dataframe tbody tr th {\n",
       "        vertical-align: top;\n",
       "    }\n",
       "\n",
       "    .dataframe thead th {\n",
       "        text-align: right;\n",
       "    }\n",
       "</style>\n",
       "<table border=\"1\" class=\"dataframe\">\n",
       "  <thead>\n",
       "    <tr style=\"text-align: right;\">\n",
       "      <th></th>\n",
       "      <th>PropertyID</th>\n",
       "      <th>Date</th>\n",
       "      <th>Bookings</th>\n",
       "      <th>Booking Amount</th>\n",
       "      <th>Booking Requests</th>\n",
       "      <th>Property page Views/Visits</th>\n",
       "      <th>Inquiries</th>\n",
       "      <th>Number of times the property got displayed in search page</th>\n",
       "      <th>Location</th>\n",
       "      <th>Instant_Booking_Enabled</th>\n",
       "      <th>Premier_Partner_Badge</th>\n",
       "      <th>Number of reviews on the property</th>\n",
       "      <th>Avg Review Rating</th>\n",
       "      <th>Bedrooms</th>\n",
       "      <th>Bathrooms</th>\n",
       "      <th>Maximum Occupancy</th>\n",
       "      <th>PropertyType</th>\n",
       "      <th>Number of photos of the property on the property page</th>\n",
       "      <th>VirtualRealityLaunched</th>\n",
       "    </tr>\n",
       "  </thead>\n",
       "  <tbody>\n",
       "    <tr>\n",
       "      <th>0</th>\n",
       "      <td>1</td>\n",
       "      <td>2018-11-02</td>\n",
       "      <td>NaN</td>\n",
       "      <td>NaN</td>\n",
       "      <td>NaN</td>\n",
       "      <td>3.0</td>\n",
       "      <td>NaN</td>\n",
       "      <td>100.0</td>\n",
       "      <td>Austin, Texas</td>\n",
       "      <td>0</td>\n",
       "      <td>1</td>\n",
       "      <td>20+</td>\n",
       "      <td>4.76+</td>\n",
       "      <td>3</td>\n",
       "      <td>1</td>\n",
       "      <td>5</td>\n",
       "      <td>house</td>\n",
       "      <td>23</td>\n",
       "      <td>Yes</td>\n",
       "    </tr>\n",
       "    <tr>\n",
       "      <th>1</th>\n",
       "      <td>1</td>\n",
       "      <td>2018-11-03</td>\n",
       "      <td>NaN</td>\n",
       "      <td>NaN</td>\n",
       "      <td>NaN</td>\n",
       "      <td>1.0</td>\n",
       "      <td>NaN</td>\n",
       "      <td>130.0</td>\n",
       "      <td>Austin, Texas</td>\n",
       "      <td>0</td>\n",
       "      <td>1</td>\n",
       "      <td>20+</td>\n",
       "      <td>4.76+</td>\n",
       "      <td>3</td>\n",
       "      <td>1</td>\n",
       "      <td>5</td>\n",
       "      <td>house</td>\n",
       "      <td>23</td>\n",
       "      <td>Yes</td>\n",
       "    </tr>\n",
       "    <tr>\n",
       "      <th>2</th>\n",
       "      <td>1</td>\n",
       "      <td>2018-11-04</td>\n",
       "      <td>NaN</td>\n",
       "      <td>NaN</td>\n",
       "      <td>NaN</td>\n",
       "      <td>1.0</td>\n",
       "      <td>NaN</td>\n",
       "      <td>85.0</td>\n",
       "      <td>Austin, Texas</td>\n",
       "      <td>0</td>\n",
       "      <td>1</td>\n",
       "      <td>20+</td>\n",
       "      <td>4.76+</td>\n",
       "      <td>3</td>\n",
       "      <td>1</td>\n",
       "      <td>5</td>\n",
       "      <td>house</td>\n",
       "      <td>23</td>\n",
       "      <td>Yes</td>\n",
       "    </tr>\n",
       "    <tr>\n",
       "      <th>3</th>\n",
       "      <td>1</td>\n",
       "      <td>2018-11-05</td>\n",
       "      <td>NaN</td>\n",
       "      <td>NaN</td>\n",
       "      <td>NaN</td>\n",
       "      <td>2.0</td>\n",
       "      <td>NaN</td>\n",
       "      <td>80.0</td>\n",
       "      <td>Austin, Texas</td>\n",
       "      <td>0</td>\n",
       "      <td>1</td>\n",
       "      <td>20+</td>\n",
       "      <td>4.76+</td>\n",
       "      <td>3</td>\n",
       "      <td>1</td>\n",
       "      <td>5</td>\n",
       "      <td>house</td>\n",
       "      <td>23</td>\n",
       "      <td>Yes</td>\n",
       "    </tr>\n",
       "    <tr>\n",
       "      <th>4</th>\n",
       "      <td>1</td>\n",
       "      <td>2018-11-06</td>\n",
       "      <td>NaN</td>\n",
       "      <td>NaN</td>\n",
       "      <td>NaN</td>\n",
       "      <td>1.0</td>\n",
       "      <td>NaN</td>\n",
       "      <td>97.0</td>\n",
       "      <td>Austin, Texas</td>\n",
       "      <td>0</td>\n",
       "      <td>1</td>\n",
       "      <td>20+</td>\n",
       "      <td>4.76+</td>\n",
       "      <td>3</td>\n",
       "      <td>1</td>\n",
       "      <td>5</td>\n",
       "      <td>house</td>\n",
       "      <td>23</td>\n",
       "      <td>Yes</td>\n",
       "    </tr>\n",
       "  </tbody>\n",
       "</table>\n",
       "</div>"
      ],
      "text/plain": [
       "   PropertyID        Date  Bookings  Booking Amount  Booking Requests  \\\n",
       "0           1  2018-11-02       NaN             NaN               NaN   \n",
       "1           1  2018-11-03       NaN             NaN               NaN   \n",
       "2           1  2018-11-04       NaN             NaN               NaN   \n",
       "3           1  2018-11-05       NaN             NaN               NaN   \n",
       "4           1  2018-11-06       NaN             NaN               NaN   \n",
       "\n",
       "   Property page Views/Visits  Inquiries  \\\n",
       "0                         3.0        NaN   \n",
       "1                         1.0        NaN   \n",
       "2                         1.0        NaN   \n",
       "3                         2.0        NaN   \n",
       "4                         1.0        NaN   \n",
       "\n",
       "   Number of times the property got displayed in search page       Location  \\\n",
       "0                                              100.0          Austin, Texas   \n",
       "1                                              130.0          Austin, Texas   \n",
       "2                                               85.0          Austin, Texas   \n",
       "3                                               80.0          Austin, Texas   \n",
       "4                                               97.0          Austin, Texas   \n",
       "\n",
       "   Instant_Booking_Enabled  Premier_Partner_Badge  \\\n",
       "0                        0                      1   \n",
       "1                        0                      1   \n",
       "2                        0                      1   \n",
       "3                        0                      1   \n",
       "4                        0                      1   \n",
       "\n",
       "  Number of reviews on the property Avg Review Rating  Bedrooms  Bathrooms  \\\n",
       "0                               20+             4.76+         3          1   \n",
       "1                               20+             4.76+         3          1   \n",
       "2                               20+             4.76+         3          1   \n",
       "3                               20+             4.76+         3          1   \n",
       "4                               20+             4.76+         3          1   \n",
       "\n",
       "   Maximum Occupancy PropertyType  \\\n",
       "0                  5        house   \n",
       "1                  5        house   \n",
       "2                  5        house   \n",
       "3                  5        house   \n",
       "4                  5        house   \n",
       "\n",
       "   Number of photos of the property on the property page  \\\n",
       "0                                                 23       \n",
       "1                                                 23       \n",
       "2                                                 23       \n",
       "3                                                 23       \n",
       "4                                                 23       \n",
       "\n",
       "  VirtualRealityLaunched  \n",
       "0                    Yes  \n",
       "1                    Yes  \n",
       "2                    Yes  \n",
       "3                    Yes  \n",
       "4                    Yes  "
      ]
     },
     "execution_count": 9,
     "metadata": {},
     "output_type": "execute_result"
    }
   ],
   "source": [
    "df.head()"
   ]
  },
  {
   "cell_type": "code",
   "execution_count": 10,
   "id": "875a91db",
   "metadata": {},
   "outputs": [
    {
     "data": {
      "text/plain": [
       "PropertyID                                                   1.000000\n",
       "Date                                                         1.000000\n",
       "Bookings                                                     0.033015\n",
       "Booking Amount                                               0.033947\n",
       "Booking Requests                                             0.033528\n",
       "Property page Views/Visits                                   0.892044\n",
       "Inquiries                                                    0.057856\n",
       "Number of times the property got displayed in search page    0.981808\n",
       "Location                                                     1.000000\n",
       "Instant_Booking_Enabled                                      1.000000\n",
       "Premier_Partner_Badge                                        1.000000\n",
       "Number of reviews on the property                            1.000000\n",
       "Avg Review Rating                                            1.000000\n",
       "Bedrooms                                                     1.000000\n",
       "Bathrooms                                                    1.000000\n",
       "Maximum Occupancy                                            1.000000\n",
       "PropertyType                                                 1.000000\n",
       "Number of photos of the property on the property page        1.000000\n",
       "VirtualRealityLaunched                                       1.000000\n",
       "dtype: float64"
      ]
     },
     "execution_count": 10,
     "metadata": {},
     "output_type": "execute_result"
    }
   ],
   "source": [
    "df.count()/len(df)"
   ]
  },
  {
   "cell_type": "code",
   "execution_count": 12,
   "id": "6b9b5f76",
   "metadata": {},
   "outputs": [
    {
     "data": {
      "text/plain": [
       "VirtualRealityLaunched\n",
       "No      81473\n",
       "Yes    152418\n",
       "dtype: int64"
      ]
     },
     "execution_count": 12,
     "metadata": {},
     "output_type": "execute_result"
    }
   ],
   "source": [
    "df.groupby('VirtualRealityLaunched').size()"
   ]
  },
  {
   "cell_type": "code",
   "execution_count": 13,
   "id": "fe4ccf77",
   "metadata": {},
   "outputs": [
    {
     "data": {
      "text/plain": [
       "VirtualRealityLaunched\n",
       "No      696\n",
       "Yes    1304\n",
       "Name: PropertyID, dtype: int64"
      ]
     },
     "execution_count": 13,
     "metadata": {},
     "output_type": "execute_result"
    }
   ],
   "source": [
    "listing.groupby('VirtualRealityLaunched')['PropertyID'].count() \n",
    "# 1304 properties launched VR and 696 have not launched VR"
   ]
  },
  {
   "cell_type": "code",
   "execution_count": 14,
   "id": "63dc9621",
   "metadata": {},
   "outputs": [],
   "source": [
    "df.to_csv('combined.csv')"
   ]
  },
  {
   "cell_type": "code",
   "execution_count": 15,
   "id": "def78d23",
   "metadata": {},
   "outputs": [],
   "source": [
    "import matplotlib.pyplot as plt\n",
    "import numpy as np\n",
    "from sklearn.utils import resample\n",
    "import seaborn as sns\n",
    "import warnings\n",
    "warnings.filterwarnings(\"ignore\")\n",
    "\n",
    "%matplotlib inline"
   ]
  },
  {
   "cell_type": "code",
   "execution_count": 16,
   "id": "25b153a8",
   "metadata": {},
   "outputs": [],
   "source": [
    "df=pd.read_csv('combined.csv')"
   ]
  },
  {
   "cell_type": "code",
   "execution_count": 17,
   "id": "2a202142",
   "metadata": {},
   "outputs": [
    {
     "data": {
      "text/plain": [
       "Index(['Unnamed: 0', 'PropertyID', 'Date', 'Bookings', 'Booking Amount',\n",
       "       'Booking Requests', 'Property page Views/Visits', 'Inquiries',\n",
       "       'Number of times the property got displayed in search page', 'Location',\n",
       "       'Instant_Booking_Enabled', 'Premier_Partner_Badge',\n",
       "       'Number of reviews on the property', 'Avg Review Rating', 'Bedrooms',\n",
       "       'Bathrooms', 'Maximum Occupancy', 'PropertyType',\n",
       "       'Number of photos of the property on the property page',\n",
       "       'VirtualRealityLaunched'],\n",
       "      dtype='object')"
      ]
     },
     "execution_count": 17,
     "metadata": {},
     "output_type": "execute_result"
    }
   ],
   "source": [
    "df.columns"
   ]
  },
  {
   "cell_type": "code",
   "execution_count": 18,
   "id": "08e82b37",
   "metadata": {
    "scrolled": true
   },
   "outputs": [],
   "source": [
    "import numpy as np\n",
    "import datetime\n",
    "from datetime import datetime\n",
    "\n",
    "df['Date']=df['Date'].apply(lambda x: datetime.strptime(x, '%Y-%m-%d'))\n"
   ]
  },
  {
   "cell_type": "code",
   "execution_count": 19,
   "id": "b7121cc9",
   "metadata": {},
   "outputs": [],
   "source": [
    "# organize the df into test and control\n",
    "df['test']=np.where(df['VirtualRealityLaunched']=='Yes', 1,0)\n",
    "\n",
    "# adding time variable\n",
    "df['time']=np.where(df['Date']>=datetime.strptime('2019-01-01', '%Y-%m-%d'), 1,0)\n"
   ]
  },
  {
   "cell_type": "code",
   "execution_count": 20,
   "id": "b2e12407",
   "metadata": {},
   "outputs": [],
   "source": [
    "#creating interaction variable\n",
    "df['did'] = df['time'] * df['test']"
   ]
  },
  {
   "cell_type": "code",
   "execution_count": 21,
   "id": "f1c40c11",
   "metadata": {},
   "outputs": [
    {
     "data": {
      "text/plain": [
       "time\n",
       "0    114889\n",
       "1    119002\n",
       "Name: PropertyID, dtype: int64"
      ]
     },
     "execution_count": 21,
     "metadata": {},
     "output_type": "execute_result"
    }
   ],
   "source": [
    "df.groupby('time')['PropertyID'].count() "
   ]
  },
  {
   "cell_type": "code",
   "execution_count": 22,
   "id": "5bac7a08",
   "metadata": {},
   "outputs": [
    {
     "data": {
      "text/plain": [
       "23"
      ]
     },
     "execution_count": 22,
     "metadata": {},
     "output_type": "execute_result"
    }
   ],
   "source": [
    "len(df.columns)"
   ]
  },
  {
   "cell_type": "code",
   "execution_count": 23,
   "id": "d31fdd9c",
   "metadata": {},
   "outputs": [
    {
     "data": {
      "text/html": [
       "<div>\n",
       "<style scoped>\n",
       "    .dataframe tbody tr th:only-of-type {\n",
       "        vertical-align: middle;\n",
       "    }\n",
       "\n",
       "    .dataframe tbody tr th {\n",
       "        vertical-align: top;\n",
       "    }\n",
       "\n",
       "    .dataframe thead th {\n",
       "        text-align: right;\n",
       "    }\n",
       "</style>\n",
       "<table border=\"1\" class=\"dataframe\">\n",
       "  <thead>\n",
       "    <tr style=\"text-align: right;\">\n",
       "      <th></th>\n",
       "      <th>Unnamed: 0</th>\n",
       "      <th>PropertyID</th>\n",
       "      <th>Date</th>\n",
       "      <th>Bookings</th>\n",
       "      <th>Booking Amount</th>\n",
       "      <th>Booking Requests</th>\n",
       "      <th>Property page Views/Visits</th>\n",
       "      <th>Inquiries</th>\n",
       "      <th>Number of times the property got displayed in search page</th>\n",
       "      <th>Location</th>\n",
       "      <th>...</th>\n",
       "      <th>Avg Review Rating</th>\n",
       "      <th>Bedrooms</th>\n",
       "      <th>Bathrooms</th>\n",
       "      <th>Maximum Occupancy</th>\n",
       "      <th>PropertyType</th>\n",
       "      <th>Number of photos of the property on the property page</th>\n",
       "      <th>VirtualRealityLaunched</th>\n",
       "      <th>test</th>\n",
       "      <th>time</th>\n",
       "      <th>did</th>\n",
       "    </tr>\n",
       "  </thead>\n",
       "  <tbody>\n",
       "    <tr>\n",
       "      <th>0</th>\n",
       "      <td>0</td>\n",
       "      <td>1</td>\n",
       "      <td>2018-11-02</td>\n",
       "      <td>NaN</td>\n",
       "      <td>NaN</td>\n",
       "      <td>NaN</td>\n",
       "      <td>3.0</td>\n",
       "      <td>NaN</td>\n",
       "      <td>100.0</td>\n",
       "      <td>Austin, Texas</td>\n",
       "      <td>...</td>\n",
       "      <td>4.76+</td>\n",
       "      <td>3</td>\n",
       "      <td>1</td>\n",
       "      <td>5</td>\n",
       "      <td>house</td>\n",
       "      <td>23</td>\n",
       "      <td>Yes</td>\n",
       "      <td>1</td>\n",
       "      <td>0</td>\n",
       "      <td>0</td>\n",
       "    </tr>\n",
       "    <tr>\n",
       "      <th>1</th>\n",
       "      <td>1</td>\n",
       "      <td>1</td>\n",
       "      <td>2018-11-03</td>\n",
       "      <td>NaN</td>\n",
       "      <td>NaN</td>\n",
       "      <td>NaN</td>\n",
       "      <td>1.0</td>\n",
       "      <td>NaN</td>\n",
       "      <td>130.0</td>\n",
       "      <td>Austin, Texas</td>\n",
       "      <td>...</td>\n",
       "      <td>4.76+</td>\n",
       "      <td>3</td>\n",
       "      <td>1</td>\n",
       "      <td>5</td>\n",
       "      <td>house</td>\n",
       "      <td>23</td>\n",
       "      <td>Yes</td>\n",
       "      <td>1</td>\n",
       "      <td>0</td>\n",
       "      <td>0</td>\n",
       "    </tr>\n",
       "    <tr>\n",
       "      <th>2</th>\n",
       "      <td>2</td>\n",
       "      <td>1</td>\n",
       "      <td>2018-11-04</td>\n",
       "      <td>NaN</td>\n",
       "      <td>NaN</td>\n",
       "      <td>NaN</td>\n",
       "      <td>1.0</td>\n",
       "      <td>NaN</td>\n",
       "      <td>85.0</td>\n",
       "      <td>Austin, Texas</td>\n",
       "      <td>...</td>\n",
       "      <td>4.76+</td>\n",
       "      <td>3</td>\n",
       "      <td>1</td>\n",
       "      <td>5</td>\n",
       "      <td>house</td>\n",
       "      <td>23</td>\n",
       "      <td>Yes</td>\n",
       "      <td>1</td>\n",
       "      <td>0</td>\n",
       "      <td>0</td>\n",
       "    </tr>\n",
       "    <tr>\n",
       "      <th>3</th>\n",
       "      <td>3</td>\n",
       "      <td>1</td>\n",
       "      <td>2018-11-05</td>\n",
       "      <td>NaN</td>\n",
       "      <td>NaN</td>\n",
       "      <td>NaN</td>\n",
       "      <td>2.0</td>\n",
       "      <td>NaN</td>\n",
       "      <td>80.0</td>\n",
       "      <td>Austin, Texas</td>\n",
       "      <td>...</td>\n",
       "      <td>4.76+</td>\n",
       "      <td>3</td>\n",
       "      <td>1</td>\n",
       "      <td>5</td>\n",
       "      <td>house</td>\n",
       "      <td>23</td>\n",
       "      <td>Yes</td>\n",
       "      <td>1</td>\n",
       "      <td>0</td>\n",
       "      <td>0</td>\n",
       "    </tr>\n",
       "    <tr>\n",
       "      <th>4</th>\n",
       "      <td>4</td>\n",
       "      <td>1</td>\n",
       "      <td>2018-11-06</td>\n",
       "      <td>NaN</td>\n",
       "      <td>NaN</td>\n",
       "      <td>NaN</td>\n",
       "      <td>1.0</td>\n",
       "      <td>NaN</td>\n",
       "      <td>97.0</td>\n",
       "      <td>Austin, Texas</td>\n",
       "      <td>...</td>\n",
       "      <td>4.76+</td>\n",
       "      <td>3</td>\n",
       "      <td>1</td>\n",
       "      <td>5</td>\n",
       "      <td>house</td>\n",
       "      <td>23</td>\n",
       "      <td>Yes</td>\n",
       "      <td>1</td>\n",
       "      <td>0</td>\n",
       "      <td>0</td>\n",
       "    </tr>\n",
       "  </tbody>\n",
       "</table>\n",
       "<p>5 rows × 23 columns</p>\n",
       "</div>"
      ],
      "text/plain": [
       "   Unnamed: 0  PropertyID       Date  Bookings  Booking Amount  \\\n",
       "0           0           1 2018-11-02       NaN             NaN   \n",
       "1           1           1 2018-11-03       NaN             NaN   \n",
       "2           2           1 2018-11-04       NaN             NaN   \n",
       "3           3           1 2018-11-05       NaN             NaN   \n",
       "4           4           1 2018-11-06       NaN             NaN   \n",
       "\n",
       "   Booking Requests  Property page Views/Visits  Inquiries  \\\n",
       "0               NaN                         3.0        NaN   \n",
       "1               NaN                         1.0        NaN   \n",
       "2               NaN                         1.0        NaN   \n",
       "3               NaN                         2.0        NaN   \n",
       "4               NaN                         1.0        NaN   \n",
       "\n",
       "   Number of times the property got displayed in search page       Location  \\\n",
       "0                                              100.0          Austin, Texas   \n",
       "1                                              130.0          Austin, Texas   \n",
       "2                                               85.0          Austin, Texas   \n",
       "3                                               80.0          Austin, Texas   \n",
       "4                                               97.0          Austin, Texas   \n",
       "\n",
       "   ...  Avg Review Rating  Bedrooms Bathrooms Maximum Occupancy  PropertyType  \\\n",
       "0  ...              4.76+         3         1                 5         house   \n",
       "1  ...              4.76+         3         1                 5         house   \n",
       "2  ...              4.76+         3         1                 5         house   \n",
       "3  ...              4.76+         3         1                 5         house   \n",
       "4  ...              4.76+         3         1                 5         house   \n",
       "\n",
       "   Number of photos of the property on the property page  \\\n",
       "0                                                 23       \n",
       "1                                                 23       \n",
       "2                                                 23       \n",
       "3                                                 23       \n",
       "4                                                 23       \n",
       "\n",
       "   VirtualRealityLaunched test  time did  \n",
       "0                     Yes    1     0   0  \n",
       "1                     Yes    1     0   0  \n",
       "2                     Yes    1     0   0  \n",
       "3                     Yes    1     0   0  \n",
       "4                     Yes    1     0   0  \n",
       "\n",
       "[5 rows x 23 columns]"
      ]
     },
     "execution_count": 23,
     "metadata": {},
     "output_type": "execute_result"
    }
   ],
   "source": [
    "df.head()"
   ]
  },
  {
   "cell_type": "code",
   "execution_count": 24,
   "id": "4a9c29a1",
   "metadata": {},
   "outputs": [],
   "source": [
    "# use diff-in-diff \n",
    "\n",
    "# Booking Amount\n",
    "\n",
    "#Splitting variables into dependent (x) and independent (y) variables\n",
    "x = df[['time', 'test', 'did']]\n",
    "y = df['Booking Amount']\n",
    "\n",
    "y=y.fillna(0)"
   ]
  },
  {
   "cell_type": "code",
   "execution_count": 25,
   "id": "0fc09136",
   "metadata": {},
   "outputs": [],
   "source": [
    "from sklearn.linear_model import LinearRegression\n",
    "\n",
    "model = LinearRegression().fit(x, y)"
   ]
  },
  {
   "cell_type": "code",
   "execution_count": 26,
   "id": "e2746c88",
   "metadata": {},
   "outputs": [
    {
     "data": {
      "text/plain": [
       "array([60.82555841,  2.87894169, -1.51291676])"
      ]
     },
     "execution_count": 26,
     "metadata": {},
     "output_type": "execute_result"
    }
   ],
   "source": [
    "model.coef_"
   ]
  },
  {
   "cell_type": "code",
   "execution_count": 27,
   "id": "78b9c36c",
   "metadata": {},
   "outputs": [
    {
     "name": "stdout",
     "output_type": "stream",
     "text": [
      "                            OLS Regression Results                            \n",
      "==============================================================================\n",
      "Dep. Variable:         Booking Amount   R-squared:                       0.003\n",
      "Model:                            OLS   Adj. R-squared:                  0.003\n",
      "Method:                 Least Squares   F-statistic:                     197.1\n",
      "Date:                Fri, 29 Oct 2021   Prob (F-statistic):          1.04e-127\n",
      "Time:                        15:02:33   Log-Likelihood:            -1.8262e+06\n",
      "No. Observations:              233891   AIC:                         3.652e+06\n",
      "Df Residuals:                  233887   BIC:                         3.653e+06\n",
      "Df Model:                           3                                         \n",
      "Covariance Type:            nonrobust                                         \n",
      "==============================================================================\n",
      "                 coef    std err          t      P>|t|      [0.025      0.975]\n",
      "------------------------------------------------------------------------------\n",
      "const         48.5927      2.971     16.356      0.000      42.770      54.416\n",
      "time          60.8256      4.172     14.580      0.000      52.649      69.002\n",
      "test           2.8789      3.684      0.782      0.434      -4.341      10.099\n",
      "did           -1.5129      5.168     -0.293      0.770     -11.642       8.616\n",
      "==============================================================================\n",
      "Omnibus:                   423270.339   Durbin-Watson:                   1.937\n",
      "Prob(Omnibus):                  0.000   Jarque-Bera (JB):        772751517.572\n",
      "Skew:                          13.276   Prob(JB):                         0.00\n",
      "Kurtosis:                     283.336   Cond. No.                         8.31\n",
      "==============================================================================\n",
      "\n",
      "Notes:\n",
      "[1] Standard Errors assume that the covariance matrix of the errors is correctly specified.\n"
     ]
    }
   ],
   "source": [
    "# Model to get the summary statistics\n",
    "import statsmodels.api as sm\n",
    "\n",
    "X2 = sm.add_constant(x)\n",
    "est = sm.OLS(y, X2)\n",
    "est2 = est.fit()\n",
    "print(est2.summary())\n",
    "\n",
    "# not significant\n",
    "# Coefficients of the variable did provides the true lift of the treatment. \n",
    "# In this case, the treatment has a negative performance on the outcome variable."
   ]
  },
  {
   "cell_type": "code",
   "execution_count": 28,
   "id": "651e731d",
   "metadata": {},
   "outputs": [],
   "source": [
    "# use diff-in-diff \n",
    "\n",
    "# Bookings\n",
    "\n",
    "#Splitting variables into dependent (x) and independent (y) variables\n",
    "x = df[['time', 'test', 'did']]\n",
    "y = df['Bookings']\n",
    "\n",
    "y=y.fillna(0)"
   ]
  },
  {
   "cell_type": "code",
   "execution_count": 29,
   "id": "44868fda",
   "metadata": {},
   "outputs": [],
   "source": [
    "model = LinearRegression().fit(x, y)"
   ]
  },
  {
   "cell_type": "code",
   "execution_count": 30,
   "id": "51db007e",
   "metadata": {},
   "outputs": [
    {
     "data": {
      "text/plain": [
       "array([ 0.02708285,  0.00153903, -0.00463859])"
      ]
     },
     "execution_count": 30,
     "metadata": {},
     "output_type": "execute_result"
    }
   ],
   "source": [
    "model.coef_"
   ]
  },
  {
   "cell_type": "code",
   "execution_count": 31,
   "id": "b3bb15e8",
   "metadata": {},
   "outputs": [
    {
     "name": "stdout",
     "output_type": "stream",
     "text": [
      "                            OLS Regression Results                            \n",
      "==============================================================================\n",
      "Dep. Variable:               Bookings   R-squared:                       0.004\n",
      "Model:                            OLS   Adj. R-squared:                  0.004\n",
      "Method:                 Least Squares   F-statistic:                     310.9\n",
      "Date:                Fri, 29 Oct 2021   Prob (F-statistic):          1.79e-201\n",
      "Time:                        15:02:33   Log-Likelihood:                 54886.\n",
      "No. Observations:              233891   AIC:                        -1.098e+05\n",
      "Df Residuals:                  233887   BIC:                        -1.097e+05\n",
      "Df Model:                           3                                         \n",
      "Covariance Type:            nonrobust                                         \n",
      "==============================================================================\n",
      "                 coef    std err          t      P>|t|      [0.025      0.975]\n",
      "------------------------------------------------------------------------------\n",
      "const          0.0214      0.001     22.376      0.000       0.019       0.023\n",
      "time           0.0271      0.001     20.196      0.000       0.024       0.030\n",
      "test           0.0015      0.001      1.300      0.194      -0.001       0.004\n",
      "did           -0.0046      0.002     -2.792      0.005      -0.008      -0.001\n",
      "==============================================================================\n",
      "Omnibus:                   255586.836   Durbin-Watson:                   1.911\n",
      "Prob(Omnibus):                  0.000   Jarque-Bera (JB):         15151152.073\n",
      "Skew:                           5.830   Prob(JB):                         0.00\n",
      "Kurtosis:                      40.666   Cond. No.                         8.31\n",
      "==============================================================================\n",
      "\n",
      "Notes:\n",
      "[1] Standard Errors assume that the covariance matrix of the errors is correctly specified.\n"
     ]
    }
   ],
   "source": [
    "# Model to get the summary statistics\n",
    "import statsmodels.api as sm\n",
    "\n",
    "X3 = sm.add_constant(x)\n",
    "est = sm.OLS(y, X3)\n",
    "est3 = est.fit()\n",
    "print(est3.summary())"
   ]
  },
  {
   "cell_type": "code",
   "execution_count": 32,
   "id": "2095c86f",
   "metadata": {},
   "outputs": [],
   "source": [
    "# use diff-in-diff \n",
    "\n",
    "# Property page Views/Visits\n",
    "\n",
    "#Splitting variables into dependent (x) and independent (y) variables\n",
    "x = df[['time', 'test', 'did']]\n",
    "y = df['Property page Views/Visits']\n",
    "\n",
    "y=y.fillna(0)"
   ]
  },
  {
   "cell_type": "code",
   "execution_count": 33,
   "id": "37df4711",
   "metadata": {},
   "outputs": [],
   "source": [
    "model = LinearRegression().fit(x, y)"
   ]
  },
  {
   "cell_type": "code",
   "execution_count": 34,
   "id": "bc464e35",
   "metadata": {},
   "outputs": [
    {
     "data": {
      "text/plain": [
       "array([ 6.6445379 , -0.86018939, -0.90546992])"
      ]
     },
     "execution_count": 34,
     "metadata": {},
     "output_type": "execute_result"
    }
   ],
   "source": [
    "model.coef_"
   ]
  },
  {
   "cell_type": "code",
   "execution_count": 35,
   "id": "4c2dae1d",
   "metadata": {},
   "outputs": [
    {
     "name": "stdout",
     "output_type": "stream",
     "text": [
      "                                OLS Regression Results                                \n",
      "======================================================================================\n",
      "Dep. Variable:     Property page Views/Visits   R-squared:                       0.022\n",
      "Model:                                    OLS   Adj. R-squared:                  0.022\n",
      "Method:                         Least Squares   F-statistic:                     1765.\n",
      "Date:                        Fri, 29 Oct 2021   Prob (F-statistic):               0.00\n",
      "Time:                                15:02:33   Log-Likelihood:            -1.0393e+06\n",
      "No. Observations:                      233891   AIC:                         2.079e+06\n",
      "Df Residuals:                          233887   BIC:                         2.079e+06\n",
      "Df Model:                                   3                                         \n",
      "Covariance Type:                    nonrobust                                         \n",
      "==============================================================================\n",
      "                 coef    std err          t      P>|t|      [0.025      0.975]\n",
      "------------------------------------------------------------------------------\n",
      "const          6.7230      0.103     65.436      0.000       6.522       6.924\n",
      "time           6.6445      0.144     46.057      0.000       6.362       6.927\n",
      "test          -0.8602      0.127     -6.753      0.000      -1.110      -0.611\n",
      "did           -0.9055      0.179     -5.066      0.000      -1.256      -0.555\n",
      "==============================================================================\n",
      "Omnibus:                   828904.871   Durbin-Watson:                   0.572\n",
      "Prob(Omnibus):                  0.000   Jarque-Bera (JB):    1749150068205.043\n",
      "Skew:                          69.786   Prob(JB):                         0.00\n",
      "Kurtosis:                   13399.422   Cond. No.                         8.31\n",
      "==============================================================================\n",
      "\n",
      "Notes:\n",
      "[1] Standard Errors assume that the covariance matrix of the errors is correctly specified.\n"
     ]
    }
   ],
   "source": [
    "# Model to get the summary statistics\n",
    "import statsmodels.api as sm\n",
    "\n",
    "X4 = sm.add_constant(x)\n",
    "est = sm.OLS(y, X4)\n",
    "est4 = est.fit()\n",
    "print(est4.summary())\n",
    "# significant\n",
    "# Coefficients of the variable did provides the true lift of the treatment. \n",
    "# In this case, the treatment has a negative performance on the outcome variable."
   ]
  },
  {
   "cell_type": "code",
   "execution_count": 36,
   "id": "75719b3f",
   "metadata": {},
   "outputs": [],
   "source": [
    "# use diff-in-diff \n",
    "\n",
    "# Number of times the property got displayed in search page\n",
    "\n",
    "#Splitting variables into dependent (x) and independent (y) variables\n",
    "x = df[['time', 'test', 'did']]\n",
    "y = df['Number of times the property got displayed in search page']\n",
    "\n",
    "y=y.fillna(0)\n"
   ]
  },
  {
   "cell_type": "code",
   "execution_count": 37,
   "id": "6f1a5819",
   "metadata": {},
   "outputs": [],
   "source": [
    "model = LinearRegression().fit(x, y)"
   ]
  },
  {
   "cell_type": "code",
   "execution_count": 38,
   "id": "141bbdec",
   "metadata": {},
   "outputs": [
    {
     "data": {
      "text/plain": [
       "array([154.70610862,   1.27363174,  -4.92606139])"
      ]
     },
     "execution_count": 38,
     "metadata": {},
     "output_type": "execute_result"
    }
   ],
   "source": [
    "model.coef_"
   ]
  },
  {
   "cell_type": "code",
   "execution_count": 39,
   "id": "71d6c80f",
   "metadata": {
    "scrolled": true
   },
   "outputs": [
    {
     "name": "stdout",
     "output_type": "stream",
     "text": [
      "                                                OLS Regression Results                                               \n",
      "=====================================================================================================================\n",
      "Dep. Variable:     Number of times the property got displayed in search page   R-squared:                       0.017\n",
      "Model:                                                                   OLS   Adj. R-squared:                  0.017\n",
      "Method:                                                        Least Squares   F-statistic:                     1329.\n",
      "Date:                                                       Fri, 29 Oct 2021   Prob (F-statistic):               0.00\n",
      "Time:                                                               15:02:33   Log-Likelihood:            -1.8202e+06\n",
      "No. Observations:                                                     233891   AIC:                         3.640e+06\n",
      "Df Residuals:                                                         233887   BIC:                         3.640e+06\n",
      "Df Model:                                                                  3                                         \n",
      "Covariance Type:                                                   nonrobust                                         \n",
      "==============================================================================\n",
      "                 coef    std err          t      P>|t|      [0.025      0.975]\n",
      "------------------------------------------------------------------------------\n",
      "const        272.3955      2.895     94.085      0.000     266.721     278.070\n",
      "time         154.7061      4.065     38.054      0.000     146.738     162.674\n",
      "test           1.2736      3.590      0.355      0.723      -5.762       8.309\n",
      "did           -4.9261      5.036     -0.978      0.328     -14.797       4.945\n",
      "==============================================================================\n",
      "Omnibus:                   614144.076   Durbin-Watson:                   0.449\n",
      "Prob(Omnibus):                  0.000   Jarque-Bera (JB):      41475741630.807\n",
      "Skew:                          30.541   Prob(JB):                         0.00\n",
      "Kurtosis:                    2065.080   Cond. No.                         8.31\n",
      "==============================================================================\n",
      "\n",
      "Notes:\n",
      "[1] Standard Errors assume that the covariance matrix of the errors is correctly specified.\n"
     ]
    }
   ],
   "source": [
    "# Model to get the summary statistics\n",
    "import statsmodels.api as sm\n",
    "\n",
    "X5 = sm.add_constant(x)\n",
    "est = sm.OLS(y, X5)\n",
    "est5 = est.fit()\n",
    "print(est5.summary())"
   ]
  }
 ],
 "metadata": {
  "kernelspec": {
   "display_name": "Python 3 (ipykernel)",
   "language": "python",
   "name": "python3"
  },
  "language_info": {
   "codemirror_mode": {
    "name": "ipython",
    "version": 3
   },
   "file_extension": ".py",
   "mimetype": "text/x-python",
   "name": "python",
   "nbconvert_exporter": "python",
   "pygments_lexer": "ipython3",
   "version": "3.9.1"
  }
 },
 "nbformat": 4,
 "nbformat_minor": 5
}
