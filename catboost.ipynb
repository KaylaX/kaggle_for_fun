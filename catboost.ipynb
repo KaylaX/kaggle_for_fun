{
 "cells": [
  {
   "cell_type": "markdown",
   "id": "eca90b70",
   "metadata": {},
   "source": [
    "## Amazon.com - Employee Access Challenge from Kaggle\n",
    "The orginal challenge link is here: https://www.kaggle.com/c/amazon-employee-access-challenge/data\n",
    "### Build an ML model to predict whether the access is granted (1) or not (0).\n",
    "\n",
    "About CatBoost:\n",
    "\n",
    "* A boosting method that focuses on processing categorical features and boosting trees with some “ordering principle”.\n",
    "* The main take-away is to apply ordering principle in:\n",
    " * Target encoding categorical features\n",
    " * Boosting trees\n",
    "*  fight a prediction shift caused by a special kind of target leakage\n",
    "* https://arxiv.org/pdf/1706.09516.pdf"
   ]
  },
  {
   "cell_type": "code",
   "execution_count": 1,
   "id": "7e280d6c",
   "metadata": {},
   "outputs": [
    {
     "name": "stdout",
     "output_type": "stream",
     "text": [
      "\u001b[33mDEPRECATION: Configuring installation scheme with distutils config files is deprecated and will no longer work in the near future. If you are using a Homebrew or Linuxbrew Python, please see discussion at https://github.com/Homebrew/homebrew-core/issues/76621\u001b[0m\r\n"
     ]
    }
   ],
   "source": [
    "! pip install -q -U catboost==0.26.1"
   ]
  },
  {
   "cell_type": "code",
   "execution_count": 2,
   "id": "6af67acc",
   "metadata": {},
   "outputs": [],
   "source": [
    "import pandas as pd\n",
    "import numpy as np\n",
    "from catboost import CatBoostClassifier\n",
    "from sklearn.model_selection import train_test_split\n",
    "from sklearn.metrics import classification_report"
   ]
  },
  {
   "cell_type": "code",
   "execution_count": 3,
   "id": "8daec5ed",
   "metadata": {},
   "outputs": [],
   "source": [
    "data = pd.read_csv(\"../final_project/kaggle_amazon_employee_dataset.csv\")"
   ]
  },
  {
   "cell_type": "code",
   "execution_count": 4,
   "id": "c2d3d671",
   "metadata": {},
   "outputs": [
    {
     "data": {
      "text/html": [
       "<div>\n",
       "<style scoped>\n",
       "    .dataframe tbody tr th:only-of-type {\n",
       "        vertical-align: middle;\n",
       "    }\n",
       "\n",
       "    .dataframe tbody tr th {\n",
       "        vertical-align: top;\n",
       "    }\n",
       "\n",
       "    .dataframe thead th {\n",
       "        text-align: right;\n",
       "    }\n",
       "</style>\n",
       "<table border=\"1\" class=\"dataframe\">\n",
       "  <thead>\n",
       "    <tr style=\"text-align: right;\">\n",
       "      <th></th>\n",
       "      <th>ACTION</th>\n",
       "      <th>RESOURCE</th>\n",
       "      <th>MGR_ID</th>\n",
       "      <th>ROLE_ROLLUP_1</th>\n",
       "      <th>ROLE_ROLLUP_2</th>\n",
       "      <th>ROLE_DEPTNAME</th>\n",
       "      <th>ROLE_TITLE</th>\n",
       "      <th>ROLE_FAMILY_DESC</th>\n",
       "      <th>ROLE_FAMILY</th>\n",
       "      <th>ROLE_CODE</th>\n",
       "    </tr>\n",
       "  </thead>\n",
       "  <tbody>\n",
       "    <tr>\n",
       "      <th>0</th>\n",
       "      <td>1</td>\n",
       "      <td>39353</td>\n",
       "      <td>85475</td>\n",
       "      <td>117961</td>\n",
       "      <td>118300</td>\n",
       "      <td>123472</td>\n",
       "      <td>117905</td>\n",
       "      <td>117906</td>\n",
       "      <td>290919</td>\n",
       "      <td>117908</td>\n",
       "    </tr>\n",
       "    <tr>\n",
       "      <th>1</th>\n",
       "      <td>1</td>\n",
       "      <td>17183</td>\n",
       "      <td>1540</td>\n",
       "      <td>117961</td>\n",
       "      <td>118343</td>\n",
       "      <td>123125</td>\n",
       "      <td>118536</td>\n",
       "      <td>118536</td>\n",
       "      <td>308574</td>\n",
       "      <td>118539</td>\n",
       "    </tr>\n",
       "    <tr>\n",
       "      <th>2</th>\n",
       "      <td>1</td>\n",
       "      <td>36724</td>\n",
       "      <td>14457</td>\n",
       "      <td>118219</td>\n",
       "      <td>118220</td>\n",
       "      <td>117884</td>\n",
       "      <td>117879</td>\n",
       "      <td>267952</td>\n",
       "      <td>19721</td>\n",
       "      <td>117880</td>\n",
       "    </tr>\n",
       "    <tr>\n",
       "      <th>3</th>\n",
       "      <td>1</td>\n",
       "      <td>36135</td>\n",
       "      <td>5396</td>\n",
       "      <td>117961</td>\n",
       "      <td>118343</td>\n",
       "      <td>119993</td>\n",
       "      <td>118321</td>\n",
       "      <td>240983</td>\n",
       "      <td>290919</td>\n",
       "      <td>118322</td>\n",
       "    </tr>\n",
       "    <tr>\n",
       "      <th>4</th>\n",
       "      <td>1</td>\n",
       "      <td>42680</td>\n",
       "      <td>5905</td>\n",
       "      <td>117929</td>\n",
       "      <td>117930</td>\n",
       "      <td>119569</td>\n",
       "      <td>119323</td>\n",
       "      <td>123932</td>\n",
       "      <td>19793</td>\n",
       "      <td>119325</td>\n",
       "    </tr>\n",
       "    <tr>\n",
       "      <th>5</th>\n",
       "      <td>0</td>\n",
       "      <td>45333</td>\n",
       "      <td>14561</td>\n",
       "      <td>117951</td>\n",
       "      <td>117952</td>\n",
       "      <td>118008</td>\n",
       "      <td>118568</td>\n",
       "      <td>118568</td>\n",
       "      <td>19721</td>\n",
       "      <td>118570</td>\n",
       "    </tr>\n",
       "    <tr>\n",
       "      <th>6</th>\n",
       "      <td>1</td>\n",
       "      <td>25993</td>\n",
       "      <td>17227</td>\n",
       "      <td>117961</td>\n",
       "      <td>118343</td>\n",
       "      <td>123476</td>\n",
       "      <td>118980</td>\n",
       "      <td>301534</td>\n",
       "      <td>118295</td>\n",
       "      <td>118982</td>\n",
       "    </tr>\n",
       "    <tr>\n",
       "      <th>7</th>\n",
       "      <td>1</td>\n",
       "      <td>19666</td>\n",
       "      <td>4209</td>\n",
       "      <td>117961</td>\n",
       "      <td>117969</td>\n",
       "      <td>118910</td>\n",
       "      <td>126820</td>\n",
       "      <td>269034</td>\n",
       "      <td>118638</td>\n",
       "      <td>126822</td>\n",
       "    </tr>\n",
       "    <tr>\n",
       "      <th>8</th>\n",
       "      <td>1</td>\n",
       "      <td>31246</td>\n",
       "      <td>783</td>\n",
       "      <td>117961</td>\n",
       "      <td>118413</td>\n",
       "      <td>120584</td>\n",
       "      <td>128230</td>\n",
       "      <td>302830</td>\n",
       "      <td>4673</td>\n",
       "      <td>128231</td>\n",
       "    </tr>\n",
       "    <tr>\n",
       "      <th>9</th>\n",
       "      <td>1</td>\n",
       "      <td>78766</td>\n",
       "      <td>56683</td>\n",
       "      <td>118079</td>\n",
       "      <td>118080</td>\n",
       "      <td>117878</td>\n",
       "      <td>117879</td>\n",
       "      <td>304519</td>\n",
       "      <td>19721</td>\n",
       "      <td>117880</td>\n",
       "    </tr>\n",
       "  </tbody>\n",
       "</table>\n",
       "</div>"
      ],
      "text/plain": [
       "   ACTION  RESOURCE  MGR_ID  ROLE_ROLLUP_1  ROLE_ROLLUP_2  ROLE_DEPTNAME  \\\n",
       "0       1     39353   85475         117961         118300         123472   \n",
       "1       1     17183    1540         117961         118343         123125   \n",
       "2       1     36724   14457         118219         118220         117884   \n",
       "3       1     36135    5396         117961         118343         119993   \n",
       "4       1     42680    5905         117929         117930         119569   \n",
       "5       0     45333   14561         117951         117952         118008   \n",
       "6       1     25993   17227         117961         118343         123476   \n",
       "7       1     19666    4209         117961         117969         118910   \n",
       "8       1     31246     783         117961         118413         120584   \n",
       "9       1     78766   56683         118079         118080         117878   \n",
       "\n",
       "   ROLE_TITLE  ROLE_FAMILY_DESC  ROLE_FAMILY  ROLE_CODE  \n",
       "0      117905            117906       290919     117908  \n",
       "1      118536            118536       308574     118539  \n",
       "2      117879            267952        19721     117880  \n",
       "3      118321            240983       290919     118322  \n",
       "4      119323            123932        19793     119325  \n",
       "5      118568            118568        19721     118570  \n",
       "6      118980            301534       118295     118982  \n",
       "7      126820            269034       118638     126822  \n",
       "8      128230            302830         4673     128231  \n",
       "9      117879            304519        19721     117880  "
      ]
     },
     "execution_count": 4,
     "metadata": {},
     "output_type": "execute_result"
    }
   ],
   "source": [
    "data.head(10)"
   ]
  },
  {
   "cell_type": "code",
   "execution_count": 5,
   "id": "15936d9e",
   "metadata": {},
   "outputs": [
    {
     "data": {
      "text/plain": [
       "1    30872\n",
       "0     1897\n",
       "Name: ACTION, dtype: int64"
      ]
     },
     "execution_count": 5,
     "metadata": {},
     "output_type": "execute_result"
    }
   ],
   "source": [
    "data[\"ACTION\"].value_counts()"
   ]
  },
  {
   "cell_type": "code",
   "execution_count": 6,
   "id": "d70c404d",
   "metadata": {},
   "outputs": [],
   "source": [
    "y = data[\"ACTION\"]\n",
    "X = data.drop(columns=\"ACTION\")"
   ]
  },
  {
   "cell_type": "code",
   "execution_count": 7,
   "id": "a6f337a2",
   "metadata": {},
   "outputs": [],
   "source": [
    "X_train, X_valid, y_train, y_valid = train_test_split(\n",
    "    X, y, test_size=0.15, random_state=136, stratify=y)\n",
    "# stratify parameter makes a split so that the proportion of values in the sample produced \n",
    "# will be the same as the proportion of values provided to parameter stratify"
   ]
  },
  {
   "cell_type": "code",
   "execution_count": 8,
   "id": "00970aeb",
   "metadata": {},
   "outputs": [
    {
     "data": {
      "text/plain": [
       "Index(['RESOURCE', 'MGR_ID', 'ROLE_ROLLUP_1', 'ROLE_ROLLUP_2', 'ROLE_DEPTNAME',\n",
       "       'ROLE_TITLE', 'ROLE_FAMILY_DESC', 'ROLE_FAMILY', 'ROLE_CODE'],\n",
       "      dtype='object')"
      ]
     },
     "execution_count": 8,
     "metadata": {},
     "output_type": "execute_result"
    }
   ],
   "source": [
    "X.columns"
   ]
  },
  {
   "cell_type": "code",
   "execution_count": 9,
   "id": "3e502a13",
   "metadata": {},
   "outputs": [
    {
     "name": "stdout",
     "output_type": "stream",
     "text": [
      "Learning rate set to 0.145159\n",
      "0:\tlearn: 0.7106759\ttest: 0.7534392\tbest: 0.7534392 (0)\ttotal: 88.5ms\tremaining: 17.6s\n",
      "199:\tlearn: 0.8829115\ttest: 0.8481463\tbest: 0.8540151 (106)\ttotal: 7.4s\tremaining: 0us\n",
      "\n",
      "bestTest = 0.8540151035\n",
      "bestIteration = 106\n",
      "\n",
      "Shrink model to first 107 iterations.\n"
     ]
    },
    {
     "data": {
      "text/plain": [
       "<catboost.core.CatBoostClassifier at 0x15111ad90>"
      ]
     },
     "execution_count": 9,
     "metadata": {},
     "output_type": "execute_result"
    }
   ],
   "source": [
    "# CatBoostClassifier\n",
    "\n",
    "# since this is an imbalanced dataset\n",
    "# we will need to calculate the class wegihts and then fit the tree classifier\n",
    "class_weight_0 = (sum(y_train == 0) + sum(y_train == 1)) / sum(y_train == 0)\n",
    "class_weight_1 = (sum(y_train == 0) + sum(y_train == 1)) / sum(y_train == 1)\n",
    "\n",
    "params = {\n",
    "    \"loss_function\": \"Logloss\",  # Some others: CrossEntropy\n",
    "    \"eval_metric\": \"F1\",  # Some others: Accuracy, Precision, Recall, F1, AUC\n",
    "    \"verbose\": 200,  # output training process at every 200 iterations\n",
    "    \"random_seed\": 136,\n",
    "    \"iterations\": 200,\n",
    "    \"class_weights\": [class_weight_0, class_weight_1],\n",
    "}\n",
    "\n",
    "# All input features are categorical\n",
    "cat_features = [0, 1, 2, 3, 4, 5, 6, 7, 8] # categorical columns indices\n",
    "cb_classifier = CatBoostClassifier(**params)\n",
    "cb_classifier.fit(\n",
    "    X_train,\n",
    "    y_train,\n",
    "    eval_set=(X_valid, y_valid),  # data to validate on\n",
    "    use_best_model=True,\n",
    "    cat_features=cat_features,\n",
    ")"
   ]
  },
  {
   "cell_type": "code",
   "execution_count": 10,
   "id": "e2d5021b",
   "metadata": {},
   "outputs": [
    {
     "name": "stdout",
     "output_type": "stream",
     "text": [
      "              precision    recall  f1-score   support\n",
      "\n",
      "           0       0.33      0.79      0.47       285\n",
      "           1       0.99      0.90      0.94      4631\n",
      "\n",
      "    accuracy                           0.90      4916\n",
      "   macro avg       0.66      0.85      0.71      4916\n",
      "weighted avg       0.95      0.90      0.91      4916\n",
      "\n"
     ]
    }
   ],
   "source": [
    "# make predictions\n",
    "y_pred = cb_classifier.predict(X_valid)\n",
    "\n",
    "print(classification_report(y_valid, np.round(y_pred)))"
   ]
  },
  {
   "cell_type": "code",
   "execution_count": 11,
   "id": "63aab044",
   "metadata": {},
   "outputs": [
    {
     "data": {
      "text/html": [
       "<div>\n",
       "<style scoped>\n",
       "    .dataframe tbody tr th:only-of-type {\n",
       "        vertical-align: middle;\n",
       "    }\n",
       "\n",
       "    .dataframe tbody tr th {\n",
       "        vertical-align: top;\n",
       "    }\n",
       "\n",
       "    .dataframe thead th {\n",
       "        text-align: right;\n",
       "    }\n",
       "</style>\n",
       "<table border=\"1\" class=\"dataframe\">\n",
       "  <thead>\n",
       "    <tr style=\"text-align: right;\">\n",
       "      <th></th>\n",
       "      <th>feature_importance</th>\n",
       "      <th>feature_names</th>\n",
       "    </tr>\n",
       "  </thead>\n",
       "  <tbody>\n",
       "    <tr>\n",
       "      <th>0</th>\n",
       "      <td>20.403600</td>\n",
       "      <td>RESOURCE</td>\n",
       "    </tr>\n",
       "    <tr>\n",
       "      <th>1</th>\n",
       "      <td>20.328335</td>\n",
       "      <td>MGR_ID</td>\n",
       "    </tr>\n",
       "    <tr>\n",
       "      <th>4</th>\n",
       "      <td>13.009229</td>\n",
       "      <td>ROLE_DEPTNAME</td>\n",
       "    </tr>\n",
       "    <tr>\n",
       "      <th>6</th>\n",
       "      <td>10.374070</td>\n",
       "      <td>ROLE_FAMILY_DESC</td>\n",
       "    </tr>\n",
       "    <tr>\n",
       "      <th>3</th>\n",
       "      <td>10.151340</td>\n",
       "      <td>ROLE_ROLLUP_2</td>\n",
       "    </tr>\n",
       "    <tr>\n",
       "      <th>7</th>\n",
       "      <td>7.272918</td>\n",
       "      <td>ROLE_FAMILY</td>\n",
       "    </tr>\n",
       "    <tr>\n",
       "      <th>5</th>\n",
       "      <td>6.318493</td>\n",
       "      <td>ROLE_TITLE</td>\n",
       "    </tr>\n",
       "    <tr>\n",
       "      <th>2</th>\n",
       "      <td>6.095671</td>\n",
       "      <td>ROLE_ROLLUP_1</td>\n",
       "    </tr>\n",
       "    <tr>\n",
       "      <th>8</th>\n",
       "      <td>6.046343</td>\n",
       "      <td>ROLE_CODE</td>\n",
       "    </tr>\n",
       "  </tbody>\n",
       "</table>\n",
       "</div>"
      ],
      "text/plain": [
       "   feature_importance     feature_names\n",
       "0           20.403600          RESOURCE\n",
       "1           20.328335            MGR_ID\n",
       "4           13.009229     ROLE_DEPTNAME\n",
       "6           10.374070  ROLE_FAMILY_DESC\n",
       "3           10.151340     ROLE_ROLLUP_2\n",
       "7            7.272918       ROLE_FAMILY\n",
       "5            6.318493        ROLE_TITLE\n",
       "2            6.095671     ROLE_ROLLUP_1\n",
       "8            6.046343         ROLE_CODE"
      ]
     },
     "execution_count": 11,
     "metadata": {},
     "output_type": "execute_result"
    }
   ],
   "source": [
    "# get feature importance\n",
    "pd.DataFrame({'feature_importance': cb_classifier.get_feature_importance(), \n",
    "              'feature_names': X_train.columns}).sort_values(by=['feature_importance'], \n",
    "                                                           ascending=False)"
   ]
  },
  {
   "cell_type": "code",
   "execution_count": 12,
   "id": "cd28d772",
   "metadata": {},
   "outputs": [
    {
     "data": {
      "text/plain": [
       "array([20.4036    , 20.32833546,  6.09567139, 10.15134001, 13.00922937,\n",
       "        6.31849265, 10.3740701 ,  7.27291828,  6.04634273])"
      ]
     },
     "execution_count": 12,
     "metadata": {},
     "output_type": "execute_result"
    }
   ],
   "source": [
    "cb_classifier.get_feature_importance()"
   ]
  },
  {
   "cell_type": "code",
   "execution_count": null,
   "id": "e0b987a5",
   "metadata": {},
   "outputs": [],
   "source": []
  }
 ],
 "metadata": {
  "kernelspec": {
   "display_name": "Python 3 (ipykernel)",
   "language": "python",
   "name": "python3"
  },
  "language_info": {
   "codemirror_mode": {
    "name": "ipython",
    "version": 3
   },
   "file_extension": ".py",
   "mimetype": "text/x-python",
   "name": "python",
   "nbconvert_exporter": "python",
   "pygments_lexer": "ipython3",
   "version": "3.9.1"
  }
 },
 "nbformat": 4,
 "nbformat_minor": 5
}
